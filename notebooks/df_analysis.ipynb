{
 "cells": [
  {
   "cell_type": "code",
   "execution_count": 1,
   "id": "3084acc6",
   "metadata": {},
   "outputs": [],
   "source": [
    "import warnings\n",
    "\n",
    "warnings.filterwarnings(\"ignore\")\n",
    "\n",
    "import os\n",
    "import sys\n",
    "\n",
    "import pickle\n",
    "\n",
    "import numpy as np\n",
    "import pandas as pd\n",
    "\n",
    "pd.options.display.float_format = \"{:.5f}\".format\n",
    "\n",
    "import matplotlib.image as mpimg\n",
    "import matplotlib.pyplot as plt\n",
    "import PIL\n",
    "from pillow_heif import register_heif_opener\n",
    "register_heif_opener()"
   ]
  },
  {
   "cell_type": "code",
   "execution_count": 2,
   "id": "b6cc8307",
   "metadata": {},
   "outputs": [],
   "source": [
    "CWD = os.getcwd()\n",
    "PY8TB_PATH = os.path.dirname(CWD)\n",
    "SAVE_PATH = os.path.join(PY8TB_PATH, \"data\")\n",
    "DF_PATH = os.path.join(SAVE_PATH, \"df_2024_06_30_18_08_37.parquet.gzip\")"
   ]
  },
  {
   "cell_type": "code",
   "execution_count": 3,
   "id": "21637ae4",
   "metadata": {},
   "outputs": [],
   "source": [
    "sys.path.insert(0, PY8TB_PATH)"
   ]
  },
  {
   "cell_type": "code",
   "execution_count": 4,
   "id": "b63a4fd7",
   "metadata": {},
   "outputs": [],
   "source": [
    "from py8tb import preprocessing_pipeline"
   ]
  },
  {
   "cell_type": "markdown",
   "id": "7ef72a65",
   "metadata": {},
   "source": [
    "# Análisis y preprocesamiento de df"
   ]
  },
  {
   "cell_type": "code",
   "execution_count": 5,
   "id": "d2cdb032",
   "metadata": {},
   "outputs": [],
   "source": [
    "df = preprocessing_pipeline(path=DF_PATH)"
   ]
  },
  {
   "cell_type": "code",
   "execution_count": 6,
   "id": "c6de2714",
   "metadata": {},
   "outputs": [],
   "source": [
    "photos = df[df[\"FileType\"] == \"photo\"]"
   ]
  },
  {
   "cell_type": "code",
   "execution_count": 7,
   "id": "614fdda9",
   "metadata": {},
   "outputs": [],
   "source": [
    "with open(os.path.join(SAVE_PATH, \"photos_sha256.pkl\"), \"rb\") as f:\n",
    "    photos_sha256 = pickle.load(f)\n",
    "    photos_sha256 = pd.DataFrame(data=photos_sha256, columns=[\"FilePath\", \"Sha256\"])"
   ]
  },
  {
   "cell_type": "code",
   "execution_count": 8,
   "id": "2bbcfc15",
   "metadata": {},
   "outputs": [
    {
     "data": {
      "text/plain": [
       "Sha256\n",
       "64    114951\n",
       "Name: count, dtype: int64"
      ]
     },
     "execution_count": 8,
     "metadata": {},
     "output_type": "execute_result"
    }
   ],
   "source": [
    "photos_sha256[\"Sha256\"].apply(len).value_counts()"
   ]
  },
  {
   "cell_type": "code",
   "execution_count": 9,
   "id": "46a1b96f",
   "metadata": {},
   "outputs": [
    {
     "data": {
      "text/html": [
       "<div>\n",
       "<style scoped>\n",
       "    .dataframe tbody tr th:only-of-type {\n",
       "        vertical-align: middle;\n",
       "    }\n",
       "\n",
       "    .dataframe tbody tr th {\n",
       "        vertical-align: top;\n",
       "    }\n",
       "\n",
       "    .dataframe thead th {\n",
       "        text-align: right;\n",
       "    }\n",
       "</style>\n",
       "<table border=\"1\" class=\"dataframe\">\n",
       "  <thead>\n",
       "    <tr style=\"text-align: right;\">\n",
       "      <th></th>\n",
       "      <th>FilePath</th>\n",
       "      <th>CreationDate</th>\n",
       "      <th>LastModificationDate</th>\n",
       "      <th>SizeMB</th>\n",
       "      <th>FileName</th>\n",
       "      <th>FileExtension</th>\n",
       "      <th>FileType</th>\n",
       "    </tr>\n",
       "  </thead>\n",
       "  <tbody>\n",
       "    <tr>\n",
       "      <th>54</th>\n",
       "      <td>/Volumes/MUPU_4TB_1/code/kaggle_datasets/bobby...</td>\n",
       "      <td>2023-01-07 16:59:12</td>\n",
       "      <td>2020-07-20 11:58:42</td>\n",
       "      <td>0.29537</td>\n",
       "      <td>bobby.png</td>\n",
       "      <td>.png</td>\n",
       "      <td>photo</td>\n",
       "    </tr>\n",
       "    <tr>\n",
       "      <th>61</th>\n",
       "      <td>/Volumes/MUPU_4TB_1/code/kaggle_datasets/Denal...</td>\n",
       "      <td>2023-01-07 16:59:12</td>\n",
       "      <td>2020-01-25 15:33:18</td>\n",
       "      <td>0.02980</td>\n",
       "      <td>Denali Mt McKinley.jpg</td>\n",
       "      <td>.jpg</td>\n",
       "      <td>photo</td>\n",
       "    </tr>\n",
       "    <tr>\n",
       "      <th>67</th>\n",
       "      <td>/Volumes/MUPU_4TB_1/code/kaggle_datasets/Figur...</td>\n",
       "      <td>2023-01-07 16:59:11</td>\n",
       "      <td>2020-04-18 20:21:12</td>\n",
       "      <td>0.02575</td>\n",
       "      <td>FigureAxesMPL.png</td>\n",
       "      <td>.png</td>\n",
       "      <td>photo</td>\n",
       "    </tr>\n",
       "    <tr>\n",
       "      <th>81</th>\n",
       "      <td>/Volumes/MUPU_4TB_1/code/kaggle_datasets/Logis...</td>\n",
       "      <td>2023-01-07 16:59:09</td>\n",
       "      <td>2020-04-10 08:10:50</td>\n",
       "      <td>0.10171</td>\n",
       "      <td>LogisticRegression.jpg</td>\n",
       "      <td>.jpg</td>\n",
       "      <td>photo</td>\n",
       "    </tr>\n",
       "    <tr>\n",
       "      <th>86</th>\n",
       "      <td>/Volumes/MUPU_4TB_1/code/kaggle_datasets/MPLAr...</td>\n",
       "      <td>2023-01-07 17:00:12</td>\n",
       "      <td>2020-04-18 21:22:12</td>\n",
       "      <td>0.02580</td>\n",
       "      <td>MPLArchitecture.png</td>\n",
       "      <td>.png</td>\n",
       "      <td>photo</td>\n",
       "    </tr>\n",
       "  </tbody>\n",
       "</table>\n",
       "</div>"
      ],
      "text/plain": [
       "                                             FilePath        CreationDate  \\\n",
       "54  /Volumes/MUPU_4TB_1/code/kaggle_datasets/bobby... 2023-01-07 16:59:12   \n",
       "61  /Volumes/MUPU_4TB_1/code/kaggle_datasets/Denal... 2023-01-07 16:59:12   \n",
       "67  /Volumes/MUPU_4TB_1/code/kaggle_datasets/Figur... 2023-01-07 16:59:11   \n",
       "81  /Volumes/MUPU_4TB_1/code/kaggle_datasets/Logis... 2023-01-07 16:59:09   \n",
       "86  /Volumes/MUPU_4TB_1/code/kaggle_datasets/MPLAr... 2023-01-07 17:00:12   \n",
       "\n",
       "   LastModificationDate  SizeMB                FileName FileExtension FileType  \n",
       "54  2020-07-20 11:58:42 0.29537               bobby.png          .png    photo  \n",
       "61  2020-01-25 15:33:18 0.02980  Denali Mt McKinley.jpg          .jpg    photo  \n",
       "67  2020-04-18 20:21:12 0.02575       FigureAxesMPL.png          .png    photo  \n",
       "81  2020-04-10 08:10:50 0.10171  LogisticRegression.jpg          .jpg    photo  \n",
       "86  2020-04-18 21:22:12 0.02580     MPLArchitecture.png          .png    photo  "
      ]
     },
     "execution_count": 9,
     "metadata": {},
     "output_type": "execute_result"
    }
   ],
   "source": [
    "photos.head()"
   ]
  },
  {
   "cell_type": "code",
   "execution_count": 10,
   "id": "59eec875",
   "metadata": {},
   "outputs": [
    {
     "data": {
      "text/html": [
       "<div>\n",
       "<style scoped>\n",
       "    .dataframe tbody tr th:only-of-type {\n",
       "        vertical-align: middle;\n",
       "    }\n",
       "\n",
       "    .dataframe tbody tr th {\n",
       "        vertical-align: top;\n",
       "    }\n",
       "\n",
       "    .dataframe thead th {\n",
       "        text-align: right;\n",
       "    }\n",
       "</style>\n",
       "<table border=\"1\" class=\"dataframe\">\n",
       "  <thead>\n",
       "    <tr style=\"text-align: right;\">\n",
       "      <th></th>\n",
       "      <th>FilePath</th>\n",
       "      <th>Sha256</th>\n",
       "    </tr>\n",
       "  </thead>\n",
       "  <tbody>\n",
       "    <tr>\n",
       "      <th>0</th>\n",
       "      <td>/Volumes/MUPU_4TB_1/code/kaggle_datasets/bobby...</td>\n",
       "      <td>c299e1e38511f982498f8e181ca300fe3eddad8b241159...</td>\n",
       "    </tr>\n",
       "    <tr>\n",
       "      <th>1</th>\n",
       "      <td>/Volumes/MUPU_4TB_1/code/kaggle_datasets/Denal...</td>\n",
       "      <td>d9cd8cba8cc65cd24e7eb9b6537462488a47e286d7d719...</td>\n",
       "    </tr>\n",
       "    <tr>\n",
       "      <th>2</th>\n",
       "      <td>/Volumes/MUPU_4TB_1/code/kaggle_datasets/Figur...</td>\n",
       "      <td>7c3eff6b4237af20a75631867b93e91b13958e717637a6...</td>\n",
       "    </tr>\n",
       "    <tr>\n",
       "      <th>3</th>\n",
       "      <td>/Volumes/MUPU_4TB_1/code/kaggle_datasets/Logis...</td>\n",
       "      <td>26048ccd2858c3e090fec613141fbf9cbcad7b5a87923f...</td>\n",
       "    </tr>\n",
       "    <tr>\n",
       "      <th>4</th>\n",
       "      <td>/Volumes/MUPU_4TB_1/code/kaggle_datasets/MPLAr...</td>\n",
       "      <td>290ebbce76730269474a23a2f588860862868c2d939534...</td>\n",
       "    </tr>\n",
       "  </tbody>\n",
       "</table>\n",
       "</div>"
      ],
      "text/plain": [
       "                                            FilePath  \\\n",
       "0  /Volumes/MUPU_4TB_1/code/kaggle_datasets/bobby...   \n",
       "1  /Volumes/MUPU_4TB_1/code/kaggle_datasets/Denal...   \n",
       "2  /Volumes/MUPU_4TB_1/code/kaggle_datasets/Figur...   \n",
       "3  /Volumes/MUPU_4TB_1/code/kaggle_datasets/Logis...   \n",
       "4  /Volumes/MUPU_4TB_1/code/kaggle_datasets/MPLAr...   \n",
       "\n",
       "                                              Sha256  \n",
       "0  c299e1e38511f982498f8e181ca300fe3eddad8b241159...  \n",
       "1  d9cd8cba8cc65cd24e7eb9b6537462488a47e286d7d719...  \n",
       "2  7c3eff6b4237af20a75631867b93e91b13958e717637a6...  \n",
       "3  26048ccd2858c3e090fec613141fbf9cbcad7b5a87923f...  \n",
       "4  290ebbce76730269474a23a2f588860862868c2d939534...  "
      ]
     },
     "execution_count": 10,
     "metadata": {},
     "output_type": "execute_result"
    }
   ],
   "source": [
    "photos_sha256.head()"
   ]
  },
  {
   "cell_type": "code",
   "execution_count": 11,
   "id": "6f9f5d34",
   "metadata": {},
   "outputs": [],
   "source": [
    "photos = pd.merge(\n",
    "    left=photos,\n",
    "    right=photos_sha256,\n",
    "    how=\"left\",\n",
    "    right_on=\"FilePath\",\n",
    "    left_on=\"FilePath\",\n",
    ")"
   ]
  },
  {
   "cell_type": "code",
   "execution_count": 12,
   "id": "0bf7c4c0",
   "metadata": {},
   "outputs": [
    {
     "data": {
      "text/html": [
       "<div>\n",
       "<style scoped>\n",
       "    .dataframe tbody tr th:only-of-type {\n",
       "        vertical-align: middle;\n",
       "    }\n",
       "\n",
       "    .dataframe tbody tr th {\n",
       "        vertical-align: top;\n",
       "    }\n",
       "\n",
       "    .dataframe thead th {\n",
       "        text-align: right;\n",
       "    }\n",
       "</style>\n",
       "<table border=\"1\" class=\"dataframe\">\n",
       "  <thead>\n",
       "    <tr style=\"text-align: right;\">\n",
       "      <th></th>\n",
       "      <th>FilePath</th>\n",
       "      <th>CreationDate</th>\n",
       "      <th>LastModificationDate</th>\n",
       "      <th>SizeMB</th>\n",
       "      <th>FileName</th>\n",
       "      <th>FileExtension</th>\n",
       "      <th>FileType</th>\n",
       "      <th>Sha256</th>\n",
       "    </tr>\n",
       "  </thead>\n",
       "  <tbody>\n",
       "    <tr>\n",
       "      <th>0</th>\n",
       "      <td>/Volumes/MUPU_4TB_1/code/kaggle_datasets/bobby...</td>\n",
       "      <td>2023-01-07 16:59:12</td>\n",
       "      <td>2020-07-20 11:58:42</td>\n",
       "      <td>0.29537</td>\n",
       "      <td>bobby.png</td>\n",
       "      <td>.png</td>\n",
       "      <td>photo</td>\n",
       "      <td>c299e1e38511f982498f8e181ca300fe3eddad8b241159...</td>\n",
       "    </tr>\n",
       "    <tr>\n",
       "      <th>1</th>\n",
       "      <td>/Volumes/MUPU_4TB_1/code/kaggle_datasets/Denal...</td>\n",
       "      <td>2023-01-07 16:59:12</td>\n",
       "      <td>2020-01-25 15:33:18</td>\n",
       "      <td>0.02980</td>\n",
       "      <td>Denali Mt McKinley.jpg</td>\n",
       "      <td>.jpg</td>\n",
       "      <td>photo</td>\n",
       "      <td>d9cd8cba8cc65cd24e7eb9b6537462488a47e286d7d719...</td>\n",
       "    </tr>\n",
       "    <tr>\n",
       "      <th>2</th>\n",
       "      <td>/Volumes/MUPU_4TB_1/code/kaggle_datasets/Figur...</td>\n",
       "      <td>2023-01-07 16:59:11</td>\n",
       "      <td>2020-04-18 20:21:12</td>\n",
       "      <td>0.02575</td>\n",
       "      <td>FigureAxesMPL.png</td>\n",
       "      <td>.png</td>\n",
       "      <td>photo</td>\n",
       "      <td>7c3eff6b4237af20a75631867b93e91b13958e717637a6...</td>\n",
       "    </tr>\n",
       "    <tr>\n",
       "      <th>3</th>\n",
       "      <td>/Volumes/MUPU_4TB_1/code/kaggle_datasets/Logis...</td>\n",
       "      <td>2023-01-07 16:59:09</td>\n",
       "      <td>2020-04-10 08:10:50</td>\n",
       "      <td>0.10171</td>\n",
       "      <td>LogisticRegression.jpg</td>\n",
       "      <td>.jpg</td>\n",
       "      <td>photo</td>\n",
       "      <td>26048ccd2858c3e090fec613141fbf9cbcad7b5a87923f...</td>\n",
       "    </tr>\n",
       "    <tr>\n",
       "      <th>4</th>\n",
       "      <td>/Volumes/MUPU_4TB_1/code/kaggle_datasets/MPLAr...</td>\n",
       "      <td>2023-01-07 17:00:12</td>\n",
       "      <td>2020-04-18 21:22:12</td>\n",
       "      <td>0.02580</td>\n",
       "      <td>MPLArchitecture.png</td>\n",
       "      <td>.png</td>\n",
       "      <td>photo</td>\n",
       "      <td>290ebbce76730269474a23a2f588860862868c2d939534...</td>\n",
       "    </tr>\n",
       "  </tbody>\n",
       "</table>\n",
       "</div>"
      ],
      "text/plain": [
       "                                            FilePath        CreationDate  \\\n",
       "0  /Volumes/MUPU_4TB_1/code/kaggle_datasets/bobby... 2023-01-07 16:59:12   \n",
       "1  /Volumes/MUPU_4TB_1/code/kaggle_datasets/Denal... 2023-01-07 16:59:12   \n",
       "2  /Volumes/MUPU_4TB_1/code/kaggle_datasets/Figur... 2023-01-07 16:59:11   \n",
       "3  /Volumes/MUPU_4TB_1/code/kaggle_datasets/Logis... 2023-01-07 16:59:09   \n",
       "4  /Volumes/MUPU_4TB_1/code/kaggle_datasets/MPLAr... 2023-01-07 17:00:12   \n",
       "\n",
       "  LastModificationDate  SizeMB                FileName FileExtension FileType  \\\n",
       "0  2020-07-20 11:58:42 0.29537               bobby.png          .png    photo   \n",
       "1  2020-01-25 15:33:18 0.02980  Denali Mt McKinley.jpg          .jpg    photo   \n",
       "2  2020-04-18 20:21:12 0.02575       FigureAxesMPL.png          .png    photo   \n",
       "3  2020-04-10 08:10:50 0.10171  LogisticRegression.jpg          .jpg    photo   \n",
       "4  2020-04-18 21:22:12 0.02580     MPLArchitecture.png          .png    photo   \n",
       "\n",
       "                                              Sha256  \n",
       "0  c299e1e38511f982498f8e181ca300fe3eddad8b241159...  \n",
       "1  d9cd8cba8cc65cd24e7eb9b6537462488a47e286d7d719...  \n",
       "2  7c3eff6b4237af20a75631867b93e91b13958e717637a6...  \n",
       "3  26048ccd2858c3e090fec613141fbf9cbcad7b5a87923f...  \n",
       "4  290ebbce76730269474a23a2f588860862868c2d939534...  "
      ]
     },
     "execution_count": 12,
     "metadata": {},
     "output_type": "execute_result"
    }
   ],
   "source": [
    "photos.head()"
   ]
  },
  {
   "cell_type": "code",
   "execution_count": 49,
   "id": "03c590e5",
   "metadata": {},
   "outputs": [],
   "source": [
    "SHA = (\n",
    "    photos\n",
    "    # .pipe(lambda df: df[df[\"FileExtension\"] == \".heic\"])\n",
    "    [\"Sha256\"]\n",
    "    .value_counts()\n",
    "    .reset_index()\n",
    "    .rename(columns={\"count\":\"Count\"})\n",
    "    .pipe(lambda df: df[df[\"Count\"] > 1])\n",
    "    .sample(1)\n",
    "    [\"Sha256\"]\n",
    "    .iloc[0]\n",
    ")"
   ]
  },
  {
   "cell_type": "code",
   "execution_count": 50,
   "id": "57845097",
   "metadata": {},
   "outputs": [],
   "source": [
    "def get_matplotlib_figure_params(paths:list[str]) -> tuple[int, int]:\n",
    "    if (len(paths)%3) == 0:\n",
    "        return (int(len(paths)/3), 3)\n",
    "    elif (len(paths)%2) == 0:\n",
    "        return (int(len(paths)/2), 2)\n",
    "    else:\n",
    "        return (int(len(paths)/2) +1, 2)"
   ]
  },
  {
   "cell_type": "code",
   "execution_count": 51,
   "id": "b383863e",
   "metadata": {},
   "outputs": [],
   "source": [
    "def plot_duplicated_photos(sha:str, photos:pd.DataFrame) -> None:\n",
    "    \n",
    "    # get the path to plot/show images\n",
    "    paths = photos[photos[\"Sha256\"].str.contains(sha)][\"FilePath\"].tolist()\n",
    "    nr_rows, nr_columns = get_matplotlib_figure_params(paths=paths)\n",
    "    \n",
    "    # plotting with matplotlib\n",
    "    fig = plt.figure(figsize=(15, 5))\n",
    "    axes = fig.subplots(nr_rows, nr_columns).flatten()\n",
    "    \n",
    "    for path, ax in zip(paths, axes):\n",
    "        ax.imshow(PIL.Image.open(path))"
   ]
  },
  {
   "cell_type": "code",
   "execution_count": 52,
   "id": "0d0552db",
   "metadata": {},
   "outputs": [
    {
     "data": {
      "text/html": [
       "<div>\n",
       "<style scoped>\n",
       "    .dataframe tbody tr th:only-of-type {\n",
       "        vertical-align: middle;\n",
       "    }\n",
       "\n",
       "    .dataframe tbody tr th {\n",
       "        vertical-align: top;\n",
       "    }\n",
       "\n",
       "    .dataframe thead th {\n",
       "        text-align: right;\n",
       "    }\n",
       "</style>\n",
       "<table border=\"1\" class=\"dataframe\">\n",
       "  <thead>\n",
       "    <tr style=\"text-align: right;\">\n",
       "      <th></th>\n",
       "      <th>FilePath</th>\n",
       "      <th>CreationDate</th>\n",
       "      <th>LastModificationDate</th>\n",
       "      <th>SizeMB</th>\n",
       "      <th>FileName</th>\n",
       "      <th>FileExtension</th>\n",
       "      <th>FileType</th>\n",
       "      <th>Sha256</th>\n",
       "    </tr>\n",
       "  </thead>\n",
       "  <tbody>\n",
       "    <tr>\n",
       "      <th>21924</th>\n",
       "      <td>/Volumes/MUPU_4TB_1/MUPU 500GB/Fotos/(2018-08-...</td>\n",
       "      <td>2021-08-07 20:40:16</td>\n",
       "      <td>2019-08-28 03:12:12</td>\n",
       "      <td>2.54130</td>\n",
       "      <td>(2018-08-10 11-07-15)Apple iPhone X -3024x4032...</td>\n",
       "      <td>.jpeg</td>\n",
       "      <td>photo</td>\n",
       "      <td>38f6ec17c6fbde8aa4f2f152327771f88cd8724729cb71...</td>\n",
       "    </tr>\n",
       "    <tr>\n",
       "      <th>58056</th>\n",
       "      <td>/Volumes/MUPU_4TB_1/MUPU 500GB/Fotos/IMG_7779.jpg</td>\n",
       "      <td>2021-08-07 21:38:22</td>\n",
       "      <td>2020-08-16 02:20:24</td>\n",
       "      <td>2.54130</td>\n",
       "      <td>IMG_7779.jpg</td>\n",
       "      <td>.jpg</td>\n",
       "      <td>photo</td>\n",
       "      <td>38f6ec17c6fbde8aa4f2f152327771f88cd8724729cb71...</td>\n",
       "    </tr>\n",
       "  </tbody>\n",
       "</table>\n",
       "</div>"
      ],
      "text/plain": [
       "                                                FilePath        CreationDate  \\\n",
       "21924  /Volumes/MUPU_4TB_1/MUPU 500GB/Fotos/(2018-08-... 2021-08-07 20:40:16   \n",
       "58056  /Volumes/MUPU_4TB_1/MUPU 500GB/Fotos/IMG_7779.jpg 2021-08-07 21:38:22   \n",
       "\n",
       "      LastModificationDate  SizeMB  \\\n",
       "21924  2019-08-28 03:12:12 2.54130   \n",
       "58056  2020-08-16 02:20:24 2.54130   \n",
       "\n",
       "                                                FileName FileExtension  \\\n",
       "21924  (2018-08-10 11-07-15)Apple iPhone X -3024x4032...         .jpeg   \n",
       "58056                                       IMG_7779.jpg          .jpg   \n",
       "\n",
       "      FileType                                             Sha256  \n",
       "21924    photo  38f6ec17c6fbde8aa4f2f152327771f88cd8724729cb71...  \n",
       "58056    photo  38f6ec17c6fbde8aa4f2f152327771f88cd8724729cb71...  "
      ]
     },
     "execution_count": 52,
     "metadata": {},
     "output_type": "execute_result"
    }
   ],
   "source": [
    "photos[photos[\"Sha256\"].str.contains(SHA)]"
   ]
  },
  {
   "cell_type": "code",
   "execution_count": 53,
   "id": "3411d0cd",
   "metadata": {},
   "outputs": [
    {
     "data": {
      "text/plain": [
       "['/Volumes/MUPU_4TB_1/MUPU 500GB/Fotos/(2018-08-10 11-07-15)Apple iPhone X -3024x4032-664026560.JPEG',\n",
       " '/Volumes/MUPU_4TB_1/MUPU 500GB/Fotos/IMG_7779.jpg']"
      ]
     },
     "execution_count": 53,
     "metadata": {},
     "output_type": "execute_result"
    }
   ],
   "source": [
    "photos[photos[\"Sha256\"].str.contains(SHA)][\"FilePath\"].tolist()"
   ]
  },
  {
   "cell_type": "code",
   "execution_count": 55,
   "id": "5aaef025",
   "metadata": {},
   "outputs": [],
   "source": [
    "# paths = plot_duplicated_photos(\n",
    "#     sha = SHA,\n",
    "#     photos = photos\n",
    "# )"
   ]
  },
  {
   "cell_type": "code",
   "execution_count": null,
   "id": "d4ba98a8",
   "metadata": {},
   "outputs": [],
   "source": []
  },
  {
   "cell_type": "code",
   "execution_count": null,
   "id": "086b5a03",
   "metadata": {},
   "outputs": [],
   "source": []
  },
  {
   "cell_type": "code",
   "execution_count": null,
   "id": "7cd02b40",
   "metadata": {},
   "outputs": [],
   "source": []
  },
  {
   "cell_type": "code",
   "execution_count": null,
   "id": "eda18686",
   "metadata": {},
   "outputs": [],
   "source": []
  },
  {
   "cell_type": "code",
   "execution_count": null,
   "id": "ec07681c",
   "metadata": {},
   "outputs": [],
   "source": []
  },
  {
   "cell_type": "code",
   "execution_count": null,
   "id": "ae8e6f4d",
   "metadata": {},
   "outputs": [],
   "source": []
  },
  {
   "cell_type": "code",
   "execution_count": null,
   "id": "cae6cf71",
   "metadata": {},
   "outputs": [],
   "source": []
  },
  {
   "cell_type": "code",
   "execution_count": null,
   "id": "84a89a62",
   "metadata": {},
   "outputs": [],
   "source": [
    "def parse_date(filename, split_by_text):\n",
    "\n",
    "    splitted_filename = filename.split(split_by_text)[1].split(\".\")[0]\n",
    "\n",
    "    if (len(splitted_filename) >= 8) and (split_by_text in [\"IMG_\", \"IMG-\"]):\n",
    "        return splitted_filename[:8]\n",
    "\n",
    "    elif \"Screenshot_\" in filename:\n",
    "        return splitted_filename[:10].replace(\"-\", \"\")\n",
    "\n",
    "    else:\n",
    "        return filename"
   ]
  },
  {
   "cell_type": "code",
   "execution_count": null,
   "id": "c7d70d29",
   "metadata": {},
   "outputs": [],
   "source": [
    "def extract_creation_date_from_photo_name(row):\n",
    "\n",
    "    creation_date = row[\"CreationDate\"]\n",
    "    last_modification_date = row[\"LastModificationDate\"]\n",
    "    filename = row[\"FileName\"]\n",
    "\n",
    "    if \"IMG_\" in filename:\n",
    "        return parse_date(filename=filename, split_by_text=\"IMG_\")\n",
    "\n",
    "    elif \"IMG-\" in filename:\n",
    "        return parse_date(filename=filename, split_by_text=\"IMG-\")\n",
    "\n",
    "    elif \"Screenshot_\" in filename:\n",
    "        return parse_date(filename=filename, split_by_text=\"Screenshot_\")\n",
    "\n",
    "    else:\n",
    "        return filename"
   ]
  },
  {
   "cell_type": "code",
   "execution_count": null,
   "id": "01bd7f67",
   "metadata": {},
   "outputs": [],
   "source": [
    "def parse_date_with_regex(filename):\n",
    "\n",
    "    import re\n",
    "\n",
    "    regex_rule = re.compile(pattern=\"\\d{8}|\\d{4}-\\d{2}-\\d{2}\")\n",
    "    results = regex_rule.findall(filename)\n",
    "\n",
    "    if len(results) > 0:\n",
    "\n",
    "        if \"-\" in results[0]:\n",
    "            return results[0].replace(\"-\", \"\")\n",
    "\n",
    "        else:\n",
    "            return results[0]\n",
    "\n",
    "    else:\n",
    "        return filename"
   ]
  },
  {
   "cell_type": "code",
   "execution_count": null,
   "id": "f8b320c8",
   "metadata": {},
   "outputs": [],
   "source": [
    "sdf = df[(df[\"FileType\"] == \"photo\")].sample(50)"
   ]
  },
  {
   "cell_type": "code",
   "execution_count": null,
   "id": "246b5a7f",
   "metadata": {},
   "outputs": [],
   "source": [
    "sdf[\"ParseCreationDate\"] = sdf.apply(extract_creation_date_from_photo_name, axis=1)"
   ]
  },
  {
   "cell_type": "code",
   "execution_count": null,
   "id": "b73a1d5f",
   "metadata": {},
   "outputs": [],
   "source": [
    "sdf[\"ParseCreationDateWithRegex\"] = sdf[\"FileName\"].apply(parse_date_with_regex)"
   ]
  },
  {
   "cell_type": "code",
   "execution_count": null,
   "id": "e6f1aa86",
   "metadata": {
    "scrolled": false
   },
   "outputs": [],
   "source": [
    "sdf"
   ]
  },
  {
   "cell_type": "code",
   "execution_count": null,
   "id": "d8e17a7d",
   "metadata": {},
   "outputs": [],
   "source": [
    "top_file_extesions = pd.concat(\n",
    "    [\n",
    "        df[\"FileExtension\"].value_counts(),\n",
    "        df[\"FileExtension\"].value_counts(normalize=True),\n",
    "    ],\n",
    "    axis=1,\n",
    ").assign(CumSum=lambda df: df[\"proportion\"].cumsum())"
   ]
  },
  {
   "cell_type": "code",
   "execution_count": null,
   "id": "249d2f5e",
   "metadata": {},
   "outputs": [],
   "source": [
    "# Using top 20 file extesions we created the TOP_FILE_EXTENSIONS\n",
    "# and mapped it to the file type (audio, video, photo etc)\n",
    "top_file_extesions.head(20)"
   ]
  },
  {
   "cell_type": "code",
   "execution_count": null,
   "id": "a5671f04",
   "metadata": {},
   "outputs": [],
   "source": [
    "file_size_and_counter_by_type = (\n",
    "    df.groupby([\"FileExtension\", \"FileType\"])\n",
    "    .agg(\n",
    "        NrFiles=(\"FilePath\", len),\n",
    "        TotalSizeMB=(\"SizeMB\", np.sum),\n",
    "        TotalSizeGB=(\"SizeMB\", lambda series: np.sum(series) / (1024)),  # GB\n",
    "    )\n",
    "    .reset_index()\n",
    "    .assign(\n",
    "        NrFilesByType=lambda df: df.groupby(\"FileType\")[\"NrFiles\"].transform(np.sum),\n",
    "        TotalSizeMBByType=lambda df: df.groupby(\"FileType\")[\"TotalSizeMB\"].transform(\n",
    "            np.sum\n",
    "        ),\n",
    "        PctNrFilesByType=lambda df: df[\"NrFiles\"] / df[\"NrFilesByType\"],\n",
    "        PctSizeMBByType=lambda df: df[\"TotalSizeMB\"] / df[\"TotalSizeMBByType\"],\n",
    "    )\n",
    "    .query(\"FileType == 'video' or FileType == 'photo'\")\n",
    "    .sort_values(\"FileType\", ascending=False)\n",
    ")"
   ]
  },
  {
   "cell_type": "code",
   "execution_count": null,
   "id": "35f70f16",
   "metadata": {},
   "outputs": [],
   "source": [
    "file_size_and_counter_by_type"
   ]
  }
 ],
 "metadata": {
  "kernelspec": {
   "display_name": "env_main",
   "language": "python",
   "name": "env_main"
  },
  "language_info": {
   "codemirror_mode": {
    "name": "ipython",
    "version": 3
   },
   "file_extension": ".py",
   "mimetype": "text/x-python",
   "name": "python",
   "nbconvert_exporter": "python",
   "pygments_lexer": "ipython3",
   "version": "3.10.15"
  }
 },
 "nbformat": 4,
 "nbformat_minor": 5
}
