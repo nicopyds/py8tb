{
 "cells": [
  {
   "cell_type": "code",
   "execution_count": 3,
   "id": "3084acc6",
   "metadata": {},
   "outputs": [],
   "source": [
    "import warnings\n",
    "\n",
    "warnings.filterwarnings(\"ignore\")\n",
    "\n",
    "import os\n",
    "import sys\n",
    "\n",
    "import pickle\n",
    "\n",
    "import numpy as np\n",
    "import pandas as pd\n",
    "\n",
    "pd.options.display.float_format = \"{:.5f}\".format\n",
    "\n",
    "import matplotlib.image as mpimg\n",
    "import matplotlib.pyplot as plt\n",
    "import PIL\n",
    "from pillow_heif import register_heif_opener\n",
    "register_heif_opener()"
   ]
  },
  {
   "cell_type": "code",
   "execution_count": 2,
   "id": "b6cc8307",
   "metadata": {},
   "outputs": [],
   "source": [
    "CWD = os.getcwd()\n",
    "PY8TB_PATH = os.path.dirname(CWD)\n",
    "SAVE_PATH = os.path.join(PY8TB_PATH, \"data\")\n",
    "DF_PATH = os.path.join(SAVE_PATH, \"df_2024_06_30_18_08_37.parquet.gzip\")"
   ]
  },
  {
   "cell_type": "code",
   "execution_count": null,
   "id": "21637ae4",
   "metadata": {},
   "outputs": [],
   "source": [
    "sys.path.insert(0, PY8TB_PATH)"
   ]
  },
  {
   "cell_type": "code",
   "execution_count": null,
   "id": "b63a4fd7",
   "metadata": {},
   "outputs": [],
   "source": [
    "from py8tb import preprocessing_pipeline"
   ]
  },
  {
   "cell_type": "markdown",
   "id": "7ef72a65",
   "metadata": {},
   "source": [
    "# Análisis y preprocesamiento de df"
   ]
  },
  {
   "cell_type": "code",
   "execution_count": null,
   "id": "d2cdb032",
   "metadata": {},
   "outputs": [],
   "source": [
    "df = preprocessing_pipeline(path=DF_PATH)"
   ]
  },
  {
   "cell_type": "code",
   "execution_count": null,
   "id": "c6de2714",
   "metadata": {},
   "outputs": [],
   "source": [
    "photos = df[df[\"FileType\"] == \"photo\"]"
   ]
  },
  {
   "cell_type": "code",
   "execution_count": null,
   "id": "614fdda9",
   "metadata": {},
   "outputs": [],
   "source": [
    "with open(os.path.join(SAVE_PATH, \"photos_sha256.pkl\"), \"rb\") as f:\n",
    "    photos_sha256 = pickle.load(f)\n",
    "    photos_sha256 = pd.DataFrame(data=photos_sha256, columns=[\"FilePath\", \"Sha256\"])"
   ]
  },
  {
   "cell_type": "code",
   "execution_count": null,
   "id": "2bbcfc15",
   "metadata": {},
   "outputs": [],
   "source": [
    "photos_sha256[\"Sha256\"].apply(len).value_counts()"
   ]
  },
  {
   "cell_type": "code",
   "execution_count": null,
   "id": "46a1b96f",
   "metadata": {},
   "outputs": [],
   "source": [
    "photos.head()"
   ]
  },
  {
   "cell_type": "code",
   "execution_count": null,
   "id": "59eec875",
   "metadata": {},
   "outputs": [],
   "source": [
    "photos_sha256.head()"
   ]
  },
  {
   "cell_type": "code",
   "execution_count": null,
   "id": "6f9f5d34",
   "metadata": {},
   "outputs": [],
   "source": [
    "photos = pd.merge(\n",
    "    left=photos,\n",
    "    right=photos_sha256,\n",
    "    how=\"left\",\n",
    "    right_on=\"FilePath\",\n",
    "    left_on=\"FilePath\",\n",
    ")"
   ]
  },
  {
   "cell_type": "code",
   "execution_count": null,
   "id": "0bf7c4c0",
   "metadata": {},
   "outputs": [],
   "source": [
    "photos.head()"
   ]
  },
  {
   "cell_type": "code",
   "execution_count": null,
   "id": "03c590e5",
   "metadata": {},
   "outputs": [],
   "source": [
    "SHA = (\n",
    "    photos\n",
    "    # .pipe(lambda df: df[df[\"FileExtension\"] == \".heic\"])\n",
    "    [\"Sha256\"]\n",
    "    .value_counts()\n",
    "    .reset_index()\n",
    "    .rename(columns={\"count\":\"Count\"})\n",
    "    .pipe(lambda df: df[df[\"Count\"] > 1])\n",
    "    .sample(1)\n",
    "    [\"Sha256\"]\n",
    "    .iloc[0]\n",
    ")"
   ]
  },
  {
   "cell_type": "code",
   "execution_count": null,
   "id": "57845097",
   "metadata": {},
   "outputs": [],
   "source": [
    "def get_matplotlib_figure_params(paths:list[str]) -> tuple[int, int]:\n",
    "    if (len(paths)%3) == 0:\n",
    "        return (int(len(paths)/3), 3)\n",
    "    elif (len(paths)%2) == 0:\n",
    "        return (int(len(paths)/2), 2)\n",
    "    else:\n",
    "        return (int(len(paths)/2) +1, 2)"
   ]
  },
  {
   "cell_type": "code",
   "execution_count": null,
   "id": "b383863e",
   "metadata": {},
   "outputs": [],
   "source": [
    "def plot_duplicated_photos(sha:str, photos:pd.DataFrame) -> None:\n",
    "    \n",
    "    # get the path to plot/show images\n",
    "    paths = photos[photos[\"Sha256\"].str.contains(sha)][\"FilePath\"].tolist()\n",
    "    nr_rows, nr_columns = get_matplotlib_figure_params(paths=paths)\n",
    "    \n",
    "    # plotting with matplotlib\n",
    "    fig = plt.figure(figsize=(15, 5))\n",
    "    axes = fig.subplots(nr_rows, nr_columns).flatten()\n",
    "    \n",
    "    for path, ax in zip(paths, axes):\n",
    "        ax.imshow(PIL.Image.open(path))"
   ]
  },
  {
   "cell_type": "code",
   "execution_count": null,
   "id": "0d0552db",
   "metadata": {},
   "outputs": [],
   "source": [
    "photos[photos[\"Sha256\"].str.contains(SHA)]"
   ]
  },
  {
   "cell_type": "code",
   "execution_count": null,
   "id": "3411d0cd",
   "metadata": {},
   "outputs": [],
   "source": [
    "photos[photos[\"Sha256\"].str.contains(SHA)][\"FilePath\"].tolist()"
   ]
  },
  {
   "cell_type": "code",
   "execution_count": null,
   "id": "5aaef025",
   "metadata": {},
   "outputs": [],
   "source": [
    "# paths = plot_duplicated_photos(\n",
    "#     sha = SHA,\n",
    "#     photos = photos\n",
    "# )"
   ]
  },
  {
   "cell_type": "code",
   "execution_count": null,
   "id": "d4ba98a8",
   "metadata": {},
   "outputs": [],
   "source": []
  },
  {
   "cell_type": "code",
   "execution_count": null,
   "id": "086b5a03",
   "metadata": {},
   "outputs": [],
   "source": []
  },
  {
   "cell_type": "code",
   "execution_count": null,
   "id": "7cd02b40",
   "metadata": {},
   "outputs": [],
   "source": []
  },
  {
   "cell_type": "code",
   "execution_count": null,
   "id": "eda18686",
   "metadata": {},
   "outputs": [],
   "source": []
  },
  {
   "cell_type": "code",
   "execution_count": null,
   "id": "ec07681c",
   "metadata": {},
   "outputs": [],
   "source": []
  },
  {
   "cell_type": "code",
   "execution_count": null,
   "id": "ae8e6f4d",
   "metadata": {},
   "outputs": [],
   "source": []
  },
  {
   "cell_type": "code",
   "execution_count": null,
   "id": "cae6cf71",
   "metadata": {},
   "outputs": [],
   "source": []
  },
  {
   "cell_type": "code",
   "execution_count": null,
   "id": "84a89a62",
   "metadata": {},
   "outputs": [],
   "source": [
    "def parse_date(filename, split_by_text):\n",
    "\n",
    "    splitted_filename = filename.split(split_by_text)[1].split(\".\")[0]\n",
    "\n",
    "    if (len(splitted_filename) >= 8) and (split_by_text in [\"IMG_\", \"IMG-\"]):\n",
    "        return splitted_filename[:8]\n",
    "\n",
    "    elif \"Screenshot_\" in filename:\n",
    "        return splitted_filename[:10].replace(\"-\", \"\")\n",
    "\n",
    "    else:\n",
    "        return filename"
   ]
  },
  {
   "cell_type": "code",
   "execution_count": null,
   "id": "c7d70d29",
   "metadata": {},
   "outputs": [],
   "source": [
    "def extract_creation_date_from_photo_name(row):\n",
    "\n",
    "    creation_date = row[\"CreationDate\"]\n",
    "    last_modification_date = row[\"LastModificationDate\"]\n",
    "    filename = row[\"FileName\"]\n",
    "\n",
    "    if \"IMG_\" in filename:\n",
    "        return parse_date(filename=filename, split_by_text=\"IMG_\")\n",
    "\n",
    "    elif \"IMG-\" in filename:\n",
    "        return parse_date(filename=filename, split_by_text=\"IMG-\")\n",
    "\n",
    "    elif \"Screenshot_\" in filename:\n",
    "        return parse_date(filename=filename, split_by_text=\"Screenshot_\")\n",
    "\n",
    "    else:\n",
    "        return filename"
   ]
  },
  {
   "cell_type": "code",
   "execution_count": null,
   "id": "01bd7f67",
   "metadata": {},
   "outputs": [],
   "source": [
    "def parse_date_with_regex(filename):\n",
    "\n",
    "    import re\n",
    "\n",
    "    regex_rule = re.compile(pattern=\"\\d{8}|\\d{4}-\\d{2}-\\d{2}\")\n",
    "    results = regex_rule.findall(filename)\n",
    "\n",
    "    if len(results) > 0:\n",
    "\n",
    "        if \"-\" in results[0]:\n",
    "            return results[0].replace(\"-\", \"\")\n",
    "\n",
    "        else:\n",
    "            return results[0]\n",
    "\n",
    "    else:\n",
    "        return filename"
   ]
  },
  {
   "cell_type": "code",
   "execution_count": null,
   "id": "f8b320c8",
   "metadata": {},
   "outputs": [],
   "source": [
    "sdf = df[(df[\"FileType\"] == \"photo\")].sample(50)"
   ]
  },
  {
   "cell_type": "code",
   "execution_count": null,
   "id": "246b5a7f",
   "metadata": {},
   "outputs": [],
   "source": [
    "sdf[\"ParseCreationDate\"] = sdf.apply(extract_creation_date_from_photo_name, axis=1)"
   ]
  },
  {
   "cell_type": "code",
   "execution_count": null,
   "id": "b73a1d5f",
   "metadata": {},
   "outputs": [],
   "source": [
    "sdf[\"ParseCreationDateWithRegex\"] = sdf[\"FileName\"].apply(parse_date_with_regex)"
   ]
  },
  {
   "cell_type": "code",
   "execution_count": null,
   "id": "e6f1aa86",
   "metadata": {
    "scrolled": false
   },
   "outputs": [],
   "source": [
    "sdf"
   ]
  },
  {
   "cell_type": "code",
   "execution_count": null,
   "id": "d8e17a7d",
   "metadata": {},
   "outputs": [],
   "source": [
    "top_file_extesions = pd.concat(\n",
    "    [\n",
    "        df[\"FileExtension\"].value_counts(),\n",
    "        df[\"FileExtension\"].value_counts(normalize=True),\n",
    "    ],\n",
    "    axis=1,\n",
    ").assign(CumSum=lambda df: df[\"proportion\"].cumsum())"
   ]
  },
  {
   "cell_type": "code",
   "execution_count": null,
   "id": "249d2f5e",
   "metadata": {},
   "outputs": [],
   "source": [
    "# Using top 20 file extesions we created the TOP_FILE_EXTENSIONS\n",
    "# and mapped it to the file type (audio, video, photo etc)\n",
    "top_file_extesions.head(20)"
   ]
  },
  {
   "cell_type": "code",
   "execution_count": null,
   "id": "a5671f04",
   "metadata": {},
   "outputs": [],
   "source": [
    "file_size_and_counter_by_type = (\n",
    "    df.groupby([\"FileExtension\", \"FileType\"])\n",
    "    .agg(\n",
    "        NrFiles=(\"FilePath\", len),\n",
    "        TotalSizeMB=(\"SizeMB\", np.sum),\n",
    "        TotalSizeGB=(\"SizeMB\", lambda series: np.sum(series) / (1024)),  # GB\n",
    "    )\n",
    "    .reset_index()\n",
    "    .assign(\n",
    "        NrFilesByType=lambda df: df.groupby(\"FileType\")[\"NrFiles\"].transform(np.sum),\n",
    "        TotalSizeMBByType=lambda df: df.groupby(\"FileType\")[\"TotalSizeMB\"].transform(\n",
    "            np.sum\n",
    "        ),\n",
    "        PctNrFilesByType=lambda df: df[\"NrFiles\"] / df[\"NrFilesByType\"],\n",
    "        PctSizeMBByType=lambda df: df[\"TotalSizeMB\"] / df[\"TotalSizeMBByType\"],\n",
    "    )\n",
    "    .query(\"FileType == 'video' or FileType == 'photo'\")\n",
    "    .sort_values(\"FileType\", ascending=False)\n",
    ")"
   ]
  },
  {
   "cell_type": "code",
   "execution_count": null,
   "id": "35f70f16",
   "metadata": {},
   "outputs": [],
   "source": [
    "file_size_and_counter_by_type"
   ]
  }
 ],
 "metadata": {
  "kernelspec": {
   "display_name": "env_main",
   "language": "python",
   "name": "env_main"
  },
  "language_info": {
   "codemirror_mode": {
    "name": "ipython",
    "version": 3
   },
   "file_extension": ".py",
   "mimetype": "text/x-python",
   "name": "python",
   "nbconvert_exporter": "python",
   "pygments_lexer": "ipython3",
   "version": "3.10.15"
  }
 },
 "nbformat": 4,
 "nbformat_minor": 5
}
