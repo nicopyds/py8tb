{
 "cells": [
  {
   "cell_type": "code",
   "execution_count": 1,
   "id": "3084acc6",
   "metadata": {},
   "outputs": [],
   "source": [
    "import warnings\n",
    "\n",
    "warnings.filterwarnings(\"ignore\")\n",
    "\n",
    "import os\n",
    "import sys\n",
    "\n",
    "import pickle\n",
    "\n",
    "import numpy as np\n",
    "import pandas as pd\n",
    "\n",
    "pd.options.display.float_format = \"{:.5f}\".format\n",
    "\n",
    "import matplotlib.image as mpimg\n",
    "import matplotlib.pyplot as plt\n",
    "import PIL\n",
    "from pillow_heif import register_heif_opener\n",
    "\n",
    "register_heif_opener()"
   ]
  },
  {
   "cell_type": "code",
   "execution_count": 2,
   "id": "b6cc8307",
   "metadata": {},
   "outputs": [],
   "source": [
    "CWD = os.getcwd()\n",
    "PY8TB_PATH = os.path.dirname(CWD)\n",
    "SAVE_PATH = os.path.join(PY8TB_PATH, \"data\")\n",
    "DF_PATH = os.path.join(SAVE_PATH, \"df_2024_06_30_18_08_37.parquet.gzip\")"
   ]
  },
  {
   "cell_type": "code",
   "execution_count": 3,
   "id": "21637ae4",
   "metadata": {},
   "outputs": [],
   "source": [
    "sys.path.insert(0, PY8TB_PATH)"
   ]
  },
  {
   "cell_type": "code",
   "execution_count": 4,
   "id": "b63a4fd7",
   "metadata": {},
   "outputs": [],
   "source": [
    "from py8tb import preprocessing_pipeline"
   ]
  },
  {
   "cell_type": "markdown",
   "id": "7ef72a65",
   "metadata": {},
   "source": [
    "# Análisis y preprocesamiento de df"
   ]
  },
  {
   "cell_type": "code",
   "execution_count": 5,
   "id": "d2cdb032",
   "metadata": {},
   "outputs": [],
   "source": [
    "df = preprocessing_pipeline(path=DF_PATH)"
   ]
  },
  {
   "cell_type": "code",
   "execution_count": 6,
   "id": "c6de2714",
   "metadata": {},
   "outputs": [],
   "source": [
    "photos = df[df[\"FileType\"] == \"photo\"]"
   ]
  },
  {
   "cell_type": "code",
   "execution_count": 7,
   "id": "614fdda9",
   "metadata": {},
   "outputs": [],
   "source": [
    "with open(os.path.join(SAVE_PATH, \"photos_sha256.pkl\"), \"rb\") as f:\n",
    "    photos_sha256 = pickle.load(f)\n",
    "    photos_sha256 = pd.DataFrame(data=photos_sha256, columns=[\"FilePath\", \"Sha256\"])"
   ]
  },
  {
   "cell_type": "code",
   "execution_count": 8,
   "id": "2bbcfc15",
   "metadata": {},
   "outputs": [
    {
     "data": {
      "text/plain": [
       "Sha256\n",
       "64    114951\n",
       "Name: count, dtype: int64"
      ]
     },
     "execution_count": 8,
     "metadata": {},
     "output_type": "execute_result"
    }
   ],
   "source": [
    "photos_sha256[\"Sha256\"].apply(len).value_counts()"
   ]
  },
  {
   "cell_type": "code",
   "execution_count": 9,
   "id": "46a1b96f",
   "metadata": {},
   "outputs": [
    {
     "data": {
      "text/html": [
       "<div>\n",
       "<style scoped>\n",
       "    .dataframe tbody tr th:only-of-type {\n",
       "        vertical-align: middle;\n",
       "    }\n",
       "\n",
       "    .dataframe tbody tr th {\n",
       "        vertical-align: top;\n",
       "    }\n",
       "\n",
       "    .dataframe thead th {\n",
       "        text-align: right;\n",
       "    }\n",
       "</style>\n",
       "<table border=\"1\" class=\"dataframe\">\n",
       "  <thead>\n",
       "    <tr style=\"text-align: right;\">\n",
       "      <th></th>\n",
       "      <th>FilePath</th>\n",
       "      <th>CreationDate</th>\n",
       "      <th>LastModificationDate</th>\n",
       "      <th>SizeMB</th>\n",
       "      <th>FileName</th>\n",
       "      <th>FileExtension</th>\n",
       "      <th>FileType</th>\n",
       "    </tr>\n",
       "  </thead>\n",
       "  <tbody>\n",
       "    <tr>\n",
       "      <th>54</th>\n",
       "      <td>/Volumes/MUPU_4TB_1/code/kaggle_datasets/bobby...</td>\n",
       "      <td>2023-01-07 16:59:12</td>\n",
       "      <td>2020-07-20 11:58:42</td>\n",
       "      <td>0.29537</td>\n",
       "      <td>bobby.png</td>\n",
       "      <td>.png</td>\n",
       "      <td>photo</td>\n",
       "    </tr>\n",
       "    <tr>\n",
       "      <th>61</th>\n",
       "      <td>/Volumes/MUPU_4TB_1/code/kaggle_datasets/Denal...</td>\n",
       "      <td>2023-01-07 16:59:12</td>\n",
       "      <td>2020-01-25 15:33:18</td>\n",
       "      <td>0.02980</td>\n",
       "      <td>Denali Mt McKinley.jpg</td>\n",
       "      <td>.jpg</td>\n",
       "      <td>photo</td>\n",
       "    </tr>\n",
       "    <tr>\n",
       "      <th>67</th>\n",
       "      <td>/Volumes/MUPU_4TB_1/code/kaggle_datasets/Figur...</td>\n",
       "      <td>2023-01-07 16:59:11</td>\n",
       "      <td>2020-04-18 20:21:12</td>\n",
       "      <td>0.02575</td>\n",
       "      <td>FigureAxesMPL.png</td>\n",
       "      <td>.png</td>\n",
       "      <td>photo</td>\n",
       "    </tr>\n",
       "    <tr>\n",
       "      <th>81</th>\n",
       "      <td>/Volumes/MUPU_4TB_1/code/kaggle_datasets/Logis...</td>\n",
       "      <td>2023-01-07 16:59:09</td>\n",
       "      <td>2020-04-10 08:10:50</td>\n",
       "      <td>0.10171</td>\n",
       "      <td>LogisticRegression.jpg</td>\n",
       "      <td>.jpg</td>\n",
       "      <td>photo</td>\n",
       "    </tr>\n",
       "    <tr>\n",
       "      <th>86</th>\n",
       "      <td>/Volumes/MUPU_4TB_1/code/kaggle_datasets/MPLAr...</td>\n",
       "      <td>2023-01-07 17:00:12</td>\n",
       "      <td>2020-04-18 21:22:12</td>\n",
       "      <td>0.02580</td>\n",
       "      <td>MPLArchitecture.png</td>\n",
       "      <td>.png</td>\n",
       "      <td>photo</td>\n",
       "    </tr>\n",
       "  </tbody>\n",
       "</table>\n",
       "</div>"
      ],
      "text/plain": [
       "                                             FilePath        CreationDate  \\\n",
       "54  /Volumes/MUPU_4TB_1/code/kaggle_datasets/bobby... 2023-01-07 16:59:12   \n",
       "61  /Volumes/MUPU_4TB_1/code/kaggle_datasets/Denal... 2023-01-07 16:59:12   \n",
       "67  /Volumes/MUPU_4TB_1/code/kaggle_datasets/Figur... 2023-01-07 16:59:11   \n",
       "81  /Volumes/MUPU_4TB_1/code/kaggle_datasets/Logis... 2023-01-07 16:59:09   \n",
       "86  /Volumes/MUPU_4TB_1/code/kaggle_datasets/MPLAr... 2023-01-07 17:00:12   \n",
       "\n",
       "   LastModificationDate  SizeMB                FileName FileExtension FileType  \n",
       "54  2020-07-20 11:58:42 0.29537               bobby.png          .png    photo  \n",
       "61  2020-01-25 15:33:18 0.02980  Denali Mt McKinley.jpg          .jpg    photo  \n",
       "67  2020-04-18 20:21:12 0.02575       FigureAxesMPL.png          .png    photo  \n",
       "81  2020-04-10 08:10:50 0.10171  LogisticRegression.jpg          .jpg    photo  \n",
       "86  2020-04-18 21:22:12 0.02580     MPLArchitecture.png          .png    photo  "
      ]
     },
     "execution_count": 9,
     "metadata": {},
     "output_type": "execute_result"
    }
   ],
   "source": [
    "photos.head()"
   ]
  },
  {
   "cell_type": "code",
   "execution_count": 10,
   "id": "59eec875",
   "metadata": {},
   "outputs": [
    {
     "data": {
      "text/html": [
       "<div>\n",
       "<style scoped>\n",
       "    .dataframe tbody tr th:only-of-type {\n",
       "        vertical-align: middle;\n",
       "    }\n",
       "\n",
       "    .dataframe tbody tr th {\n",
       "        vertical-align: top;\n",
       "    }\n",
       "\n",
       "    .dataframe thead th {\n",
       "        text-align: right;\n",
       "    }\n",
       "</style>\n",
       "<table border=\"1\" class=\"dataframe\">\n",
       "  <thead>\n",
       "    <tr style=\"text-align: right;\">\n",
       "      <th></th>\n",
       "      <th>FilePath</th>\n",
       "      <th>Sha256</th>\n",
       "    </tr>\n",
       "  </thead>\n",
       "  <tbody>\n",
       "    <tr>\n",
       "      <th>0</th>\n",
       "      <td>/Volumes/MUPU_4TB_1/code/kaggle_datasets/bobby...</td>\n",
       "      <td>c299e1e38511f982498f8e181ca300fe3eddad8b241159...</td>\n",
       "    </tr>\n",
       "    <tr>\n",
       "      <th>1</th>\n",
       "      <td>/Volumes/MUPU_4TB_1/code/kaggle_datasets/Denal...</td>\n",
       "      <td>d9cd8cba8cc65cd24e7eb9b6537462488a47e286d7d719...</td>\n",
       "    </tr>\n",
       "    <tr>\n",
       "      <th>2</th>\n",
       "      <td>/Volumes/MUPU_4TB_1/code/kaggle_datasets/Figur...</td>\n",
       "      <td>7c3eff6b4237af20a75631867b93e91b13958e717637a6...</td>\n",
       "    </tr>\n",
       "    <tr>\n",
       "      <th>3</th>\n",
       "      <td>/Volumes/MUPU_4TB_1/code/kaggle_datasets/Logis...</td>\n",
       "      <td>26048ccd2858c3e090fec613141fbf9cbcad7b5a87923f...</td>\n",
       "    </tr>\n",
       "    <tr>\n",
       "      <th>4</th>\n",
       "      <td>/Volumes/MUPU_4TB_1/code/kaggle_datasets/MPLAr...</td>\n",
       "      <td>290ebbce76730269474a23a2f588860862868c2d939534...</td>\n",
       "    </tr>\n",
       "  </tbody>\n",
       "</table>\n",
       "</div>"
      ],
      "text/plain": [
       "                                            FilePath  \\\n",
       "0  /Volumes/MUPU_4TB_1/code/kaggle_datasets/bobby...   \n",
       "1  /Volumes/MUPU_4TB_1/code/kaggle_datasets/Denal...   \n",
       "2  /Volumes/MUPU_4TB_1/code/kaggle_datasets/Figur...   \n",
       "3  /Volumes/MUPU_4TB_1/code/kaggle_datasets/Logis...   \n",
       "4  /Volumes/MUPU_4TB_1/code/kaggle_datasets/MPLAr...   \n",
       "\n",
       "                                              Sha256  \n",
       "0  c299e1e38511f982498f8e181ca300fe3eddad8b241159...  \n",
       "1  d9cd8cba8cc65cd24e7eb9b6537462488a47e286d7d719...  \n",
       "2  7c3eff6b4237af20a75631867b93e91b13958e717637a6...  \n",
       "3  26048ccd2858c3e090fec613141fbf9cbcad7b5a87923f...  \n",
       "4  290ebbce76730269474a23a2f588860862868c2d939534...  "
      ]
     },
     "execution_count": 10,
     "metadata": {},
     "output_type": "execute_result"
    }
   ],
   "source": [
    "photos_sha256.head()"
   ]
  },
  {
   "cell_type": "code",
   "execution_count": 11,
   "id": "6f9f5d34",
   "metadata": {},
   "outputs": [],
   "source": [
    "photos = pd.merge(\n",
    "    left=photos,\n",
    "    right=photos_sha256,\n",
    "    how=\"left\",\n",
    "    right_on=\"FilePath\",\n",
    "    left_on=\"FilePath\",\n",
    ")"
   ]
  },
  {
   "cell_type": "code",
   "execution_count": 12,
   "id": "0bf7c4c0",
   "metadata": {},
   "outputs": [
    {
     "data": {
      "text/html": [
       "<div>\n",
       "<style scoped>\n",
       "    .dataframe tbody tr th:only-of-type {\n",
       "        vertical-align: middle;\n",
       "    }\n",
       "\n",
       "    .dataframe tbody tr th {\n",
       "        vertical-align: top;\n",
       "    }\n",
       "\n",
       "    .dataframe thead th {\n",
       "        text-align: right;\n",
       "    }\n",
       "</style>\n",
       "<table border=\"1\" class=\"dataframe\">\n",
       "  <thead>\n",
       "    <tr style=\"text-align: right;\">\n",
       "      <th></th>\n",
       "      <th>FilePath</th>\n",
       "      <th>CreationDate</th>\n",
       "      <th>LastModificationDate</th>\n",
       "      <th>SizeMB</th>\n",
       "      <th>FileName</th>\n",
       "      <th>FileExtension</th>\n",
       "      <th>FileType</th>\n",
       "      <th>Sha256</th>\n",
       "    </tr>\n",
       "  </thead>\n",
       "  <tbody>\n",
       "    <tr>\n",
       "      <th>0</th>\n",
       "      <td>/Volumes/MUPU_4TB_1/code/kaggle_datasets/bobby...</td>\n",
       "      <td>2023-01-07 16:59:12</td>\n",
       "      <td>2020-07-20 11:58:42</td>\n",
       "      <td>0.29537</td>\n",
       "      <td>bobby.png</td>\n",
       "      <td>.png</td>\n",
       "      <td>photo</td>\n",
       "      <td>c299e1e38511f982498f8e181ca300fe3eddad8b241159...</td>\n",
       "    </tr>\n",
       "    <tr>\n",
       "      <th>1</th>\n",
       "      <td>/Volumes/MUPU_4TB_1/code/kaggle_datasets/Denal...</td>\n",
       "      <td>2023-01-07 16:59:12</td>\n",
       "      <td>2020-01-25 15:33:18</td>\n",
       "      <td>0.02980</td>\n",
       "      <td>Denali Mt McKinley.jpg</td>\n",
       "      <td>.jpg</td>\n",
       "      <td>photo</td>\n",
       "      <td>d9cd8cba8cc65cd24e7eb9b6537462488a47e286d7d719...</td>\n",
       "    </tr>\n",
       "    <tr>\n",
       "      <th>2</th>\n",
       "      <td>/Volumes/MUPU_4TB_1/code/kaggle_datasets/Figur...</td>\n",
       "      <td>2023-01-07 16:59:11</td>\n",
       "      <td>2020-04-18 20:21:12</td>\n",
       "      <td>0.02575</td>\n",
       "      <td>FigureAxesMPL.png</td>\n",
       "      <td>.png</td>\n",
       "      <td>photo</td>\n",
       "      <td>7c3eff6b4237af20a75631867b93e91b13958e717637a6...</td>\n",
       "    </tr>\n",
       "    <tr>\n",
       "      <th>3</th>\n",
       "      <td>/Volumes/MUPU_4TB_1/code/kaggle_datasets/Logis...</td>\n",
       "      <td>2023-01-07 16:59:09</td>\n",
       "      <td>2020-04-10 08:10:50</td>\n",
       "      <td>0.10171</td>\n",
       "      <td>LogisticRegression.jpg</td>\n",
       "      <td>.jpg</td>\n",
       "      <td>photo</td>\n",
       "      <td>26048ccd2858c3e090fec613141fbf9cbcad7b5a87923f...</td>\n",
       "    </tr>\n",
       "    <tr>\n",
       "      <th>4</th>\n",
       "      <td>/Volumes/MUPU_4TB_1/code/kaggle_datasets/MPLAr...</td>\n",
       "      <td>2023-01-07 17:00:12</td>\n",
       "      <td>2020-04-18 21:22:12</td>\n",
       "      <td>0.02580</td>\n",
       "      <td>MPLArchitecture.png</td>\n",
       "      <td>.png</td>\n",
       "      <td>photo</td>\n",
       "      <td>290ebbce76730269474a23a2f588860862868c2d939534...</td>\n",
       "    </tr>\n",
       "  </tbody>\n",
       "</table>\n",
       "</div>"
      ],
      "text/plain": [
       "                                            FilePath        CreationDate  \\\n",
       "0  /Volumes/MUPU_4TB_1/code/kaggle_datasets/bobby... 2023-01-07 16:59:12   \n",
       "1  /Volumes/MUPU_4TB_1/code/kaggle_datasets/Denal... 2023-01-07 16:59:12   \n",
       "2  /Volumes/MUPU_4TB_1/code/kaggle_datasets/Figur... 2023-01-07 16:59:11   \n",
       "3  /Volumes/MUPU_4TB_1/code/kaggle_datasets/Logis... 2023-01-07 16:59:09   \n",
       "4  /Volumes/MUPU_4TB_1/code/kaggle_datasets/MPLAr... 2023-01-07 17:00:12   \n",
       "\n",
       "  LastModificationDate  SizeMB                FileName FileExtension FileType  \\\n",
       "0  2020-07-20 11:58:42 0.29537               bobby.png          .png    photo   \n",
       "1  2020-01-25 15:33:18 0.02980  Denali Mt McKinley.jpg          .jpg    photo   \n",
       "2  2020-04-18 20:21:12 0.02575       FigureAxesMPL.png          .png    photo   \n",
       "3  2020-04-10 08:10:50 0.10171  LogisticRegression.jpg          .jpg    photo   \n",
       "4  2020-04-18 21:22:12 0.02580     MPLArchitecture.png          .png    photo   \n",
       "\n",
       "                                              Sha256  \n",
       "0  c299e1e38511f982498f8e181ca300fe3eddad8b241159...  \n",
       "1  d9cd8cba8cc65cd24e7eb9b6537462488a47e286d7d719...  \n",
       "2  7c3eff6b4237af20a75631867b93e91b13958e717637a6...  \n",
       "3  26048ccd2858c3e090fec613141fbf9cbcad7b5a87923f...  \n",
       "4  290ebbce76730269474a23a2f588860862868c2d939534...  "
      ]
     },
     "execution_count": 12,
     "metadata": {},
     "output_type": "execute_result"
    }
   ],
   "source": [
    "photos.head()"
   ]
  },
  {
   "cell_type": "code",
   "execution_count": 13,
   "id": "03c590e5",
   "metadata": {},
   "outputs": [],
   "source": [
    "SHA = (\n",
    "    photos\n",
    "    # .pipe(lambda df: df[df[\"FileExtension\"] == \".heic\"])\n",
    "    [\"Sha256\"]\n",
    "    .value_counts()\n",
    "    .reset_index()\n",
    "    .rename(columns={\"count\": \"Count\"})\n",
    "    .pipe(lambda df: df[df[\"Count\"] > 4])\n",
    "    .sample(1)[\"Sha256\"]\n",
    "    .iloc[0]\n",
    ")"
   ]
  },
  {
   "cell_type": "code",
   "execution_count": 14,
   "id": "57845097",
   "metadata": {},
   "outputs": [],
   "source": [
    "def get_matplotlib_figure_params(paths: list[str]) -> tuple[int, int]:\n",
    "    if (len(paths) % 3) == 0:\n",
    "        return (int(len(paths) / 3), 3)\n",
    "    elif (len(paths) % 2) == 0:\n",
    "        return (int(len(paths) / 2), 2)\n",
    "    else:\n",
    "        return (int(len(paths) / 2) + 1, 2)"
   ]
  },
  {
   "cell_type": "code",
   "execution_count": 15,
   "id": "b383863e",
   "metadata": {},
   "outputs": [],
   "source": [
    "def plot_duplicated_photos(sha: str, photos: pd.DataFrame) -> None:\n",
    "\n",
    "    # get the path to plot/show images\n",
    "    paths = photos[photos[\"Sha256\"].str.contains(sha)][\"FilePath\"].tolist()\n",
    "    nr_rows, nr_columns = get_matplotlib_figure_params(paths=paths)\n",
    "\n",
    "    # plotting with matplotlib\n",
    "    fig = plt.figure(figsize=(15, 5))\n",
    "    axes = fig.subplots(nr_rows, nr_columns).flatten()\n",
    "\n",
    "    for path, ax in zip(paths, axes):\n",
    "        ax.imshow(PIL.Image.open(path))"
   ]
  },
  {
   "cell_type": "code",
   "execution_count": 16,
   "id": "0d0552db",
   "metadata": {},
   "outputs": [
    {
     "data": {
      "text/html": [
       "<div>\n",
       "<style scoped>\n",
       "    .dataframe tbody tr th:only-of-type {\n",
       "        vertical-align: middle;\n",
       "    }\n",
       "\n",
       "    .dataframe tbody tr th {\n",
       "        vertical-align: top;\n",
       "    }\n",
       "\n",
       "    .dataframe thead th {\n",
       "        text-align: right;\n",
       "    }\n",
       "</style>\n",
       "<table border=\"1\" class=\"dataframe\">\n",
       "  <thead>\n",
       "    <tr style=\"text-align: right;\">\n",
       "      <th></th>\n",
       "      <th>FilePath</th>\n",
       "      <th>CreationDate</th>\n",
       "      <th>LastModificationDate</th>\n",
       "      <th>SizeMB</th>\n",
       "      <th>FileName</th>\n",
       "      <th>FileExtension</th>\n",
       "      <th>FileType</th>\n",
       "      <th>Sha256</th>\n",
       "    </tr>\n",
       "  </thead>\n",
       "  <tbody>\n",
       "    <tr>\n",
       "      <th>78099</th>\n",
       "      <td>/Volumes/MUPU_4TB_1/MUPU 500GB/Fotos/T1-XIAOMI...</td>\n",
       "      <td>2021-08-07 21:55:44</td>\n",
       "      <td>2019-08-28 04:10:45</td>\n",
       "      <td>0.01202</td>\n",
       "      <td>T1-XIAOMI -2340x4160-116600016.jpg</td>\n",
       "      <td>.jpg</td>\n",
       "      <td>photo</td>\n",
       "      <td>67d68fcb23b8559f36f6b9febdd0d25834803ef304b275...</td>\n",
       "    </tr>\n",
       "    <tr>\n",
       "      <th>78284</th>\n",
       "      <td>/Volumes/MUPU_4TB_1/MUPU 500GB/Fotos/T1-XIAOMI...</td>\n",
       "      <td>2021-08-07 21:55:47</td>\n",
       "      <td>2019-08-28 03:56:01</td>\n",
       "      <td>0.01202</td>\n",
       "      <td>T1-XIAOMI -2340x4160-231538608.jpg</td>\n",
       "      <td>.jpg</td>\n",
       "      <td>photo</td>\n",
       "      <td>67d68fcb23b8559f36f6b9febdd0d25834803ef304b275...</td>\n",
       "    </tr>\n",
       "    <tr>\n",
       "      <th>78540</th>\n",
       "      <td>/Volumes/MUPU_4TB_1/MUPU 500GB/Fotos/T1-XIAOMI...</td>\n",
       "      <td>2021-08-07 21:55:50</td>\n",
       "      <td>2019-08-28 04:23:22</td>\n",
       "      <td>0.01202</td>\n",
       "      <td>T1-XIAOMI -2340x4160-31304512.jpg</td>\n",
       "      <td>.jpg</td>\n",
       "      <td>photo</td>\n",
       "      <td>67d68fcb23b8559f36f6b9febdd0d25834803ef304b275...</td>\n",
       "    </tr>\n",
       "    <tr>\n",
       "      <th>78759</th>\n",
       "      <td>/Volumes/MUPU_4TB_1/MUPU 500GB/Fotos/T1-XIAOMI...</td>\n",
       "      <td>2021-08-07 21:55:53</td>\n",
       "      <td>2019-08-28 03:40:50</td>\n",
       "      <td>0.01202</td>\n",
       "      <td>T1-XIAOMI -2340x4160-363181432.jpg</td>\n",
       "      <td>.jpg</td>\n",
       "      <td>photo</td>\n",
       "      <td>67d68fcb23b8559f36f6b9febdd0d25834803ef304b275...</td>\n",
       "    </tr>\n",
       "    <tr>\n",
       "      <th>78864</th>\n",
       "      <td>/Volumes/MUPU_4TB_1/MUPU 500GB/Fotos/T1-XIAOMI...</td>\n",
       "      <td>2021-08-07 21:55:57</td>\n",
       "      <td>2019-08-28 03:30:57</td>\n",
       "      <td>0.01202</td>\n",
       "      <td>T1-XIAOMI -2340x4160-490373448.jpg</td>\n",
       "      <td>.jpg</td>\n",
       "      <td>photo</td>\n",
       "      <td>67d68fcb23b8559f36f6b9febdd0d25834803ef304b275...</td>\n",
       "    </tr>\n",
       "    <tr>\n",
       "      <th>79045</th>\n",
       "      <td>/Volumes/MUPU_4TB_1/MUPU 500GB/Fotos/T1-XIAOMI...</td>\n",
       "      <td>2021-08-07 21:55:57</td>\n",
       "      <td>2019-08-28 04:18:41</td>\n",
       "      <td>0.01202</td>\n",
       "      <td>T1-XIAOMI -2340x4160-63155992.jpg</td>\n",
       "      <td>.jpg</td>\n",
       "      <td>photo</td>\n",
       "      <td>67d68fcb23b8559f36f6b9febdd0d25834803ef304b275...</td>\n",
       "    </tr>\n",
       "    <tr>\n",
       "      <th>79196</th>\n",
       "      <td>/Volumes/MUPU_4TB_1/MUPU 500GB/Fotos/T1-XIAOMI...</td>\n",
       "      <td>2021-08-07 21:55:59</td>\n",
       "      <td>2019-08-28 04:17:31</td>\n",
       "      <td>0.01202</td>\n",
       "      <td>T1-XIAOMI -2340x4160-68381408.jpg</td>\n",
       "      <td>.jpg</td>\n",
       "      <td>photo</td>\n",
       "      <td>67d68fcb23b8559f36f6b9febdd0d25834803ef304b275...</td>\n",
       "    </tr>\n",
       "  </tbody>\n",
       "</table>\n",
       "</div>"
      ],
      "text/plain": [
       "                                                FilePath        CreationDate  \\\n",
       "78099  /Volumes/MUPU_4TB_1/MUPU 500GB/Fotos/T1-XIAOMI... 2021-08-07 21:55:44   \n",
       "78284  /Volumes/MUPU_4TB_1/MUPU 500GB/Fotos/T1-XIAOMI... 2021-08-07 21:55:47   \n",
       "78540  /Volumes/MUPU_4TB_1/MUPU 500GB/Fotos/T1-XIAOMI... 2021-08-07 21:55:50   \n",
       "78759  /Volumes/MUPU_4TB_1/MUPU 500GB/Fotos/T1-XIAOMI... 2021-08-07 21:55:53   \n",
       "78864  /Volumes/MUPU_4TB_1/MUPU 500GB/Fotos/T1-XIAOMI... 2021-08-07 21:55:57   \n",
       "79045  /Volumes/MUPU_4TB_1/MUPU 500GB/Fotos/T1-XIAOMI... 2021-08-07 21:55:57   \n",
       "79196  /Volumes/MUPU_4TB_1/MUPU 500GB/Fotos/T1-XIAOMI... 2021-08-07 21:55:59   \n",
       "\n",
       "      LastModificationDate  SizeMB                            FileName  \\\n",
       "78099  2019-08-28 04:10:45 0.01202  T1-XIAOMI -2340x4160-116600016.jpg   \n",
       "78284  2019-08-28 03:56:01 0.01202  T1-XIAOMI -2340x4160-231538608.jpg   \n",
       "78540  2019-08-28 04:23:22 0.01202   T1-XIAOMI -2340x4160-31304512.jpg   \n",
       "78759  2019-08-28 03:40:50 0.01202  T1-XIAOMI -2340x4160-363181432.jpg   \n",
       "78864  2019-08-28 03:30:57 0.01202  T1-XIAOMI -2340x4160-490373448.jpg   \n",
       "79045  2019-08-28 04:18:41 0.01202   T1-XIAOMI -2340x4160-63155992.jpg   \n",
       "79196  2019-08-28 04:17:31 0.01202   T1-XIAOMI -2340x4160-68381408.jpg   \n",
       "\n",
       "      FileExtension FileType  \\\n",
       "78099          .jpg    photo   \n",
       "78284          .jpg    photo   \n",
       "78540          .jpg    photo   \n",
       "78759          .jpg    photo   \n",
       "78864          .jpg    photo   \n",
       "79045          .jpg    photo   \n",
       "79196          .jpg    photo   \n",
       "\n",
       "                                                  Sha256  \n",
       "78099  67d68fcb23b8559f36f6b9febdd0d25834803ef304b275...  \n",
       "78284  67d68fcb23b8559f36f6b9febdd0d25834803ef304b275...  \n",
       "78540  67d68fcb23b8559f36f6b9febdd0d25834803ef304b275...  \n",
       "78759  67d68fcb23b8559f36f6b9febdd0d25834803ef304b275...  \n",
       "78864  67d68fcb23b8559f36f6b9febdd0d25834803ef304b275...  \n",
       "79045  67d68fcb23b8559f36f6b9febdd0d25834803ef304b275...  \n",
       "79196  67d68fcb23b8559f36f6b9febdd0d25834803ef304b275...  "
      ]
     },
     "execution_count": 16,
     "metadata": {},
     "output_type": "execute_result"
    }
   ],
   "source": [
    "photos[photos[\"Sha256\"].str.contains(SHA)]"
   ]
  },
  {
   "cell_type": "code",
   "execution_count": 17,
   "id": "4999ac13",
   "metadata": {},
   "outputs": [
    {
     "data": {
      "text/plain": [
       "'67d68fcb23b8559f36f6b9febdd0d25834803ef304b275ccfd1745cf32fe6ab2'"
      ]
     },
     "execution_count": 17,
     "metadata": {},
     "output_type": "execute_result"
    }
   ],
   "source": [
    "SHA"
   ]
  },
  {
   "cell_type": "code",
   "execution_count": 18,
   "id": "6000c102",
   "metadata": {},
   "outputs": [],
   "source": [
    "total_photos = photos[\"FileType\"].value_counts().iloc[0]"
   ]
  },
  {
   "cell_type": "code",
   "execution_count": 19,
   "id": "8a7faf16",
   "metadata": {},
   "outputs": [],
   "source": [
    "unique_photos = photos.groupby([\"Sha256\"]).size().size"
   ]
  },
  {
   "cell_type": "code",
   "execution_count": 20,
   "id": "0407004c",
   "metadata": {},
   "outputs": [],
   "source": [
    "duplicates_photos = total_photos - unique_photos"
   ]
  },
  {
   "cell_type": "code",
   "execution_count": 21,
   "id": "8f4c2432",
   "metadata": {},
   "outputs": [],
   "source": [
    "photos[\"DummyValue\"] = 1"
   ]
  },
  {
   "cell_type": "code",
   "execution_count": 22,
   "id": "46f0a6d9",
   "metadata": {},
   "outputs": [
    {
     "data": {
      "text/plain": [
       "78099    1\n",
       "78284    2\n",
       "78540    3\n",
       "78759    4\n",
       "78864    5\n",
       "79045    6\n",
       "79196    7\n",
       "Name: DummyValue, dtype: int64"
      ]
     },
     "execution_count": 22,
     "metadata": {},
     "output_type": "execute_result"
    }
   ],
   "source": [
    "photos.groupby([\"Sha256\"]).get_group((SHA))[\"DummyValue\"].cumsum()"
   ]
  },
  {
   "cell_type": "code",
   "execution_count": 23,
   "id": "6b8ad00a",
   "metadata": {},
   "outputs": [
    {
     "name": "stdout",
     "output_type": "stream",
     "text": [
      "2.74 s ± 36.2 ms per loop (mean ± std. dev. of 7 runs, 1 loop each)\n"
     ]
    }
   ],
   "source": [
    "%%timeit\n",
    "photos[\"CumSum\"] = photos.groupby([\"Sha256\"])[\"DummyValue\"].transform(\n",
    "    lambda series: series.cumsum()\n",
    ")"
   ]
  },
  {
   "cell_type": "code",
   "execution_count": 24,
   "id": "8efc0ccf",
   "metadata": {},
   "outputs": [],
   "source": [
    "sha256_list = photos[\"Sha256\"].values.tolist()\n",
    "path_list = photos[\"FilePath\"].values.tolist()"
   ]
  },
  {
   "cell_type": "code",
   "execution_count": 25,
   "id": "9f059c74",
   "metadata": {},
   "outputs": [],
   "source": [
    "assert len(sha256_list) == len(path_list)"
   ]
  },
  {
   "cell_type": "code",
   "execution_count": 26,
   "id": "78e4c566",
   "metadata": {},
   "outputs": [
    {
     "name": "stdout",
     "output_type": "stream",
     "text": [
      "13.7 ms ± 152 µs per loop (mean ± std. dev. of 7 runs, 100 loops each)\n"
     ]
    }
   ],
   "source": [
    "%%timeit\n",
    "\n",
    "dict_sha256_to_save = {}\n",
    "dict_sha256_to_delete = {}\n",
    "\n",
    "for sha256_, path_ in zip(sha256_list, path_list):\n",
    "    if sha256_ not in dict_sha256_to_save.keys():\n",
    "        dict_sha256_to_save[sha256_] = path_\n",
    "    else:\n",
    "        dict_sha256_to_delete[path_] = sha256_"
   ]
  },
  {
   "cell_type": "code",
   "execution_count": 27,
   "id": "cde47984",
   "metadata": {},
   "outputs": [
    {
     "ename": "NameError",
     "evalue": "name 'dict_sha256_to_save' is not defined",
     "output_type": "error",
     "traceback": [
      "\u001b[0;31m---------------------------------------------------------------------------\u001b[0m",
      "\u001b[0;31mNameError\u001b[0m                                 Traceback (most recent call last)",
      "Cell \u001b[0;32mIn[27], line 1\u001b[0m\n\u001b[0;32m----> 1\u001b[0m \u001b[38;5;28mlen\u001b[39m(\u001b[43mdict_sha256_to_save\u001b[49m)\n",
      "\u001b[0;31mNameError\u001b[0m: name 'dict_sha256_to_save' is not defined"
     ]
    }
   ],
   "source": [
    "len(dict_sha256_to_save)"
   ]
  },
  {
   "cell_type": "code",
   "execution_count": null,
   "id": "58aaec58",
   "metadata": {},
   "outputs": [],
   "source": [
    "len(dict_sha256_to_delete)"
   ]
  },
  {
   "cell_type": "code",
   "execution_count": null,
   "id": "166cf70a",
   "metadata": {},
   "outputs": [],
   "source": [
    "unique_photos_df = photos[photos[\"CumSum\"] == 1]"
   ]
  },
  {
   "cell_type": "code",
   "execution_count": null,
   "id": "25fdeaed",
   "metadata": {},
   "outputs": [],
   "source": [
    "unique_photos_df.shape"
   ]
  },
  {
   "cell_type": "code",
   "execution_count": null,
   "id": "6492da00",
   "metadata": {},
   "outputs": [],
   "source": [
    "unique_photos_df"
   ]
  },
  {
   "cell_type": "code",
   "execution_count": null,
   "id": "1d629713",
   "metadata": {},
   "outputs": [],
   "source": [
    "unique_photos"
   ]
  },
  {
   "cell_type": "code",
   "execution_count": null,
   "id": "961b14a2",
   "metadata": {},
   "outputs": [],
   "source": [
    "duplicates_photos_df = photos[photos[\"CumSum\"] != 1]"
   ]
  },
  {
   "cell_type": "code",
   "execution_count": null,
   "id": "5437e27d",
   "metadata": {},
   "outputs": [],
   "source": [
    "duplicates_photos_df.shape"
   ]
  },
  {
   "cell_type": "code",
   "execution_count": null,
   "id": "e4494d66",
   "metadata": {},
   "outputs": [],
   "source": [
    "duplicates_photos"
   ]
  },
  {
   "cell_type": "code",
   "execution_count": null,
   "id": "4b1341d3",
   "metadata": {},
   "outputs": [],
   "source": [
    "duplicates_photos"
   ]
  },
  {
   "cell_type": "code",
   "execution_count": null,
   "id": "3f29c2b8",
   "metadata": {},
   "outputs": [],
   "source": [
    "duplicates_photos_df[\"FilePath\"].iloc[0]"
   ]
  },
  {
   "cell_type": "code",
   "execution_count": null,
   "id": "f39ecdc4",
   "metadata": {},
   "outputs": [],
   "source": [
    "# os.remove(duplicates_photos_df[\"FilePath\"].iloc[0])"
   ]
  },
  {
   "cell_type": "code",
   "execution_count": null,
   "id": "7f232605",
   "metadata": {},
   "outputs": [],
   "source": []
  },
  {
   "cell_type": "code",
   "execution_count": null,
   "id": "5aaef025",
   "metadata": {},
   "outputs": [],
   "source": [
    "paths = plot_duplicated_photos(sha=SHA, photos=photos)"
   ]
  },
  {
   "cell_type": "code",
   "execution_count": null,
   "id": "d4ba98a8",
   "metadata": {},
   "outputs": [],
   "source": []
  },
  {
   "cell_type": "code",
   "execution_count": null,
   "id": "086b5a03",
   "metadata": {},
   "outputs": [],
   "source": []
  },
  {
   "cell_type": "code",
   "execution_count": null,
   "id": "7cd02b40",
   "metadata": {},
   "outputs": [],
   "source": []
  },
  {
   "cell_type": "code",
   "execution_count": null,
   "id": "eda18686",
   "metadata": {},
   "outputs": [],
   "source": []
  },
  {
   "cell_type": "code",
   "execution_count": null,
   "id": "ec07681c",
   "metadata": {},
   "outputs": [],
   "source": []
  },
  {
   "cell_type": "code",
   "execution_count": null,
   "id": "ae8e6f4d",
   "metadata": {},
   "outputs": [],
   "source": []
  },
  {
   "cell_type": "code",
   "execution_count": null,
   "id": "cae6cf71",
   "metadata": {},
   "outputs": [],
   "source": []
  },
  {
   "cell_type": "code",
   "execution_count": null,
   "id": "84a89a62",
   "metadata": {},
   "outputs": [],
   "source": [
    "def parse_date(filename, split_by_text):\n",
    "\n",
    "    splitted_filename = filename.split(split_by_text)[1].split(\".\")[0]\n",
    "\n",
    "    if (len(splitted_filename) >= 8) and (split_by_text in [\"IMG_\", \"IMG-\"]):\n",
    "        return splitted_filename[:8]\n",
    "\n",
    "    elif \"Screenshot_\" in filename:\n",
    "        return splitted_filename[:10].replace(\"-\", \"\")\n",
    "\n",
    "    else:\n",
    "        return filename"
   ]
  },
  {
   "cell_type": "code",
   "execution_count": null,
   "id": "c7d70d29",
   "metadata": {},
   "outputs": [],
   "source": [
    "def extract_creation_date_from_photo_name(row):\n",
    "\n",
    "    creation_date = row[\"CreationDate\"]\n",
    "    last_modification_date = row[\"LastModificationDate\"]\n",
    "    filename = row[\"FileName\"]\n",
    "\n",
    "    if \"IMG_\" in filename:\n",
    "        return parse_date(filename=filename, split_by_text=\"IMG_\")\n",
    "\n",
    "    elif \"IMG-\" in filename:\n",
    "        return parse_date(filename=filename, split_by_text=\"IMG-\")\n",
    "\n",
    "    elif \"Screenshot_\" in filename:\n",
    "        return parse_date(filename=filename, split_by_text=\"Screenshot_\")\n",
    "\n",
    "    else:\n",
    "        return filename"
   ]
  },
  {
   "cell_type": "code",
   "execution_count": null,
   "id": "01bd7f67",
   "metadata": {},
   "outputs": [],
   "source": [
    "def parse_date_with_regex(filename):\n",
    "\n",
    "    import re\n",
    "\n",
    "    regex_rule = re.compile(pattern=\"\\d{8}|\\d{4}-\\d{2}-\\d{2}\")\n",
    "    results = regex_rule.findall(filename)\n",
    "\n",
    "    if len(results) > 0:\n",
    "\n",
    "        if \"-\" in results[0]:\n",
    "            return results[0].replace(\"-\", \"\")\n",
    "\n",
    "        else:\n",
    "            return results[0]\n",
    "\n",
    "    else:\n",
    "        return filename"
   ]
  },
  {
   "cell_type": "code",
   "execution_count": null,
   "id": "f8b320c8",
   "metadata": {},
   "outputs": [],
   "source": [
    "sdf = df[(df[\"FileType\"] == \"photo\")].sample(50)"
   ]
  },
  {
   "cell_type": "code",
   "execution_count": null,
   "id": "246b5a7f",
   "metadata": {},
   "outputs": [],
   "source": [
    "sdf[\"ParseCreationDate\"] = sdf.apply(extract_creation_date_from_photo_name, axis=1)"
   ]
  },
  {
   "cell_type": "code",
   "execution_count": null,
   "id": "b73a1d5f",
   "metadata": {},
   "outputs": [],
   "source": [
    "sdf[\"ParseCreationDateWithRegex\"] = sdf[\"FileName\"].apply(parse_date_with_regex)"
   ]
  },
  {
   "cell_type": "code",
   "execution_count": null,
   "id": "e6f1aa86",
   "metadata": {
    "scrolled": false
   },
   "outputs": [],
   "source": [
    "sdf"
   ]
  },
  {
   "cell_type": "code",
   "execution_count": null,
   "id": "d8e17a7d",
   "metadata": {},
   "outputs": [],
   "source": [
    "top_file_extesions = pd.concat(\n",
    "    [\n",
    "        df[\"FileExtension\"].value_counts(),\n",
    "        df[\"FileExtension\"].value_counts(normalize=True),\n",
    "    ],\n",
    "    axis=1,\n",
    ").assign(CumSum=lambda df: df[\"proportion\"].cumsum())"
   ]
  },
  {
   "cell_type": "code",
   "execution_count": null,
   "id": "249d2f5e",
   "metadata": {},
   "outputs": [],
   "source": [
    "# Using top 20 file extesions we created the TOP_FILE_EXTENSIONS\n",
    "# and mapped it to the file type (audio, video, photo etc)\n",
    "top_file_extesions.head(20)"
   ]
  },
  {
   "cell_type": "code",
   "execution_count": null,
   "id": "a5671f04",
   "metadata": {},
   "outputs": [],
   "source": [
    "file_size_and_counter_by_type = (\n",
    "    df.groupby([\"FileExtension\", \"FileType\"])\n",
    "    .agg(\n",
    "        NrFiles=(\"FilePath\", len),\n",
    "        TotalSizeMB=(\"SizeMB\", np.sum),\n",
    "        TotalSizeGB=(\"SizeMB\", lambda series: np.sum(series) / (1024)),  # GB\n",
    "    )\n",
    "    .reset_index()\n",
    "    .assign(\n",
    "        NrFilesByType=lambda df: df.groupby(\"FileType\")[\"NrFiles\"].transform(np.sum),\n",
    "        TotalSizeMBByType=lambda df: df.groupby(\"FileType\")[\"TotalSizeMB\"].transform(\n",
    "            np.sum\n",
    "        ),\n",
    "        PctNrFilesByType=lambda df: df[\"NrFiles\"] / df[\"NrFilesByType\"],\n",
    "        PctSizeMBByType=lambda df: df[\"TotalSizeMB\"] / df[\"TotalSizeMBByType\"],\n",
    "    )\n",
    "    .query(\"FileType == 'video' or FileType == 'photo'\")\n",
    "    .sort_values(\"FileType\", ascending=False)\n",
    ")"
   ]
  },
  {
   "cell_type": "code",
   "execution_count": null,
   "id": "35f70f16",
   "metadata": {},
   "outputs": [],
   "source": [
    "file_size_and_counter_by_type"
   ]
  }
 ],
 "metadata": {
  "kernelspec": {
   "display_name": "env_main",
   "language": "python",
   "name": "env_main"
  },
  "language_info": {
   "codemirror_mode": {
    "name": "ipython",
    "version": 3
   },
   "file_extension": ".py",
   "mimetype": "text/x-python",
   "name": "python",
   "nbconvert_exporter": "python",
   "pygments_lexer": "ipython3",
   "version": "3.10.15"
  }
 },
 "nbformat": 4,
 "nbformat_minor": 5
}
