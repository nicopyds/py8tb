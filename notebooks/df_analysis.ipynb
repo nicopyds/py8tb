{
 "cells": [
  {
   "cell_type": "code",
   "execution_count": 1,
   "id": "3084acc6",
   "metadata": {},
   "outputs": [],
   "source": [
    "import warnings\n",
    "\n",
    "warnings.filterwarnings(\"ignore\")\n",
    "\n",
    "import os\n",
    "import sys\n",
    "\n",
    "import pickle\n",
    "\n",
    "import numpy as np\n",
    "import pandas as pd\n",
    "\n",
    "pd.options.display.float_format = \"{:.5f}\".format\n",
    "\n",
    "import matplotlib.image as mpimg\n",
    "import matplotlib.pyplot as plt\n",
    "from PIL import Image"
   ]
  },
  {
   "cell_type": "code",
   "execution_count": 2,
   "id": "b6cc8307",
   "metadata": {},
   "outputs": [],
   "source": [
    "CWD = os.getcwd()\n",
    "PY8TB_PATH = os.path.dirname(CWD)\n",
    "SAVE_PATH = os.path.join(PY8TB_PATH, \"data\")\n",
    "DF_PATH = os.path.join(SAVE_PATH, \"df_2024_06_30_18_08_37.parquet.gzip\")"
   ]
  },
  {
   "cell_type": "code",
   "execution_count": 3,
   "id": "21637ae4",
   "metadata": {},
   "outputs": [],
   "source": [
    "sys.path.insert(0, PY8TB_PATH)"
   ]
  },
  {
   "cell_type": "code",
   "execution_count": 4,
   "id": "b63a4fd7",
   "metadata": {},
   "outputs": [],
   "source": [
    "from py8tb import preprocessing_pipeline"
   ]
  },
  {
   "cell_type": "markdown",
   "id": "7ef72a65",
   "metadata": {},
   "source": [
    "# Análisis y preprocesamiento de df"
   ]
  },
  {
   "cell_type": "code",
   "execution_count": 21,
   "id": "d2cdb032",
   "metadata": {},
   "outputs": [],
   "source": [
    "df = preprocessing_pipeline(path=DF_PATH)"
   ]
  },
  {
   "cell_type": "code",
   "execution_count": 23,
   "id": "c6de2714",
   "metadata": {},
   "outputs": [],
   "source": [
    "photos = df[df[\"FileType\"] == \"photo\"]"
   ]
  },
  {
   "cell_type": "code",
   "execution_count": 24,
   "id": "614fdda9",
   "metadata": {},
   "outputs": [],
   "source": [
    "with open(os.path.join(SAVE_PATH, \"photos_sha256.pkl\"), \"rb\") as f:\n",
    "    photos_sha256 = pickle.load(f)\n",
    "    photos_sha256 = pd.DataFrame(data=photos_sha256, columns=[\"FilePath\", \"Sha256\"])"
   ]
  },
  {
   "cell_type": "code",
   "execution_count": 34,
   "id": "2bbcfc15",
   "metadata": {},
   "outputs": [
    {
     "data": {
      "text/plain": [
       "Sha256\n",
       "64    114951\n",
       "Name: count, dtype: int64"
      ]
     },
     "execution_count": 34,
     "metadata": {},
     "output_type": "execute_result"
    }
   ],
   "source": [
    "photos_sha256[\"Sha256\"].apply(len).value_counts()"
   ]
  },
  {
   "cell_type": "code",
   "execution_count": 26,
   "id": "6f9f5d34",
   "metadata": {},
   "outputs": [],
   "source": [
    "photos = pd.merge(\n",
    "    left=photos,\n",
    "    right=photos_sha256,\n",
    "    how=\"left\",\n",
    "    right_on=\"FilePath\",\n",
    "    left_on=\"FilePath\",\n",
    ")"
   ]
  },
  {
   "cell_type": "code",
   "execution_count": 30,
   "id": "31a7ff67",
   "metadata": {},
   "outputs": [
    {
     "data": {
      "text/plain": [
       "count\n",
       "1     58673\n",
       "2     13866\n",
       "3      2772\n",
       "4      2039\n",
       "5       576\n",
       "6       936\n",
       "7       414\n",
       "8        21\n",
       "9        16\n",
       "10       14\n",
       "11        8\n",
       "12        3\n",
       "20        1\n",
       "21        4\n",
       "Name: count, dtype: int64"
      ]
     },
     "execution_count": 30,
     "metadata": {},
     "output_type": "execute_result"
    }
   ],
   "source": [
    "photos[\"Sha256\"].value_counts().value_counts().sort_index()"
   ]
  },
  {
   "cell_type": "code",
   "execution_count": 14,
   "id": "0bf7c4c0",
   "metadata": {},
   "outputs": [
    {
     "data": {
      "text/html": [
       "<div>\n",
       "<style scoped>\n",
       "    .dataframe tbody tr th:only-of-type {\n",
       "        vertical-align: middle;\n",
       "    }\n",
       "\n",
       "    .dataframe tbody tr th {\n",
       "        vertical-align: top;\n",
       "    }\n",
       "\n",
       "    .dataframe thead th {\n",
       "        text-align: right;\n",
       "    }\n",
       "</style>\n",
       "<table border=\"1\" class=\"dataframe\">\n",
       "  <thead>\n",
       "    <tr style=\"text-align: right;\">\n",
       "      <th></th>\n",
       "      <th>FilePath</th>\n",
       "      <th>CreationDate</th>\n",
       "      <th>LastModificationDate</th>\n",
       "      <th>SizeMB</th>\n",
       "      <th>FileName</th>\n",
       "      <th>FileExtension</th>\n",
       "      <th>FileType</th>\n",
       "    </tr>\n",
       "  </thead>\n",
       "  <tbody>\n",
       "    <tr>\n",
       "      <th>54</th>\n",
       "      <td>/Volumes/MUPU_4TB_1/code/kaggle_datasets/bobby...</td>\n",
       "      <td>2023-01-07 16:59:12</td>\n",
       "      <td>2020-07-20 11:58:42</td>\n",
       "      <td>0.29537</td>\n",
       "      <td>bobby.png</td>\n",
       "      <td>.png</td>\n",
       "      <td>photo</td>\n",
       "    </tr>\n",
       "    <tr>\n",
       "      <th>61</th>\n",
       "      <td>/Volumes/MUPU_4TB_1/code/kaggle_datasets/Denal...</td>\n",
       "      <td>2023-01-07 16:59:12</td>\n",
       "      <td>2020-01-25 15:33:18</td>\n",
       "      <td>0.02980</td>\n",
       "      <td>Denali Mt McKinley.jpg</td>\n",
       "      <td>.jpg</td>\n",
       "      <td>photo</td>\n",
       "    </tr>\n",
       "    <tr>\n",
       "      <th>67</th>\n",
       "      <td>/Volumes/MUPU_4TB_1/code/kaggle_datasets/Figur...</td>\n",
       "      <td>2023-01-07 16:59:11</td>\n",
       "      <td>2020-04-18 20:21:12</td>\n",
       "      <td>0.02575</td>\n",
       "      <td>FigureAxesMPL.png</td>\n",
       "      <td>.png</td>\n",
       "      <td>photo</td>\n",
       "    </tr>\n",
       "    <tr>\n",
       "      <th>81</th>\n",
       "      <td>/Volumes/MUPU_4TB_1/code/kaggle_datasets/Logis...</td>\n",
       "      <td>2023-01-07 16:59:09</td>\n",
       "      <td>2020-04-10 08:10:50</td>\n",
       "      <td>0.10171</td>\n",
       "      <td>LogisticRegression.jpg</td>\n",
       "      <td>.jpg</td>\n",
       "      <td>photo</td>\n",
       "    </tr>\n",
       "    <tr>\n",
       "      <th>86</th>\n",
       "      <td>/Volumes/MUPU_4TB_1/code/kaggle_datasets/MPLAr...</td>\n",
       "      <td>2023-01-07 17:00:12</td>\n",
       "      <td>2020-04-18 21:22:12</td>\n",
       "      <td>0.02580</td>\n",
       "      <td>MPLArchitecture.png</td>\n",
       "      <td>.png</td>\n",
       "      <td>photo</td>\n",
       "    </tr>\n",
       "    <tr>\n",
       "      <th>...</th>\n",
       "      <td>...</td>\n",
       "      <td>...</td>\n",
       "      <td>...</td>\n",
       "      <td>...</td>\n",
       "      <td>...</td>\n",
       "      <td>...</td>\n",
       "      <td>...</td>\n",
       "    </tr>\n",
       "    <tr>\n",
       "      <th>146087</th>\n",
       "      <td>/Volumes/MUPU_4TB_2/BACKUPS/OnePlus8Pro_241220...</td>\n",
       "      <td>2023-12-24 17:35:23</td>\n",
       "      <td>2023-12-15 08:58:59</td>\n",
       "      <td>0.78631</td>\n",
       "      <td>Screenshot_2023-12-15-08-58-59-57_0438eb925998...</td>\n",
       "      <td>.jpg</td>\n",
       "      <td>photo</td>\n",
       "    </tr>\n",
       "    <tr>\n",
       "      <th>146088</th>\n",
       "      <td>/Volumes/MUPU_4TB_2/BACKUPS/OnePlus8Pro_241220...</td>\n",
       "      <td>2023-12-24 17:35:23</td>\n",
       "      <td>2023-12-15 08:59:36</td>\n",
       "      <td>0.60291</td>\n",
       "      <td>Screenshot_2023-12-15-08-59-36-23_0438eb925998...</td>\n",
       "      <td>.jpg</td>\n",
       "      <td>photo</td>\n",
       "    </tr>\n",
       "    <tr>\n",
       "      <th>146089</th>\n",
       "      <td>/Volumes/MUPU_4TB_2/BACKUPS/OnePlus8Pro_241220...</td>\n",
       "      <td>2023-12-24 17:35:23</td>\n",
       "      <td>2023-12-15 08:59:43</td>\n",
       "      <td>0.74182</td>\n",
       "      <td>Screenshot_2023-12-15-08-59-43-02_0438eb925998...</td>\n",
       "      <td>.jpg</td>\n",
       "      <td>photo</td>\n",
       "    </tr>\n",
       "    <tr>\n",
       "      <th>146090</th>\n",
       "      <td>/Volumes/MUPU_4TB_2/BACKUPS/OnePlus8Pro_241220...</td>\n",
       "      <td>2023-12-24 17:35:23</td>\n",
       "      <td>2023-12-15 09:00:28</td>\n",
       "      <td>0.56253</td>\n",
       "      <td>Screenshot_2023-12-15-09-00-28-02_0438eb925998...</td>\n",
       "      <td>.jpg</td>\n",
       "      <td>photo</td>\n",
       "    </tr>\n",
       "    <tr>\n",
       "      <th>146091</th>\n",
       "      <td>/Volumes/MUPU_4TB_2/BACKUPS/OnePlus8Pro_241220...</td>\n",
       "      <td>2023-12-24 17:35:23</td>\n",
       "      <td>2023-12-15 09:00:39</td>\n",
       "      <td>0.49058</td>\n",
       "      <td>Screenshot_2023-12-15-09-00-39-52_0438eb925998...</td>\n",
       "      <td>.jpg</td>\n",
       "      <td>photo</td>\n",
       "    </tr>\n",
       "  </tbody>\n",
       "</table>\n",
       "<p>114951 rows × 7 columns</p>\n",
       "</div>"
      ],
      "text/plain": [
       "                                                 FilePath        CreationDate  \\\n",
       "54      /Volumes/MUPU_4TB_1/code/kaggle_datasets/bobby... 2023-01-07 16:59:12   \n",
       "61      /Volumes/MUPU_4TB_1/code/kaggle_datasets/Denal... 2023-01-07 16:59:12   \n",
       "67      /Volumes/MUPU_4TB_1/code/kaggle_datasets/Figur... 2023-01-07 16:59:11   \n",
       "81      /Volumes/MUPU_4TB_1/code/kaggle_datasets/Logis... 2023-01-07 16:59:09   \n",
       "86      /Volumes/MUPU_4TB_1/code/kaggle_datasets/MPLAr... 2023-01-07 17:00:12   \n",
       "...                                                   ...                 ...   \n",
       "146087  /Volumes/MUPU_4TB_2/BACKUPS/OnePlus8Pro_241220... 2023-12-24 17:35:23   \n",
       "146088  /Volumes/MUPU_4TB_2/BACKUPS/OnePlus8Pro_241220... 2023-12-24 17:35:23   \n",
       "146089  /Volumes/MUPU_4TB_2/BACKUPS/OnePlus8Pro_241220... 2023-12-24 17:35:23   \n",
       "146090  /Volumes/MUPU_4TB_2/BACKUPS/OnePlus8Pro_241220... 2023-12-24 17:35:23   \n",
       "146091  /Volumes/MUPU_4TB_2/BACKUPS/OnePlus8Pro_241220... 2023-12-24 17:35:23   \n",
       "\n",
       "       LastModificationDate  SizeMB  \\\n",
       "54      2020-07-20 11:58:42 0.29537   \n",
       "61      2020-01-25 15:33:18 0.02980   \n",
       "67      2020-04-18 20:21:12 0.02575   \n",
       "81      2020-04-10 08:10:50 0.10171   \n",
       "86      2020-04-18 21:22:12 0.02580   \n",
       "...                     ...     ...   \n",
       "146087  2023-12-15 08:58:59 0.78631   \n",
       "146088  2023-12-15 08:59:36 0.60291   \n",
       "146089  2023-12-15 08:59:43 0.74182   \n",
       "146090  2023-12-15 09:00:28 0.56253   \n",
       "146091  2023-12-15 09:00:39 0.49058   \n",
       "\n",
       "                                                 FileName FileExtension  \\\n",
       "54                                              bobby.png          .png   \n",
       "61                                 Denali Mt McKinley.jpg          .jpg   \n",
       "67                                      FigureAxesMPL.png          .png   \n",
       "81                                 LogisticRegression.jpg          .jpg   \n",
       "86                                    MPLArchitecture.png          .png   \n",
       "...                                                   ...           ...   \n",
       "146087  Screenshot_2023-12-15-08-58-59-57_0438eb925998...          .jpg   \n",
       "146088  Screenshot_2023-12-15-08-59-36-23_0438eb925998...          .jpg   \n",
       "146089  Screenshot_2023-12-15-08-59-43-02_0438eb925998...          .jpg   \n",
       "146090  Screenshot_2023-12-15-09-00-28-02_0438eb925998...          .jpg   \n",
       "146091  Screenshot_2023-12-15-09-00-39-52_0438eb925998...          .jpg   \n",
       "\n",
       "       FileType  \n",
       "54        photo  \n",
       "61        photo  \n",
       "67        photo  \n",
       "81        photo  \n",
       "86        photo  \n",
       "...         ...  \n",
       "146087    photo  \n",
       "146088    photo  \n",
       "146089    photo  \n",
       "146090    photo  \n",
       "146091    photo  \n",
       "\n",
       "[114951 rows x 7 columns]"
      ]
     },
     "execution_count": 14,
     "metadata": {},
     "output_type": "execute_result"
    }
   ],
   "source": [
    "photos"
   ]
  },
  {
   "cell_type": "code",
   "execution_count": 8,
   "id": "84a89a62",
   "metadata": {},
   "outputs": [],
   "source": [
    "def parse_date(filename, split_by_text):\n",
    "\n",
    "    splitted_filename = filename.split(split_by_text)[1].split(\".\")[0]\n",
    "\n",
    "    if (len(splitted_filename) >= 8) and (split_by_text in [\"IMG_\", \"IMG-\"]):\n",
    "        return splitted_filename[:8]\n",
    "\n",
    "    elif \"Screenshot_\" in filename:\n",
    "        return splitted_filename[:10].replace(\"-\", \"\")\n",
    "\n",
    "    else:\n",
    "        return filename"
   ]
  },
  {
   "cell_type": "code",
   "execution_count": 9,
   "id": "c7d70d29",
   "metadata": {},
   "outputs": [],
   "source": [
    "def extract_creation_date_from_photo_name(row):\n",
    "\n",
    "    creation_date = row[\"CreationDate\"]\n",
    "    last_modification_date = row[\"LastModificationDate\"]\n",
    "    filename = row[\"FileName\"]\n",
    "\n",
    "    if \"IMG_\" in filename:\n",
    "        return parse_date(filename=filename, split_by_text=\"IMG_\")\n",
    "\n",
    "    elif \"IMG-\" in filename:\n",
    "        return parse_date(filename=filename, split_by_text=\"IMG-\")\n",
    "\n",
    "    elif \"Screenshot_\" in filename:\n",
    "        return parse_date(filename=filename, split_by_text=\"Screenshot_\")\n",
    "\n",
    "    else:\n",
    "        return filename"
   ]
  },
  {
   "cell_type": "code",
   "execution_count": 10,
   "id": "01bd7f67",
   "metadata": {},
   "outputs": [],
   "source": [
    "def parse_date_with_regex(filename):\n",
    "\n",
    "    import re\n",
    "\n",
    "    regex_rule = re.compile(pattern=\"\\d{8}|\\d{4}-\\d{2}-\\d{2}\")\n",
    "    results = regex_rule.findall(filename)\n",
    "\n",
    "    if len(results) > 0:\n",
    "\n",
    "        if \"-\" in results[0]:\n",
    "            return results[0].replace(\"-\", \"\")\n",
    "\n",
    "        else:\n",
    "            return results[0]\n",
    "\n",
    "    else:\n",
    "        return filename"
   ]
  },
  {
   "cell_type": "code",
   "execution_count": 11,
   "id": "f8b320c8",
   "metadata": {},
   "outputs": [],
   "source": [
    "sdf = df[(df[\"FileType\"] == \"photo\")].sample(50)"
   ]
  },
  {
   "cell_type": "code",
   "execution_count": null,
   "id": "246b5a7f",
   "metadata": {},
   "outputs": [],
   "source": [
    "sdf[\"ParseCreationDate\"] = sdf.apply(extract_creation_date_from_photo_name, axis=1)"
   ]
  },
  {
   "cell_type": "code",
   "execution_count": null,
   "id": "b73a1d5f",
   "metadata": {},
   "outputs": [],
   "source": [
    "sdf[\"ParseCreationDateWithRegex\"] = sdf[\"FileName\"].apply(parse_date_with_regex)"
   ]
  },
  {
   "cell_type": "code",
   "execution_count": null,
   "id": "e6f1aa86",
   "metadata": {
    "scrolled": false
   },
   "outputs": [],
   "source": [
    "sdf"
   ]
  },
  {
   "cell_type": "code",
   "execution_count": null,
   "id": "d8e17a7d",
   "metadata": {},
   "outputs": [],
   "source": [
    "top_file_extesions = pd.concat(\n",
    "    [\n",
    "        df[\"FileExtension\"].value_counts(),\n",
    "        df[\"FileExtension\"].value_counts(normalize=True),\n",
    "    ],\n",
    "    axis=1,\n",
    ").assign(CumSum=lambda df: df[\"proportion\"].cumsum())"
   ]
  },
  {
   "cell_type": "code",
   "execution_count": null,
   "id": "249d2f5e",
   "metadata": {},
   "outputs": [],
   "source": [
    "# Using top 20 file extesions we created the TOP_FILE_EXTENSIONS\n",
    "# and mapped it to the file type (audio, video, photo etc)\n",
    "top_file_extesions.head(20)"
   ]
  },
  {
   "cell_type": "code",
   "execution_count": null,
   "id": "a5671f04",
   "metadata": {},
   "outputs": [],
   "source": [
    "file_size_and_counter_by_type = (\n",
    "    df.groupby([\"FileExtension\", \"FileType\"])\n",
    "    .agg(\n",
    "        NrFiles=(\"FilePath\", len),\n",
    "        TotalSizeMB=(\"SizeMB\", np.sum),\n",
    "        TotalSizeGB=(\"SizeMB\", lambda series: np.sum(series) / (1024)),  # GB\n",
    "    )\n",
    "    .reset_index()\n",
    "    .assign(\n",
    "        NrFilesByType=lambda df: df.groupby(\"FileType\")[\"NrFiles\"].transform(np.sum),\n",
    "        TotalSizeMBByType=lambda df: df.groupby(\"FileType\")[\"TotalSizeMB\"].transform(\n",
    "            np.sum\n",
    "        ),\n",
    "        PctNrFilesByType=lambda df: df[\"NrFiles\"] / df[\"NrFilesByType\"],\n",
    "        PctSizeMBByType=lambda df: df[\"TotalSizeMB\"] / df[\"TotalSizeMBByType\"],\n",
    "    )\n",
    "    .query(\"FileType == 'video' or FileType == 'photo'\")\n",
    "    .sort_values(\"FileType\", ascending=False)\n",
    ")"
   ]
  },
  {
   "cell_type": "code",
   "execution_count": null,
   "id": "35f70f16",
   "metadata": {},
   "outputs": [],
   "source": [
    "file_size_and_counter_by_type"
   ]
  }
 ],
 "metadata": {
  "kernelspec": {
   "display_name": "Python 3 (ipykernel)",
   "language": "python",
   "name": "python3"
  },
  "language_info": {
   "codemirror_mode": {
    "name": "ipython",
    "version": 3
   },
   "file_extension": ".py",
   "mimetype": "text/x-python",
   "name": "python",
   "nbconvert_exporter": "python",
   "pygments_lexer": "ipython3",
   "version": "3.10.14"
  }
 },
 "nbformat": 4,
 "nbformat_minor": 5
}
