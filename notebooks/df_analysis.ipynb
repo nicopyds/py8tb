{
 "cells": [
  {
   "cell_type": "code",
   "execution_count": 1,
   "id": "3084acc6",
   "metadata": {},
   "outputs": [],
   "source": [
    "import warnings\n",
    "\n",
    "warnings.filterwarnings(\"ignore\")\n",
    "\n",
    "import os\n",
    "import sys\n",
    "\n",
    "import pickle\n",
    "\n",
    "import numpy as np\n",
    "import pandas as pd\n",
    "\n",
    "pd.options.display.float_format = \"{:.5f}\".format\n",
    "\n",
    "import matplotlib.image as mpimg\n",
    "import matplotlib.pyplot as plt\n",
    "import PIL\n",
    "from pillow_heif import register_heif_opener\n",
    "\n",
    "register_heif_opener()"
   ]
  },
  {
   "cell_type": "code",
   "execution_count": 2,
   "id": "b6cc8307",
   "metadata": {},
   "outputs": [],
   "source": [
    "CWD = os.getcwd()\n",
    "SAVE_PATH = os.path.join(os.path.dirname(CWD), \"data\")\n",
    "DF_PATH = os.path.join(SAVE_PATH, \"df_2024_09_28_20_49_33.parquet.gzip\")"
   ]
  },
  {
   "cell_type": "code",
   "execution_count": 3,
   "id": "b63a4fd7",
   "metadata": {},
   "outputs": [],
   "source": [
    "from py8tb import preprocessing_pipeline"
   ]
  },
  {
   "cell_type": "markdown",
   "id": "7ef72a65",
   "metadata": {},
   "source": [
    "# Análisis y preprocesamiento de df"
   ]
  },
  {
   "cell_type": "code",
   "execution_count": 4,
   "id": "d2cdb032",
   "metadata": {},
   "outputs": [],
   "source": [
    "df = preprocessing_pipeline(path=DF_PATH)"
   ]
  },
  {
   "cell_type": "code",
   "execution_count": 5,
   "id": "2251830b",
   "metadata": {},
   "outputs": [
    {
     "data": {
      "text/html": [
       "<div>\n",
       "<style scoped>\n",
       "    .dataframe tbody tr th:only-of-type {\n",
       "        vertical-align: middle;\n",
       "    }\n",
       "\n",
       "    .dataframe tbody tr th {\n",
       "        vertical-align: top;\n",
       "    }\n",
       "\n",
       "    .dataframe thead th {\n",
       "        text-align: right;\n",
       "    }\n",
       "</style>\n",
       "<table border=\"1\" class=\"dataframe\">\n",
       "  <thead>\n",
       "    <tr style=\"text-align: right;\">\n",
       "      <th></th>\n",
       "      <th>FileExtension</th>\n",
       "      <th>FileType</th>\n",
       "      <th>NrFiles</th>\n",
       "      <th>TotalSizeMB</th>\n",
       "      <th>TotalSizeGB</th>\n",
       "      <th>NrFilesByType</th>\n",
       "      <th>TotalSizeMBByType</th>\n",
       "      <th>PctNrFilesByType</th>\n",
       "      <th>PctSizeMBByType</th>\n",
       "    </tr>\n",
       "  </thead>\n",
       "  <tbody>\n",
       "    <tr>\n",
       "      <th>3</th>\n",
       "      <td>.mp4</td>\n",
       "      <td>video</td>\n",
       "      <td>24</td>\n",
       "      <td>3916.49690</td>\n",
       "      <td>3.82470</td>\n",
       "      <td>24</td>\n",
       "      <td>3916.49690</td>\n",
       "      <td>1.00000</td>\n",
       "      <td>1.00000</td>\n",
       "    </tr>\n",
       "    <tr>\n",
       "      <th>1</th>\n",
       "      <td>.heic</td>\n",
       "      <td>photo</td>\n",
       "      <td>10</td>\n",
       "      <td>15.11057</td>\n",
       "      <td>0.01476</td>\n",
       "      <td>36</td>\n",
       "      <td>62.09991</td>\n",
       "      <td>0.27778</td>\n",
       "      <td>0.24333</td>\n",
       "    </tr>\n",
       "    <tr>\n",
       "      <th>2</th>\n",
       "      <td>.jpg</td>\n",
       "      <td>photo</td>\n",
       "      <td>24</td>\n",
       "      <td>46.26830</td>\n",
       "      <td>0.04518</td>\n",
       "      <td>36</td>\n",
       "      <td>62.09991</td>\n",
       "      <td>0.66667</td>\n",
       "      <td>0.74506</td>\n",
       "    </tr>\n",
       "    <tr>\n",
       "      <th>4</th>\n",
       "      <td>.png</td>\n",
       "      <td>photo</td>\n",
       "      <td>2</td>\n",
       "      <td>0.72104</td>\n",
       "      <td>0.00070</td>\n",
       "      <td>36</td>\n",
       "      <td>62.09991</td>\n",
       "      <td>0.05556</td>\n",
       "      <td>0.01161</td>\n",
       "    </tr>\n",
       "  </tbody>\n",
       "</table>\n",
       "</div>"
      ],
      "text/plain": [
       "  FileExtension FileType  NrFiles  TotalSizeMB  TotalSizeGB  NrFilesByType  \\\n",
       "3          .mp4    video       24   3916.49690      3.82470             24   \n",
       "1         .heic    photo       10     15.11057      0.01476             36   \n",
       "2          .jpg    photo       24     46.26830      0.04518             36   \n",
       "4          .png    photo        2      0.72104      0.00070             36   \n",
       "\n",
       "   TotalSizeMBByType  PctNrFilesByType  PctSizeMBByType  \n",
       "3         3916.49690           1.00000          1.00000  \n",
       "1           62.09991           0.27778          0.24333  \n",
       "2           62.09991           0.66667          0.74506  \n",
       "4           62.09991           0.05556          0.01161  "
      ]
     },
     "execution_count": 5,
     "metadata": {},
     "output_type": "execute_result"
    }
   ],
   "source": [
    "file_size_and_counter_by_type = (\n",
    "    df.groupby([\"FileExtension\", \"FileType\"])\n",
    "    .agg(\n",
    "        NrFiles=(\"FilePath\", len),\n",
    "        TotalSizeMB=(\"SizeMB\", np.sum),\n",
    "        TotalSizeGB=(\"SizeMB\", lambda series: np.sum(series) / (1024)),  # GB\n",
    "    )\n",
    "    .reset_index()\n",
    "    .assign(\n",
    "        NrFilesByType=lambda df: df.groupby(\"FileType\")[\"NrFiles\"].transform(np.sum),\n",
    "        TotalSizeMBByType=lambda df: df.groupby(\"FileType\")[\"TotalSizeMB\"].transform(\n",
    "            np.sum\n",
    "        ),\n",
    "        PctNrFilesByType=lambda df: df[\"NrFiles\"] / df[\"NrFilesByType\"],\n",
    "        PctSizeMBByType=lambda df: df[\"TotalSizeMB\"] / df[\"TotalSizeMBByType\"],\n",
    "    )\n",
    "    .query(\"FileType == 'video' or FileType == 'photo'\")\n",
    "    .sort_values(\"FileType\", ascending=False)\n",
    ")\n",
    "\n",
    "file_size_and_counter_by_type"
   ]
  },
  {
   "cell_type": "code",
   "execution_count": 6,
   "id": "c6de2714",
   "metadata": {},
   "outputs": [],
   "source": [
    "photos = df[df[\"FileType\"] == \"photo\"]"
   ]
  },
  {
   "cell_type": "code",
   "execution_count": 7,
   "id": "46a1b96f",
   "metadata": {},
   "outputs": [
    {
     "data": {
      "text/html": [
       "<div>\n",
       "<style scoped>\n",
       "    .dataframe tbody tr th:only-of-type {\n",
       "        vertical-align: middle;\n",
       "    }\n",
       "\n",
       "    .dataframe tbody tr th {\n",
       "        vertical-align: top;\n",
       "    }\n",
       "\n",
       "    .dataframe thead th {\n",
       "        text-align: right;\n",
       "    }\n",
       "</style>\n",
       "<table border=\"1\" class=\"dataframe\">\n",
       "  <thead>\n",
       "    <tr style=\"text-align: right;\">\n",
       "      <th></th>\n",
       "      <th>FilePath</th>\n",
       "      <th>CreationDate</th>\n",
       "      <th>LastModificationDate</th>\n",
       "      <th>SizeMB</th>\n",
       "      <th>Sha256</th>\n",
       "      <th>FileName</th>\n",
       "      <th>FileExtension</th>\n",
       "      <th>FileType</th>\n",
       "    </tr>\n",
       "  </thead>\n",
       "  <tbody>\n",
       "    <tr>\n",
       "      <th>5</th>\n",
       "      <td>/Users/nicolaepopescul/Desktop/code/streams/20...</td>\n",
       "      <td>2024-09-28 19:46:37</td>\n",
       "      <td>2022-08-05 17:43:26</td>\n",
       "      <td>2.04483</td>\n",
       "      <td>0280e5574bf8a0b0d737e40f2a3775bc09420e18450752...</td>\n",
       "      <td>IMG_20220804_222534.jpg</td>\n",
       "      <td>.jpg</td>\n",
       "      <td>photo</td>\n",
       "    </tr>\n",
       "    <tr>\n",
       "      <th>6</th>\n",
       "      <td>/Users/nicolaepopescul/Desktop/code/streams/20...</td>\n",
       "      <td>2024-09-28 19:46:37</td>\n",
       "      <td>2022-08-05 17:43:30</td>\n",
       "      <td>1.76766</td>\n",
       "      <td>b204d2e87bcf61ab3ca32464bf74cab213fbb1204898dc...</td>\n",
       "      <td>IMG_20220804_215414.jpg</td>\n",
       "      <td>.jpg</td>\n",
       "      <td>photo</td>\n",
       "    </tr>\n",
       "    <tr>\n",
       "      <th>7</th>\n",
       "      <td>/Users/nicolaepopescul/Desktop/code/streams/20...</td>\n",
       "      <td>2024-09-28 19:46:37</td>\n",
       "      <td>2022-08-05 17:43:30</td>\n",
       "      <td>1.89978</td>\n",
       "      <td>d6ce316634e919fe8f1c2fbf1b2d164d5d1c0f5512419c...</td>\n",
       "      <td>IMG_20220804_210356.jpg</td>\n",
       "      <td>.jpg</td>\n",
       "      <td>photo</td>\n",
       "    </tr>\n",
       "    <tr>\n",
       "      <th>9</th>\n",
       "      <td>/Users/nicolaepopescul/Desktop/code/streams/20...</td>\n",
       "      <td>2024-09-28 19:46:37</td>\n",
       "      <td>2022-08-05 17:43:28</td>\n",
       "      <td>1.39509</td>\n",
       "      <td>f43566fed269b114d301ccf73676ab14a4c8b9c5762fd9...</td>\n",
       "      <td>IMG_20220804_213950.jpg</td>\n",
       "      <td>.jpg</td>\n",
       "      <td>photo</td>\n",
       "    </tr>\n",
       "    <tr>\n",
       "      <th>10</th>\n",
       "      <td>/Users/nicolaepopescul/Desktop/code/streams/20...</td>\n",
       "      <td>2024-09-28 19:46:37</td>\n",
       "      <td>2022-08-05 17:43:31</td>\n",
       "      <td>2.22810</td>\n",
       "      <td>e55a88f92ea2b20db5c0284314b68642c53dffda2aca3d...</td>\n",
       "      <td>IMG_20220804_210844.jpg</td>\n",
       "      <td>.jpg</td>\n",
       "      <td>photo</td>\n",
       "    </tr>\n",
       "  </tbody>\n",
       "</table>\n",
       "</div>"
      ],
      "text/plain": [
       "                                             FilePath        CreationDate  \\\n",
       "5   /Users/nicolaepopescul/Desktop/code/streams/20... 2024-09-28 19:46:37   \n",
       "6   /Users/nicolaepopescul/Desktop/code/streams/20... 2024-09-28 19:46:37   \n",
       "7   /Users/nicolaepopescul/Desktop/code/streams/20... 2024-09-28 19:46:37   \n",
       "9   /Users/nicolaepopescul/Desktop/code/streams/20... 2024-09-28 19:46:37   \n",
       "10  /Users/nicolaepopescul/Desktop/code/streams/20... 2024-09-28 19:46:37   \n",
       "\n",
       "   LastModificationDate  SizeMB  \\\n",
       "5   2022-08-05 17:43:26 2.04483   \n",
       "6   2022-08-05 17:43:30 1.76766   \n",
       "7   2022-08-05 17:43:30 1.89978   \n",
       "9   2022-08-05 17:43:28 1.39509   \n",
       "10  2022-08-05 17:43:31 2.22810   \n",
       "\n",
       "                                               Sha256  \\\n",
       "5   0280e5574bf8a0b0d737e40f2a3775bc09420e18450752...   \n",
       "6   b204d2e87bcf61ab3ca32464bf74cab213fbb1204898dc...   \n",
       "7   d6ce316634e919fe8f1c2fbf1b2d164d5d1c0f5512419c...   \n",
       "9   f43566fed269b114d301ccf73676ab14a4c8b9c5762fd9...   \n",
       "10  e55a88f92ea2b20db5c0284314b68642c53dffda2aca3d...   \n",
       "\n",
       "                   FileName FileExtension FileType  \n",
       "5   IMG_20220804_222534.jpg          .jpg    photo  \n",
       "6   IMG_20220804_215414.jpg          .jpg    photo  \n",
       "7   IMG_20220804_210356.jpg          .jpg    photo  \n",
       "9   IMG_20220804_213950.jpg          .jpg    photo  \n",
       "10  IMG_20220804_210844.jpg          .jpg    photo  "
      ]
     },
     "execution_count": 7,
     "metadata": {},
     "output_type": "execute_result"
    }
   ],
   "source": [
    "photos.head()"
   ]
  },
  {
   "cell_type": "code",
   "execution_count": 8,
   "id": "03c590e5",
   "metadata": {},
   "outputs": [],
   "source": [
    "SHA = (\n",
    "    photos\n",
    "    # .pipe(lambda df: df[df[\"FileExtension\"] == \".heic\"])\n",
    "    [\"Sha256\"]\n",
    "    .value_counts()\n",
    "    .reset_index()\n",
    "    .rename(columns={\"count\": \"Count\"})\n",
    "    .pipe(lambda df: df[df[\"Count\"] >= 2])\n",
    "    .sample(1)[\"Sha256\"]\n",
    "    .iloc[0]\n",
    ")"
   ]
  },
  {
   "cell_type": "code",
   "execution_count": 9,
   "id": "b4efc7f2",
   "metadata": {},
   "outputs": [
    {
     "data": {
      "text/plain": [
       "'d6ce316634e919fe8f1c2fbf1b2d164d5d1c0f5512419c6d4703faca26921079'"
      ]
     },
     "execution_count": 9,
     "metadata": {},
     "output_type": "execute_result"
    }
   ],
   "source": [
    "SHA"
   ]
  },
  {
   "cell_type": "code",
   "execution_count": 10,
   "id": "57845097",
   "metadata": {},
   "outputs": [],
   "source": [
    "def get_matplotlib_figure_params(paths: list[str]) -> tuple[int, int]:\n",
    "    if (len(paths) % 3) == 0:\n",
    "        return (int(len(paths) / 3), 3)\n",
    "    elif (len(paths) % 2) == 0:\n",
    "        return (int(len(paths) / 2), 2)\n",
    "    else:\n",
    "        return (int(len(paths) / 2) + 1, 2)"
   ]
  },
  {
   "cell_type": "code",
   "execution_count": 11,
   "id": "b383863e",
   "metadata": {},
   "outputs": [],
   "source": [
    "def plot_duplicated_photos(sha: str, photos: pd.DataFrame) -> None:\n",
    "\n",
    "    # get the path to plot/show images\n",
    "    paths = photos[photos[\"Sha256\"].str.contains(sha)][\"FilePath\"].tolist()\n",
    "    nr_rows, nr_columns = get_matplotlib_figure_params(paths=paths)\n",
    "\n",
    "    # plotting with matplotlib\n",
    "    fig = plt.figure(figsize=(15, 5))\n",
    "    axes = fig.subplots(nr_rows, nr_columns).flatten()\n",
    "\n",
    "    for path, ax in zip(paths, axes):\n",
    "        ax.imshow(PIL.Image.open(path))"
   ]
  },
  {
   "cell_type": "code",
   "execution_count": 12,
   "id": "d2c46e7d",
   "metadata": {},
   "outputs": [
    {
     "data": {
      "text/html": [
       "<div>\n",
       "<style scoped>\n",
       "    .dataframe tbody tr th:only-of-type {\n",
       "        vertical-align: middle;\n",
       "    }\n",
       "\n",
       "    .dataframe tbody tr th {\n",
       "        vertical-align: top;\n",
       "    }\n",
       "\n",
       "    .dataframe thead th {\n",
       "        text-align: right;\n",
       "    }\n",
       "</style>\n",
       "<table border=\"1\" class=\"dataframe\">\n",
       "  <thead>\n",
       "    <tr style=\"text-align: right;\">\n",
       "      <th></th>\n",
       "      <th>FilePath</th>\n",
       "      <th>CreationDate</th>\n",
       "      <th>LastModificationDate</th>\n",
       "      <th>SizeMB</th>\n",
       "      <th>Sha256</th>\n",
       "      <th>FileName</th>\n",
       "      <th>FileExtension</th>\n",
       "      <th>FileType</th>\n",
       "    </tr>\n",
       "  </thead>\n",
       "  <tbody>\n",
       "    <tr>\n",
       "      <th>7</th>\n",
       "      <td>/Users/nicolaepopescul/Desktop/code/streams/20...</td>\n",
       "      <td>2024-09-28 19:46:37</td>\n",
       "      <td>2022-08-05 17:43:30</td>\n",
       "      <td>1.89978</td>\n",
       "      <td>d6ce316634e919fe8f1c2fbf1b2d164d5d1c0f5512419c...</td>\n",
       "      <td>IMG_20220804_210356.jpg</td>\n",
       "      <td>.jpg</td>\n",
       "      <td>photo</td>\n",
       "    </tr>\n",
       "    <tr>\n",
       "      <th>47</th>\n",
       "      <td>/Users/nicolaepopescul/Desktop/code/streams/20...</td>\n",
       "      <td>2024-09-28 19:46:19</td>\n",
       "      <td>2022-08-05 17:43:30</td>\n",
       "      <td>1.89978</td>\n",
       "      <td>d6ce316634e919fe8f1c2fbf1b2d164d5d1c0f5512419c...</td>\n",
       "      <td>IMG_20220804_210356.jpg</td>\n",
       "      <td>.jpg</td>\n",
       "      <td>photo</td>\n",
       "    </tr>\n",
       "  </tbody>\n",
       "</table>\n",
       "</div>"
      ],
      "text/plain": [
       "                                             FilePath        CreationDate  \\\n",
       "7   /Users/nicolaepopescul/Desktop/code/streams/20... 2024-09-28 19:46:37   \n",
       "47  /Users/nicolaepopescul/Desktop/code/streams/20... 2024-09-28 19:46:19   \n",
       "\n",
       "   LastModificationDate  SizeMB  \\\n",
       "7   2022-08-05 17:43:30 1.89978   \n",
       "47  2022-08-05 17:43:30 1.89978   \n",
       "\n",
       "                                               Sha256  \\\n",
       "7   d6ce316634e919fe8f1c2fbf1b2d164d5d1c0f5512419c...   \n",
       "47  d6ce316634e919fe8f1c2fbf1b2d164d5d1c0f5512419c...   \n",
       "\n",
       "                   FileName FileExtension FileType  \n",
       "7   IMG_20220804_210356.jpg          .jpg    photo  \n",
       "47  IMG_20220804_210356.jpg          .jpg    photo  "
      ]
     },
     "execution_count": 12,
     "metadata": {},
     "output_type": "execute_result"
    }
   ],
   "source": [
    "photos[photos[\"Sha256\"].str.contains(SHA)]"
   ]
  },
  {
   "cell_type": "code",
   "execution_count": 1,
   "id": "1f45445f",
   "metadata": {},
   "outputs": [],
   "source": [
    "# ¢ plot_duplicated_photos(sha=SHA, photos=photos)"
   ]
  },
  {
   "cell_type": "code",
   "execution_count": 18,
   "id": "5d9b1069",
   "metadata": {},
   "outputs": [],
   "source": [
    "sha256_list = photos[\"Sha256\"].values.tolist()\n",
    "path_list = photos[\"FilePath\"].values.tolist()\n",
    "\n",
    "# %%timeit\n",
    "\n",
    "dict_sha256_to_save = {}\n",
    "dict_sha256_to_delete = {}\n",
    "\n",
    "for sha256_, path_ in zip(sha256_list, path_list):\n",
    "    if sha256_ not in dict_sha256_to_save.keys():\n",
    "        dict_sha256_to_save[sha256_] = path_\n",
    "    else:\n",
    "        dict_sha256_to_delete[path_] = sha256_"
   ]
  },
  {
   "cell_type": "code",
   "execution_count": 20,
   "id": "cde47984",
   "metadata": {},
   "outputs": [
    {
     "data": {
      "text/plain": [
       "18"
      ]
     },
     "execution_count": 20,
     "metadata": {},
     "output_type": "execute_result"
    }
   ],
   "source": [
    "len(dict_sha256_to_save)"
   ]
  },
  {
   "cell_type": "code",
   "execution_count": 21,
   "id": "58aaec58",
   "metadata": {},
   "outputs": [
    {
     "data": {
      "text/plain": [
       "18"
      ]
     },
     "execution_count": 21,
     "metadata": {},
     "output_type": "execute_result"
    }
   ],
   "source": [
    "len(dict_sha256_to_delete)"
   ]
  }
 ],
 "metadata": {
  "kernelspec": {
   "display_name": "env_main",
   "language": "python",
   "name": "env_main"
  },
  "language_info": {
   "codemirror_mode": {
    "name": "ipython",
    "version": 3
   },
   "file_extension": ".py",
   "mimetype": "text/x-python",
   "name": "python",
   "nbconvert_exporter": "python",
   "pygments_lexer": "ipython3",
   "version": "3.10.18"
  }
 },
 "nbformat": 4,
 "nbformat_minor": 5
}
