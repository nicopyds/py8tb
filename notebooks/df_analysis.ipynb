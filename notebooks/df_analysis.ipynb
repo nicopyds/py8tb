{
 "cells": [
  {
   "cell_type": "code",
   "execution_count": null,
   "id": "3084acc6",
   "metadata": {},
   "outputs": [],
   "source": [
    "import warnings\n",
    "\n",
    "warnings.filterwarnings(\"ignore\")\n",
    "\n",
    "import os\n",
    "import sys\n",
    "\n",
    "import pickle\n",
    "\n",
    "import numpy as np\n",
    "import pandas as pd\n",
    "\n",
    "pd.options.display.float_format = \"{:.5f}\".format\n",
    "\n",
    "import matplotlib.image as mpimg\n",
    "import matplotlib.pyplot as plt\n",
    "import PIL\n",
    "\n",
    "from pillow_heif import register_heif_opener\n",
    "\n",
    "register_heif_opener()\n",
    "\n",
    "from IPython.display import Video"
   ]
  },
  {
   "cell_type": "code",
   "execution_count": null,
   "id": "b6cc8307",
   "metadata": {},
   "outputs": [],
   "source": [
    "CWD = os.getcwd()\n",
    "SAVE_PATH = os.path.join(os.path.dirname(CWD), \"data\")"
   ]
  },
  {
   "cell_type": "code",
   "execution_count": null,
   "id": "786e7cc7",
   "metadata": {},
   "outputs": [],
   "source": [
    "DF_FILE_NAME = sorted([f for f in os.listdir(SAVE_PATH) if \".csv\" in f], reverse=True)[\n",
    "    0\n",
    "]\n",
    "DF_PATH = os.path.join(SAVE_PATH, DF_FILE_NAME)"
   ]
  },
  {
   "cell_type": "markdown",
   "id": "8a285bfd",
   "metadata": {},
   "source": [
    "DF_PATH = os.path.join(SAVE_PATH, \"df_2025_09_25_19_33_18.csv\")\n",
    "RESULTS_PATH = os.path.join(SAVE_PATH, \"results_df2025_09_25_19_33_18.csv\")"
   ]
  },
  {
   "cell_type": "markdown",
   "id": "7ef72a65",
   "metadata": {},
   "source": [
    "# Análisis y preprocesamiento de df"
   ]
  },
  {
   "cell_type": "code",
   "execution_count": null,
   "id": "e2ac94ef",
   "metadata": {},
   "outputs": [],
   "source": [
    "df = pd.read_csv(DF_PATH)\n",
    "df = df[df[\"FileType\"].isin([\"video\", \"photo\"])]"
   ]
  },
  {
   "cell_type": "code",
   "execution_count": null,
   "id": "92f49c71",
   "metadata": {},
   "outputs": [],
   "source": [
    "df"
   ]
  },
  {
   "cell_type": "code",
   "execution_count": null,
   "id": "2251830b",
   "metadata": {},
   "outputs": [],
   "source": [
    "file_size_and_counter_by_type = (\n",
    "    df.groupby([\"FileExtension\", \"FileType\"])\n",
    "    .agg(\n",
    "        NrFiles=(\"FilePath\", len),\n",
    "        TotalSizeMB=(\"SizeMB\", np.sum),\n",
    "        TotalSizeGB=(\"SizeMB\", lambda series: np.sum(series) / (1024)),  # GB\n",
    "    )\n",
    "    .reset_index()\n",
    "    .assign(\n",
    "        NrFilesByType=lambda df: df.groupby(\"FileType\")[\"NrFiles\"].transform(np.sum),\n",
    "        TotalSizeMBByType=lambda df: df.groupby(\"FileType\")[\"TotalSizeMB\"].transform(\n",
    "            np.sum\n",
    "        ),\n",
    "        PctNrFilesByType=lambda df: df[\"NrFiles\"] / df[\"NrFilesByType\"],\n",
    "        PctSizeMBByType=lambda df: df[\"TotalSizeMB\"] / df[\"TotalSizeMBByType\"],\n",
    "    )\n",
    "    .query(\"FileType == 'video' or FileType == 'photo'\")\n",
    "    .sort_values(\"FileType\", ascending=False)\n",
    ")\n",
    "\n",
    "file_size_and_counter_by_type"
   ]
  },
  {
   "cell_type": "code",
   "execution_count": null,
   "id": "03c590e5",
   "metadata": {},
   "outputs": [],
   "source": [
    "SHA = (\n",
    "    df.pipe(lambda df: df[df[\"FileType\"].isin([\"video\", \"photo\"])])[\"Sha256\"]\n",
    "    .value_counts()\n",
    "    .reset_index()\n",
    "    .rename(columns={\"count\": \"Count\"})\n",
    "    .pipe(lambda df: df[df[\"Count\"] >= 2])\n",
    "    .sample(1)[\"Sha256\"]\n",
    "    .iloc[0]\n",
    ")"
   ]
  },
  {
   "cell_type": "code",
   "execution_count": null,
   "id": "57845097",
   "metadata": {},
   "outputs": [],
   "source": [
    "def get_matplotlib_figure_params(paths: list[str]) -> tuple[int, int]:\n",
    "    if (len(paths) % 3) == 0:\n",
    "        return (int(len(paths) / 3), 3)\n",
    "    elif (len(paths) % 2) == 0:\n",
    "        return (int(len(paths) / 2), 2)\n",
    "    else:\n",
    "        return (int(len(paths) / 2) + 1, 2)"
   ]
  },
  {
   "cell_type": "code",
   "execution_count": null,
   "id": "b383863e",
   "metadata": {},
   "outputs": [],
   "source": [
    "def plot_duplicated_photos(sha: str, photos: pd.DataFrame) -> None:\n",
    "\n",
    "    # get the path to plot/show images\n",
    "    paths = photos[photos[\"Sha256\"].str.contains(sha)][\"FilePath\"].tolist()\n",
    "    nr_rows, nr_columns = get_matplotlib_figure_params(paths=paths)\n",
    "\n",
    "    # plotting with matplotlib\n",
    "    fig = plt.figure(figsize=(15, 5))\n",
    "    axes = fig.subplots(nr_rows, nr_columns).flatten()\n",
    "\n",
    "    for path, ax in zip(paths, axes):\n",
    "        ax.imshow(PIL.Image.open(path))"
   ]
  },
  {
   "cell_type": "code",
   "execution_count": null,
   "id": "d2c46e7d",
   "metadata": {},
   "outputs": [],
   "source": [
    "df[df[\"Sha256\"].str.contains(SHA)]"
   ]
  },
  {
   "cell_type": "code",
   "execution_count": null,
   "id": "4e3baf7a",
   "metadata": {},
   "outputs": [],
   "source": [
    "path_ = df[df[\"Sha256\"].str.contains(SHA)].iloc[0][\"FilePath\"]\n",
    "file_type_ = df[df[\"Sha256\"].str.contains(SHA)].iloc[0][\"FileType\"]"
   ]
  },
  {
   "cell_type": "code",
   "execution_count": null,
   "id": "456c1e9b",
   "metadata": {},
   "outputs": [],
   "source": [
    "path_"
   ]
  },
  {
   "cell_type": "code",
   "execution_count": null,
   "id": "1f45445f",
   "metadata": {},
   "outputs": [],
   "source": [
    "if file_type_ == \"photo\":\n",
    "    plot_duplicated_photos(sha=SHA, photos=df)"
   ]
  },
  {
   "cell_type": "code",
   "execution_count": null,
   "id": "59760d7a",
   "metadata": {},
   "outputs": [],
   "source": [
    "Video(path_, embed=True, width=320, height=320)"
   ]
  },
  {
   "cell_type": "code",
   "execution_count": null,
   "id": "5d9b1069",
   "metadata": {},
   "outputs": [],
   "source": [
    "sha256_list = df[\"Sha256\"].values.tolist()\n",
    "path_list = df[\"FilePath\"].values.tolist()\n",
    "\n",
    "dict_sha256_to_save = {}\n",
    "dict_sha256_to_delete = {}\n",
    "\n",
    "for sha256_, path_ in zip(sha256_list, path_list):\n",
    "    if sha256_ not in dict_sha256_to_save.keys():\n",
    "        dict_sha256_to_save[sha256_] = path_\n",
    "    else:\n",
    "        dict_sha256_to_delete[path_] = sha256_"
   ]
  },
  {
   "cell_type": "code",
   "execution_count": null,
   "id": "cde47984",
   "metadata": {},
   "outputs": [],
   "source": [
    "len(dict_sha256_to_save)"
   ]
  },
  {
   "cell_type": "code",
   "execution_count": null,
   "id": "58aaec58",
   "metadata": {},
   "outputs": [],
   "source": [
    "len(dict_sha256_to_delete)"
   ]
  },
  {
   "cell_type": "code",
   "execution_count": null,
   "id": "84a3dcbd",
   "metadata": {},
   "outputs": [],
   "source": []
  }
 ],
 "metadata": {
  "kernelspec": {
   "display_name": "env_main",
   "language": "python",
   "name": "env_main"
  },
  "language_info": {
   "codemirror_mode": {
    "name": "ipython",
    "version": 3
   },
   "file_extension": ".py",
   "mimetype": "text/x-python",
   "name": "python",
   "nbconvert_exporter": "python",
   "pygments_lexer": "ipython3",
   "version": "3.10.18"
  }
 },
 "nbformat": 4,
 "nbformat_minor": 5
}
