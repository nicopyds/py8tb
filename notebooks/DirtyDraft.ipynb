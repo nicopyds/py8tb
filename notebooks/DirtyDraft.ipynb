{
 "cells": [
  {
   "cell_type": "code",
   "execution_count": 1,
   "id": "3084acc6",
   "metadata": {},
   "outputs": [],
   "source": [
    "import warnings\n",
    "\n",
    "warnings.filterwarnings(\"ignore\")\n",
    "\n",
    "import os\n",
    "\n",
    "import datetime\n",
    "\n",
    "\n",
    "import numpy as np\n",
    "import pandas as pd\n",
    "\n",
    "pd.options.display.float_format = \"{:.5f}\".format\n",
    "\n",
    "import matplotlib.pyplot as plt\n",
    "import PIL\n",
    "\n",
    "from pillow_heif import register_heif_opener\n",
    "\n",
    "register_heif_opener()\n",
    "\n",
    "from IPython.display import Video\n",
    "\n",
    "from py8tb import preprocessing_pipeline"
   ]
  },
  {
   "cell_type": "code",
   "execution_count": 2,
   "id": "b6cc8307",
   "metadata": {},
   "outputs": [],
   "source": [
    "CWD = os.getcwd()\n",
    "SAVE_PATH = os.path.join(os.path.dirname(CWD), \"data\")"
   ]
  },
  {
   "cell_type": "code",
   "execution_count": 3,
   "id": "d4608b19",
   "metadata": {},
   "outputs": [],
   "source": [
    "LIST_OF_FILES = sorted([f for f in os.listdir(SAVE_PATH) if \".csv\" in f], reverse=True)"
   ]
  },
  {
   "cell_type": "code",
   "execution_count": 4,
   "id": "86c5ea9b",
   "metadata": {},
   "outputs": [
    {
     "data": {
      "text/plain": [
       "['results_dfs_2025_10_04_20_52_13.csv',\n",
       " 'results_dfs_2025_10_03_18_31_09.csv',\n",
       " 'results_dfs_2025_10_03_15_08_42.csv',\n",
       " 'results_dfs_2025_10_03_15_05_53.csv',\n",
       " 'merged_2025_10_04_20_52_13.csv',\n",
       " 'merged_2025_10_03_18_31_09.csv',\n",
       " 'merged_2025_10_03_15_08_42.csv',\n",
       " 'merged_2025_10_03_15_05_53.csv',\n",
       " 'df_2025_10_04_20_52_13.csv',\n",
       " 'df_2025_10_03_18_31_09.csv',\n",
       " 'df_2025_10_03_15_08_42.csv',\n",
       " 'df_2025_10_03_15_05_53.csv',\n",
       " 'df.csv']"
      ]
     },
     "execution_count": 4,
     "metadata": {},
     "output_type": "execute_result"
    }
   ],
   "source": [
    "LIST_OF_FILES"
   ]
  },
  {
   "cell_type": "code",
   "execution_count": 5,
   "id": "786e7cc7",
   "metadata": {},
   "outputs": [],
   "source": [
    "DF_FILE_NAME = \"df.csv\"\n",
    "DF_PATH = os.path.join(SAVE_PATH, DF_FILE_NAME)"
   ]
  },
  {
   "cell_type": "markdown",
   "id": "7ef72a65",
   "metadata": {},
   "source": [
    "# Análisis y preprocesamiento de df"
   ]
  },
  {
   "cell_type": "code",
   "execution_count": 6,
   "id": "e2ac94ef",
   "metadata": {},
   "outputs": [],
   "source": [
    "df = pd.read_csv(DF_PATH)"
   ]
  },
  {
   "cell_type": "code",
   "execution_count": 7,
   "id": "6d4e883b",
   "metadata": {},
   "outputs": [],
   "source": [
    "df = preprocessing_pipeline(df=df)"
   ]
  },
  {
   "cell_type": "code",
   "execution_count": 8,
   "id": "ecfc6022",
   "metadata": {},
   "outputs": [
    {
     "name": "stdout",
     "output_type": "stream",
     "text": [
      "<class 'pandas.core.frame.DataFrame'>\n",
      "RangeIndex: 179282 entries, 0 to 179281\n",
      "Data columns (total 9 columns):\n",
      " #   Column                Non-Null Count   Dtype         \n",
      "---  ------                --------------   -----         \n",
      " 0   Unnamed: 0            179282 non-null  int64         \n",
      " 1   FilePath              179282 non-null  object        \n",
      " 2   CreationDate          179282 non-null  datetime64[ns]\n",
      " 3   LastModificationDate  179282 non-null  datetime64[ns]\n",
      " 4   SizeMB                179282 non-null  float64       \n",
      " 5   FileName              179282 non-null  object        \n",
      " 6   FileExtension         179282 non-null  object        \n",
      " 7   FileType              179282 non-null  object        \n",
      " 8   Sha256                179282 non-null  object        \n",
      "dtypes: datetime64[ns](2), float64(1), int64(1), object(5)\n",
      "memory usage: 12.3+ MB\n"
     ]
    }
   ],
   "source": [
    "df.info()"
   ]
  },
  {
   "cell_type": "code",
   "execution_count": 9,
   "id": "10982dea",
   "metadata": {},
   "outputs": [
    {
     "data": {
      "text/plain": [
       "(179282, 9)"
      ]
     },
     "execution_count": 9,
     "metadata": {},
     "output_type": "execute_result"
    }
   ],
   "source": [
    "df.shape"
   ]
  },
  {
   "cell_type": "code",
   "execution_count": 10,
   "id": "ab49cb95",
   "metadata": {},
   "outputs": [
    {
     "data": {
      "text/plain": [
       "Unnamed: 0              0\n",
       "FilePath                0\n",
       "CreationDate            0\n",
       "LastModificationDate    0\n",
       "SizeMB                  0\n",
       "FileName                0\n",
       "FileExtension           0\n",
       "FileType                0\n",
       "Sha256                  0\n",
       "dtype: int64"
      ]
     },
     "execution_count": 10,
     "metadata": {},
     "output_type": "execute_result"
    }
   ],
   "source": [
    "df.isnull().sum()"
   ]
  },
  {
   "cell_type": "code",
   "execution_count": 11,
   "id": "4d8023fd",
   "metadata": {},
   "outputs": [
    {
     "data": {
      "text/html": [
       "<div>\n",
       "<style scoped>\n",
       "    .dataframe tbody tr th:only-of-type {\n",
       "        vertical-align: middle;\n",
       "    }\n",
       "\n",
       "    .dataframe tbody tr th {\n",
       "        vertical-align: top;\n",
       "    }\n",
       "\n",
       "    .dataframe thead th {\n",
       "        text-align: right;\n",
       "    }\n",
       "</style>\n",
       "<table border=\"1\" class=\"dataframe\">\n",
       "  <thead>\n",
       "    <tr style=\"text-align: right;\">\n",
       "      <th></th>\n",
       "      <th>Unnamed: 0</th>\n",
       "      <th>FilePath</th>\n",
       "      <th>CreationDate</th>\n",
       "      <th>LastModificationDate</th>\n",
       "      <th>SizeMB</th>\n",
       "      <th>FileName</th>\n",
       "      <th>FileExtension</th>\n",
       "      <th>FileType</th>\n",
       "      <th>Sha256</th>\n",
       "    </tr>\n",
       "  </thead>\n",
       "  <tbody>\n",
       "    <tr>\n",
       "      <th>0</th>\n",
       "      <td>2143</td>\n",
       "      <td>/Volumes/MUPU_4TB_1/code/streams/OBS/2022-10-1...</td>\n",
       "      <td>2023-01-07 16:57:51</td>\n",
       "      <td>2022-10-12 21:35:43</td>\n",
       "      <td>595.85804</td>\n",
       "      <td>2022-10-12 20-34-05.mp4</td>\n",
       "      <td>.mp4</td>\n",
       "      <td>video</td>\n",
       "      <td>84b28dba2000c61ee6b43c804eae78359dbb102802e430...</td>\n",
       "    </tr>\n",
       "    <tr>\n",
       "      <th>1</th>\n",
       "      <td>2144</td>\n",
       "      <td>/Volumes/MUPU_4TB_1/code/streams/OBS/2022-11-0...</td>\n",
       "      <td>2023-01-07 16:57:41</td>\n",
       "      <td>2022-11-06 18:10:22</td>\n",
       "      <td>3.35236</td>\n",
       "      <td>2022-11-06 18-10-11.mp4</td>\n",
       "      <td>.mp4</td>\n",
       "      <td>video</td>\n",
       "      <td>dc7c9481942712c85415b04eeee4153405a866b4341cb0...</td>\n",
       "    </tr>\n",
       "    <tr>\n",
       "      <th>2</th>\n",
       "      <td>2145</td>\n",
       "      <td>/Volumes/MUPU_4TB_1/code/streams/OBS/2022-11-0...</td>\n",
       "      <td>2023-01-07 16:57:52</td>\n",
       "      <td>2022-11-06 18:10:54</td>\n",
       "      <td>2.99255</td>\n",
       "      <td>2022-11-06 18-10-45.mp4</td>\n",
       "      <td>.mp4</td>\n",
       "      <td>video</td>\n",
       "      <td>62945d5b16865101fc7ebf9c044cd9b24c92f785675b94...</td>\n",
       "    </tr>\n",
       "    <tr>\n",
       "      <th>3</th>\n",
       "      <td>2146</td>\n",
       "      <td>/Volumes/MUPU_4TB_1/code/streams/OBS/2022-11-0...</td>\n",
       "      <td>2023-01-07 16:57:51</td>\n",
       "      <td>2022-11-06 18:16:17</td>\n",
       "      <td>1.54214</td>\n",
       "      <td>2022-11-06 18-16-10.mp4</td>\n",
       "      <td>.mp4</td>\n",
       "      <td>video</td>\n",
       "      <td>500cc7dfee51e269d389535941859b8d92500ab5c33dcb...</td>\n",
       "    </tr>\n",
       "    <tr>\n",
       "      <th>4</th>\n",
       "      <td>2147</td>\n",
       "      <td>/Volumes/MUPU_4TB_1/code/streams/OBS/2022-11-0...</td>\n",
       "      <td>2023-01-07 16:57:52</td>\n",
       "      <td>2022-11-06 18:17:05</td>\n",
       "      <td>3.05651</td>\n",
       "      <td>2022-11-06 18-16-55.mp4</td>\n",
       "      <td>.mp4</td>\n",
       "      <td>video</td>\n",
       "      <td>ca44f62acba2edb729cee27f05befa1ccabbbc78c55ae1...</td>\n",
       "    </tr>\n",
       "  </tbody>\n",
       "</table>\n",
       "</div>"
      ],
      "text/plain": [
       "   Unnamed: 0                                           FilePath  \\\n",
       "0        2143  /Volumes/MUPU_4TB_1/code/streams/OBS/2022-10-1...   \n",
       "1        2144  /Volumes/MUPU_4TB_1/code/streams/OBS/2022-11-0...   \n",
       "2        2145  /Volumes/MUPU_4TB_1/code/streams/OBS/2022-11-0...   \n",
       "3        2146  /Volumes/MUPU_4TB_1/code/streams/OBS/2022-11-0...   \n",
       "4        2147  /Volumes/MUPU_4TB_1/code/streams/OBS/2022-11-0...   \n",
       "\n",
       "         CreationDate LastModificationDate    SizeMB                 FileName  \\\n",
       "0 2023-01-07 16:57:51  2022-10-12 21:35:43 595.85804  2022-10-12 20-34-05.mp4   \n",
       "1 2023-01-07 16:57:41  2022-11-06 18:10:22   3.35236  2022-11-06 18-10-11.mp4   \n",
       "2 2023-01-07 16:57:52  2022-11-06 18:10:54   2.99255  2022-11-06 18-10-45.mp4   \n",
       "3 2023-01-07 16:57:51  2022-11-06 18:16:17   1.54214  2022-11-06 18-16-10.mp4   \n",
       "4 2023-01-07 16:57:52  2022-11-06 18:17:05   3.05651  2022-11-06 18-16-55.mp4   \n",
       "\n",
       "  FileExtension FileType                                             Sha256  \n",
       "0          .mp4    video  84b28dba2000c61ee6b43c804eae78359dbb102802e430...  \n",
       "1          .mp4    video  dc7c9481942712c85415b04eeee4153405a866b4341cb0...  \n",
       "2          .mp4    video  62945d5b16865101fc7ebf9c044cd9b24c92f785675b94...  \n",
       "3          .mp4    video  500cc7dfee51e269d389535941859b8d92500ab5c33dcb...  \n",
       "4          .mp4    video  ca44f62acba2edb729cee27f05befa1ccabbbc78c55ae1...  "
      ]
     },
     "execution_count": 11,
     "metadata": {},
     "output_type": "execute_result"
    }
   ],
   "source": [
    "df.head()"
   ]
  },
  {
   "cell_type": "code",
   "execution_count": 12,
   "id": "d261f7eb",
   "metadata": {},
   "outputs": [],
   "source": [
    "df[\"FileExtension\"].fillna(\"Other\", inplace=True)"
   ]
  },
  {
   "cell_type": "code",
   "execution_count": 15,
   "id": "41eddc1e",
   "metadata": {},
   "outputs": [],
   "source": [
    "import exiftool"
   ]
  },
  {
   "cell_type": "code",
   "execution_count": 21,
   "id": "846d6342",
   "metadata": {},
   "outputs": [
    {
     "data": {
      "text/plain": [
       "'/Volumes/MUPU_4TB_2/Backup iPhone/IMG_9008.JPG'"
      ]
     },
     "execution_count": 21,
     "metadata": {},
     "output_type": "execute_result"
    }
   ],
   "source": [
    "df[\"FilePath\"].sample(1).iloc[0]"
   ]
  },
  {
   "cell_type": "code",
   "execution_count": 23,
   "id": "bf9b7429",
   "metadata": {},
   "outputs": [],
   "source": [
    "p = \"/Volumes/MUPU_4TB_2/Backup iPhone/IMG_9008.JPG\""
   ]
  },
  {
   "cell_type": "code",
   "execution_count": null,
   "id": "56bcd196",
   "metadata": {},
   "outputs": [],
   "source": [
    "files = multimedia[\"FilePath\"].sample(10).tolist()"
   ]
  },
  {
   "cell_type": "code",
   "execution_count": null,
   "id": "f694b04d",
   "metadata": {},
   "outputs": [],
   "source": [
    "with exiftool.ExifToolHelper() as et:\n",
    "    metadata = et.get_metadata(files)"
   ]
  },
  {
   "cell_type": "code",
   "execution_count": null,
   "id": "54de7aec",
   "metadata": {},
   "outputs": [],
   "source": [
    "with exiftool.ExifToolHelper() as et:\n",
    "    metadata = et.get_tags(files, tags=\"\")"
   ]
  },
  {
   "cell_type": "code",
   "execution_count": null,
   "id": "466da12b",
   "metadata": {},
   "outputs": [],
   "source": [
    "len(metadata)"
   ]
  },
  {
   "cell_type": "code",
   "execution_count": null,
   "id": "17bb634e",
   "metadata": {
    "scrolled": false
   },
   "outputs": [],
   "source": [
    "np.random.choice(metadata)"
   ]
  },
  {
   "cell_type": "code",
   "execution_count": null,
   "id": "469308c3",
   "metadata": {},
   "outputs": [],
   "source": [
    "t = [len(d) for d in metadata]"
   ]
  },
  {
   "cell_type": "code",
   "execution_count": null,
   "id": "8d6787f8",
   "metadata": {},
   "outputs": [],
   "source": [
    "len(metadata)"
   ]
  },
  {
   "cell_type": "code",
   "execution_count": null,
   "id": "ada118a9",
   "metadata": {
    "scrolled": false
   },
   "outputs": [],
   "source": [
    "for d in metadata:\n",
    "    for k, v in d.items():\n",
    "        if \"EXIF:CreateDate\" in k:\n",
    "            print(d[\"SourceFile\"])\n",
    "            print(k, v)"
   ]
  },
  {
   "cell_type": "code",
   "execution_count": null,
   "id": "e89c3c0c",
   "metadata": {},
   "outputs": [],
   "source": []
  },
  {
   "cell_type": "code",
   "execution_count": null,
   "id": "c4ad9caf",
   "metadata": {},
   "outputs": [],
   "source": []
  },
  {
   "cell_type": "code",
   "execution_count": null,
   "id": "56924b64",
   "metadata": {},
   "outputs": [],
   "source": []
  },
  {
   "cell_type": "code",
   "execution_count": null,
   "id": "a0ecf26d",
   "metadata": {},
   "outputs": [],
   "source": [
    "# imgs = multimedia[multimedia[\"FileName\"].str.contains(\"GOPR\")]\n",
    "imgs = multimedia[multimedia[\"FileName\"].str.contains(\"IMG\")]"
   ]
  },
  {
   "cell_type": "code",
   "execution_count": null,
   "id": "b173084d",
   "metadata": {},
   "outputs": [],
   "source": [
    "imgs.head(10)"
   ]
  },
  {
   "cell_type": "code",
   "execution_count": null,
   "id": "4a1b2cc3",
   "metadata": {},
   "outputs": [],
   "source": [
    "# p = imgs.sample(10)[\"FilePath\"].iloc[0]\n",
    "p = imgs[\"FilePath\"].iloc[0]"
   ]
  },
  {
   "cell_type": "code",
   "execution_count": null,
   "id": "115469ef",
   "metadata": {},
   "outputs": [],
   "source": [
    "imgs[imgs[\"FilePath\"] == p]"
   ]
  },
  {
   "cell_type": "code",
   "execution_count": null,
   "id": "2377bb48",
   "metadata": {},
   "outputs": [],
   "source": [
    "path = multimedia.sample(1)[\"FilePath\"].iloc[0]"
   ]
  },
  {
   "cell_type": "code",
   "execution_count": null,
   "id": "0864f508",
   "metadata": {},
   "outputs": [],
   "source": [
    "path"
   ]
  },
  {
   "cell_type": "code",
   "execution_count": null,
   "id": "c3993331",
   "metadata": {},
   "outputs": [],
   "source": [
    "get_exif_with_exiftool(path=path)"
   ]
  },
  {
   "cell_type": "code",
   "execution_count": null,
   "id": "ae7ee9ae",
   "metadata": {},
   "outputs": [],
   "source": [
    "image_ = PIL.Image.open(path)\n",
    "exif = image_._getexif()"
   ]
  },
  {
   "cell_type": "code",
   "execution_count": null,
   "id": "055c4412",
   "metadata": {},
   "outputs": [],
   "source": [
    "type(exif)"
   ]
  },
  {
   "cell_type": "code",
   "execution_count": null,
   "id": "266422db",
   "metadata": {},
   "outputs": [],
   "source": [
    "exif"
   ]
  },
  {
   "cell_type": "code",
   "execution_count": null,
   "id": "d8b6967a",
   "metadata": {},
   "outputs": [],
   "source": [
    "def get_creation_date_from_exit(path):\n",
    "\n",
    "    image_ = PIL.Image.open(path)\n",
    "    exif = image_._getexif()\n",
    "\n",
    "    # 306: '2022:09:25 18:47:32',\n",
    "\n",
    "    return exif"
   ]
  },
  {
   "cell_type": "code",
   "execution_count": null,
   "id": "68bae511",
   "metadata": {},
   "outputs": [],
   "source": [
    "d = get_creation_date_from_exit(path=path)"
   ]
  },
  {
   "cell_type": "code",
   "execution_count": null,
   "id": "4a395fae",
   "metadata": {},
   "outputs": [],
   "source": [
    "d"
   ]
  },
  {
   "cell_type": "code",
   "execution_count": 24,
   "id": "e52982f9",
   "metadata": {},
   "outputs": [],
   "source": [
    "def get_exif_with_exiftool(path):\n",
    "    import subprocess\n",
    "\n",
    "    command = f\"exiftool '{path}'\"\n",
    "    r = subprocess.check_output(command, shell=True, text=True)\n",
    "    d = {}\n",
    "    for e in r.split(\"\\n\"):\n",
    "        e_ = e.split(\": \")\n",
    "        if len(e_) > 1:\n",
    "            d[e_[0].rstrip()] = e_[1]\n",
    "    return d"
   ]
  },
  {
   "cell_type": "code",
   "execution_count": null,
   "id": "b43b722f",
   "metadata": {},
   "outputs": [],
   "source": [
    "d = get_exif_data_video(path=path)\n",
    "d[\"Create Date\"]"
   ]
  },
  {
   "cell_type": "code",
   "execution_count": 25,
   "id": "5608577d",
   "metadata": {
    "scrolled": true
   },
   "outputs": [
    {
     "data": {
      "text/plain": [
       "{'ExifTool Version Number': '13.36',\n",
       " 'File Name': 'IMG_9008.JPG',\n",
       " 'Directory': '/Volumes/MUPU_4TB_2/Backup iPhone',\n",
       " 'File Size': '3.6 MB',\n",
       " 'File Modification Date/Time': '2024:03:29 14:07:28+01:00',\n",
       " 'File Access Date/Time': '2025:10:05 20:49:57+02:00',\n",
       " 'File Inode Change Date/Time': '2024:08:04 23:48:12+02:00',\n",
       " 'File Permissions': '-rw-r--r--',\n",
       " 'File Type': 'JPEG',\n",
       " 'File Type Extension': 'jpg',\n",
       " 'MIME Type': 'image/jpeg',\n",
       " 'JFIF Version': '1.01',\n",
       " 'Exif Byte Order': 'Big-endian (Motorola, MM)',\n",
       " 'Make': 'Apple',\n",
       " 'Camera Model Name': 'iPhone 13 Pro',\n",
       " 'Orientation': 'Rotate 90 CW',\n",
       " 'X Resolution': '72',\n",
       " 'Y Resolution': '72',\n",
       " 'Resolution Unit': 'inches',\n",
       " 'Software': '17.3.1',\n",
       " 'Modify Date': '2024:03:29 14:07:28+01:00',\n",
       " 'Host Computer': 'iPhone 13 Pro',\n",
       " 'Y Cb Cr Positioning': 'Centered',\n",
       " 'Exposure Time': '1/5076',\n",
       " 'F Number': '1.5',\n",
       " 'Exposure Program': 'Program AE',\n",
       " 'ISO': '50',\n",
       " 'Exif Version': '0232',\n",
       " 'Date/Time Original': '2024:03:29 14:07:28.052+01:00',\n",
       " 'Create Date': '2024:03:29 14:07:28.052+01:00',\n",
       " 'Offset Time': '+01:00',\n",
       " 'Offset Time Original': '+01:00',\n",
       " 'Offset Time Digitized': '+01:00',\n",
       " 'Components Configuration': 'Y, Cb, Cr, -',\n",
       " 'Shutter Speed Value': '1/5076',\n",
       " 'Aperture Value': '1.5',\n",
       " 'Brightness Value': '10.38712722',\n",
       " 'Exposure Compensation': '0',\n",
       " 'Metering Mode': 'Multi-segment',\n",
       " 'Flash': 'Off, Did not fire',\n",
       " 'Focal Length': '5.7 mm (35 mm equivalent',\n",
       " 'Subject Area': '954 1545 261 260',\n",
       " 'Maker Note Version': '14',\n",
       " 'Run Time Flags': 'Valid',\n",
       " 'Run Time Value': '1153296048333541',\n",
       " 'Run Time Scale': '1000000000',\n",
       " 'Run Time Epoch': '0',\n",
       " 'AE Stable': 'Yes',\n",
       " 'AE Target': '202',\n",
       " 'AE Average': '195',\n",
       " 'AF Stable': 'Yes',\n",
       " 'Acceleration Vector': '0.02270065993 -0.976462245 -0.2084590048',\n",
       " 'Focus Distance Range': '0.24 - 0.33 m',\n",
       " 'Image Capture Type': 'Photo',\n",
       " 'Live Photo Video Index': '1112547328',\n",
       " 'Photos App Feature Flags': '0',\n",
       " 'HDR Headroom': '1',\n",
       " 'AF Performance': '136 1 37',\n",
       " 'Signal To Noise Ratio': '63.26350399',\n",
       " 'Photo Identifier': 'E10F8224-D7AE-440F-A7D9-4AEDC8433537',\n",
       " 'Color Temperature': '5360',\n",
       " 'Camera Type': 'Back Normal',\n",
       " 'Focus Position': '57',\n",
       " 'HDR Gain': '0.0001481205837',\n",
       " 'AF Measured Depth': '136',\n",
       " 'AF Confidence': '36',\n",
       " 'Semantic Style': '{_0=1,_1=0,_2=0,_3=0}',\n",
       " 'Sub Sec Time Original': '052',\n",
       " 'Sub Sec Time Digitized': '052',\n",
       " 'Flashpix Version': '0100',\n",
       " 'Color Space': 'Uncalibrated',\n",
       " 'Exif Image Width': '4032',\n",
       " 'Exif Image Height': '3024',\n",
       " 'Sensing Method': 'One-chip color area',\n",
       " 'Scene Type': 'Directly photographed',\n",
       " 'Exposure Mode': 'Auto',\n",
       " 'White Balance': 'Auto',\n",
       " 'Focal Length In 35mm Format': '26 mm',\n",
       " 'Scene Capture Type': 'Standard',\n",
       " 'Lens Info': '1.570000052-9mm f/1.5-2.8',\n",
       " 'Lens Make': 'Apple',\n",
       " 'Lens Model': 'iPhone 13 Pro back triple camera 5.7mm f/1.5',\n",
       " 'Composite Image': 'General Composite Image',\n",
       " 'GPS Latitude Ref': 'North',\n",
       " 'GPS Longitude Ref': 'East',\n",
       " 'GPS Altitude Ref': 'Above Sea Level',\n",
       " 'GPS Time Stamp': '13:07:26',\n",
       " 'GPS Speed Ref': 'km/h',\n",
       " 'GPS Speed': '0',\n",
       " 'GPS Img Direction Ref': 'True North',\n",
       " 'GPS Img Direction': '120.923439',\n",
       " 'GPS Dest Bearing Ref': 'True North',\n",
       " 'GPS Dest Bearing': '120.923439',\n",
       " 'GPS Date Stamp': '2024:03:29',\n",
       " 'GPS Horizontal Positioning Error': '4.603694889 m',\n",
       " 'Compression': 'JPEG (old-style)',\n",
       " 'Thumbnail Offset': '3028',\n",
       " 'Thumbnail Length': '11168',\n",
       " 'XMP Toolkit': 'XMP Core 6.0.0',\n",
       " 'Creator Tool': '17.3.1',\n",
       " 'Date Created': '2024:03:29 14:07:28',\n",
       " 'Region Area Y': '0.50600000000000001, 0.52749999999999997',\n",
       " 'Region Area W': '0.066000000000000003, 0.058666666666666645',\n",
       " 'Region Area X': '0.2365238095238095, 0.42247619047619051',\n",
       " 'Region Area H': '0.088000000000000023, 0.076999999999999957',\n",
       " 'Region Area Unit': 'normalized, normalized',\n",
       " 'Region Type': 'Face, Face',\n",
       " 'Region Extensions Angle Info Yaw': '4',\n",
       " 'Region Extensions Angle Info Roll': '279',\n",
       " 'Region Extensions Confidence Level': '553',\n",
       " 'Region Extensions Face ID': '14',\n",
       " 'Region Applied To Dimensions H': '3024',\n",
       " 'Region Applied To Dimensions W': '4032',\n",
       " 'Region Applied To Dimensions Unit': 'pixel',\n",
       " 'MPF Version': '0100',\n",
       " 'Number Of Images': '2',\n",
       " 'MP Image Flags': '(none)',\n",
       " 'MP Image Format': 'JPEG',\n",
       " 'MP Image Type': 'Undefined',\n",
       " 'MP Image Length': '170425',\n",
       " 'MP Image Start': '3460390',\n",
       " 'Dependent Image 1 Entry Number': '0',\n",
       " 'Dependent Image 2 Entry Number': '0',\n",
       " 'Profile CMM Type': 'Apple Computer Inc.',\n",
       " 'Profile Version': '4.0.0',\n",
       " 'Profile Class': 'Display Device Profile',\n",
       " 'Color Space Data': 'RGB',\n",
       " 'Profile Connection Space': 'XYZ',\n",
       " 'Profile Date Time': '2022:01:01 00:00:00',\n",
       " 'Profile File Signature': 'acsp',\n",
       " 'Primary Platform': 'Apple Computer Inc.',\n",
       " 'CMM Flags': 'Not Embedded, Independent',\n",
       " 'Device Manufacturer': 'Apple Computer Inc.',\n",
       " 'Device Model': '',\n",
       " 'Device Attributes': 'Reflective, Glossy, Positive, Color',\n",
       " 'Rendering Intent': 'Perceptual',\n",
       " 'Connection Space Illuminant': '0.9642 1 0.82491',\n",
       " 'Profile Creator': 'Apple Computer Inc.',\n",
       " 'Profile ID': 'ecfda38e388547c36db4bd4f7ada182f',\n",
       " 'Profile Description': 'Display P3',\n",
       " 'Profile Copyright': 'Copyright Apple Inc., 2022',\n",
       " 'Media White Point': '0.96419 1 0.82489',\n",
       " 'Red Matrix Column': '0.51512 0.2412 -0.00105',\n",
       " 'Green Matrix Column': '0.29198 0.69225 0.04189',\n",
       " 'Blue Matrix Column': '0.1571 0.06657 0.78407',\n",
       " 'Red Tone Reproduction Curve': '(Binary data 32 bytes, use -b option to extract)',\n",
       " 'Chromatic Adaptation': '1.04788 0.02292 -0.0502 0.02959 0.99048 -0.01706 -0.00923 0.01508 0.75168',\n",
       " 'Blue Tone Reproduction Curve': '(Binary data 32 bytes, use -b option to extract)',\n",
       " 'Green Tone Reproduction Curve': '(Binary data 32 bytes, use -b option to extract)',\n",
       " 'HDR Gain Curve Size': '188',\n",
       " 'HDR Gain Curve': '(Binary data 1445 bytes, use -b option to extract)',\n",
       " 'Image Width': '4032',\n",
       " 'Image Height': '3024',\n",
       " 'Encoding Process': 'Baseline DCT, Huffman coding',\n",
       " 'Bits Per Sample': '8',\n",
       " 'Color Components': '3',\n",
       " 'Y Cb Cr Sub Sampling': 'YCbCr4:2:0 (2 2)',\n",
       " 'Run Time Since Power Up': '13 days 8:21:36',\n",
       " 'Aperture': '1.5',\n",
       " 'Image Size': '4032x3024',\n",
       " 'Megapixels': '12.2',\n",
       " 'Scale Factor To 35 mm Equivalent': '4.6',\n",
       " 'Shutter Speed': '1/5076',\n",
       " 'Thumbnail Image': '(Binary data 11168 bytes, use -b option to extract)',\n",
       " 'GPS Altitude': '9.4 m Above Sea Level',\n",
       " 'GPS Date/Time': '2024:03:29 13:07:26Z',\n",
       " 'GPS Latitude': '41 deg 22\\' 46.87\" N',\n",
       " 'GPS Longitude': '2 deg 11\\' 0.37\" E',\n",
       " 'MP Image 2': '(Binary data 170425 bytes, use -b option to extract)',\n",
       " 'Circle Of Confusion': '0.007 mm',\n",
       " 'Field Of View': '69.4 deg',\n",
       " 'GPS Position': '41 deg 22\\' 46.87\" N, 2 deg 11\\' 0.37\" E',\n",
       " 'Hyperfocal Distance': '3.29 m',\n",
       " 'Light Value': '14.5',\n",
       " 'Lens ID': 'iPhone 13 Pro back triple camera 5.7mm f/1.5'}"
      ]
     },
     "execution_count": 25,
     "metadata": {},
     "output_type": "execute_result"
    }
   ],
   "source": [
    "get_exif_with_exiftool(path=\"/Volumes/MUPU_4TB_2/Backup iPhone/IMG_9008.JPG\")"
   ]
  },
  {
   "cell_type": "code",
   "execution_count": 26,
   "id": "6500aafc",
   "metadata": {},
   "outputs": [],
   "source": [
    "import exiftool"
   ]
  },
  {
   "cell_type": "code",
   "execution_count": 27,
   "id": "cd58196f",
   "metadata": {},
   "outputs": [],
   "source": [
    "h = exiftool.ExifToolHelper()"
   ]
  },
  {
   "cell_type": "code",
   "execution_count": 28,
   "id": "d5ef1591",
   "metadata": {
    "scrolled": true
   },
   "outputs": [
    {
     "data": {
      "text/plain": [
       "[{'SourceFile': '/Volumes/MUPU_4TB_2/Backup iPhone/IMG_9008.JPG',\n",
       "  'ExifTool:ExifToolVersion': 13.36,\n",
       "  'File:FileName': 'IMG_9008.JPG',\n",
       "  'File:Directory': '/Volumes/MUPU_4TB_2/Backup iPhone',\n",
       "  'File:FileSize': 3630815,\n",
       "  'File:FileModifyDate': '2024:03:29 14:07:28+01:00',\n",
       "  'File:FileAccessDate': '2025:10:05 20:50:27+02:00',\n",
       "  'File:FileInodeChangeDate': '2024:08:04 23:48:12+02:00',\n",
       "  'File:FilePermissions': 100644,\n",
       "  'File:FileType': 'JPEG',\n",
       "  'File:FileTypeExtension': 'JPG',\n",
       "  'File:MIMEType': 'image/jpeg',\n",
       "  'File:ExifByteOrder': 'MM',\n",
       "  'File:ImageWidth': 4032,\n",
       "  'File:ImageHeight': 3024,\n",
       "  'File:EncodingProcess': 0,\n",
       "  'File:BitsPerSample': 8,\n",
       "  'File:ColorComponents': 3,\n",
       "  'File:YCbCrSubSampling': '2 2',\n",
       "  'JFIF:JFIFVersion': '1 1',\n",
       "  'JFIF:ResolutionUnit': 1,\n",
       "  'JFIF:XResolution': 300,\n",
       "  'JFIF:YResolution': 300,\n",
       "  'EXIF:Make': 'Apple',\n",
       "  'EXIF:Model': 'iPhone 13 Pro',\n",
       "  'EXIF:Orientation': 6,\n",
       "  'EXIF:XResolution': 72,\n",
       "  'EXIF:YResolution': 72,\n",
       "  'EXIF:ResolutionUnit': 2,\n",
       "  'EXIF:Software': '17.3.1',\n",
       "  'EXIF:ModifyDate': '2024:03:29 14:07:28',\n",
       "  'EXIF:HostComputer': 'iPhone 13 Pro',\n",
       "  'EXIF:YCbCrPositioning': 1,\n",
       "  'EXIF:ExposureTime': 0.0001970055162,\n",
       "  'EXIF:FNumber': 1.5,\n",
       "  'EXIF:ExposureProgram': 2,\n",
       "  'EXIF:ISO': 50,\n",
       "  'EXIF:ExifVersion': '0232',\n",
       "  'EXIF:DateTimeOriginal': '2024:03:29 14:07:28',\n",
       "  'EXIF:CreateDate': '2024:03:29 14:07:28',\n",
       "  'EXIF:OffsetTime': '+01:00',\n",
       "  'EXIF:OffsetTimeOriginal': '+01:00',\n",
       "  'EXIF:OffsetTimeDigitized': '+01:00',\n",
       "  'EXIF:ComponentsConfiguration': '1 2 3 0',\n",
       "  'EXIF:ShutterSpeedValue': '0.000196999999981948',\n",
       "  'EXIF:ApertureValue': 1.50000000028992,\n",
       "  'EXIF:BrightnessValue': 10.38712722,\n",
       "  'EXIF:ExposureCompensation': 0,\n",
       "  'EXIF:MeteringMode': 5,\n",
       "  'EXIF:Flash': 16,\n",
       "  'EXIF:FocalLength': 5.7,\n",
       "  'EXIF:SubjectArea': '954 1545 261 260',\n",
       "  'EXIF:SubSecTimeOriginal': '052',\n",
       "  'EXIF:SubSecTimeDigitized': '052',\n",
       "  'EXIF:FlashpixVersion': '0100',\n",
       "  'EXIF:ColorSpace': 65535,\n",
       "  'EXIF:ExifImageWidth': 4032,\n",
       "  'EXIF:ExifImageHeight': 3024,\n",
       "  'EXIF:SensingMethod': 2,\n",
       "  'EXIF:SceneType': 1,\n",
       "  'EXIF:ExposureMode': 0,\n",
       "  'EXIF:WhiteBalance': 0,\n",
       "  'EXIF:FocalLengthIn35mmFormat': 26,\n",
       "  'EXIF:SceneCaptureType': 0,\n",
       "  'EXIF:LensInfo': '1.570000052 9 1.5 2.8',\n",
       "  'EXIF:LensMake': 'Apple',\n",
       "  'EXIF:LensModel': 'iPhone 13 Pro back triple camera 5.7mm f/1.5',\n",
       "  'EXIF:CompositeImage': 2,\n",
       "  'EXIF:GPSLatitudeRef': 'N',\n",
       "  'EXIF:GPSLatitude': 41.3796861111111,\n",
       "  'EXIF:GPSLongitudeRef': 'E',\n",
       "  'EXIF:GPSLongitude': 2.18343611111111,\n",
       "  'EXIF:GPSAltitudeRef': 0,\n",
       "  'EXIF:GPSAltitude': 9.484401738,\n",
       "  'EXIF:GPSTimeStamp': '13:07:26',\n",
       "  'EXIF:GPSSpeedRef': 'K',\n",
       "  'EXIF:GPSSpeed': 0,\n",
       "  'EXIF:GPSImgDirectionRef': 'T',\n",
       "  'EXIF:GPSImgDirection': 120.923439,\n",
       "  'EXIF:GPSDestBearingRef': 'T',\n",
       "  'EXIF:GPSDestBearing': 120.923439,\n",
       "  'EXIF:GPSDateStamp': '2024:03:29',\n",
       "  'EXIF:GPSHPositioningError': 4.603694889,\n",
       "  'EXIF:Compression': 6,\n",
       "  'EXIF:ThumbnailOffset': 3028,\n",
       "  'EXIF:ThumbnailLength': 11168,\n",
       "  'EXIF:ThumbnailImage': '(Binary data 11168 bytes, use -b option to extract)',\n",
       "  'MakerNotes:MakerNoteVersion': 14,\n",
       "  'MakerNotes:RunTimeFlags': 1,\n",
       "  'MakerNotes:RunTimeValue': '1153296048333541',\n",
       "  'MakerNotes:RunTimeScale': 1000000000,\n",
       "  'MakerNotes:RunTimeEpoch': 0,\n",
       "  'MakerNotes:AEStable': 1,\n",
       "  'MakerNotes:AETarget': 202,\n",
       "  'MakerNotes:AEAverage': 195,\n",
       "  'MakerNotes:AFStable': 1,\n",
       "  'MakerNotes:AccelerationVector': '0.02270065993 -0.976462245 -0.2084590048',\n",
       "  'MakerNotes:FocusDistanceRange': '0.33203125 0.23828125',\n",
       "  'MakerNotes:ImageCaptureType': 10,\n",
       "  'MakerNotes:LivePhotoVideoIndex': 1112547328,\n",
       "  'MakerNotes:PhotosAppFeatureFlags': 0,\n",
       "  'MakerNotes:HDRHeadroom': 1,\n",
       "  'MakerNotes:AFPerformance': '136 268435493',\n",
       "  'MakerNotes:SignalToNoiseRatio': 63.26350399,\n",
       "  'MakerNotes:PhotoIdentifier': 'E10F8224-D7AE-440F-A7D9-4AEDC8433537',\n",
       "  'MakerNotes:ColorTemperature': 5360,\n",
       "  'MakerNotes:CameraType': 1,\n",
       "  'MakerNotes:FocusPosition': 57,\n",
       "  'MakerNotes:HDRGain': 0.0001481205837,\n",
       "  'MakerNotes:AFMeasuredDepth': 136,\n",
       "  'MakerNotes:AFConfidence': 36,\n",
       "  'MakerNotes:SemanticStyle': '{_0=1,_1=0,_2=0,_3=0}',\n",
       "  'XMP:XMPToolkit': 'XMP Core 6.0.0',\n",
       "  'XMP:CreateDate': '2024:03:29 14:07:28',\n",
       "  'XMP:CreatorTool': '17.3.1',\n",
       "  'XMP:ModifyDate': '2024:03:29 14:07:28',\n",
       "  'XMP:DateCreated': '2024:03:29 14:07:28',\n",
       "  'XMP:RegionAreaY': ['0.50600000000000001', '0.52749999999999997'],\n",
       "  'XMP:RegionAreaW': ['0.066000000000000003', '0.058666666666666645'],\n",
       "  'XMP:RegionAreaX': [0.2365238095238095, '0.42247619047619051'],\n",
       "  'XMP:RegionAreaH': ['0.088000000000000023', '0.076999999999999957'],\n",
       "  'XMP:RegionAreaUnit': ['normalized', 'normalized'],\n",
       "  'XMP:RegionType': ['Face', 'Face'],\n",
       "  'XMP:RegionExtensionsAngleInfoYaw': 4,\n",
       "  'XMP:RegionExtensionsAngleInfoRoll': 279,\n",
       "  'XMP:RegionExtensionsConfidenceLevel': 553,\n",
       "  'XMP:RegionExtensionsFaceID': 14,\n",
       "  'XMP:RegionAppliedToDimensionsH': 3024,\n",
       "  'XMP:RegionAppliedToDimensionsW': 4032,\n",
       "  'XMP:RegionAppliedToDimensionsUnit': 'pixel',\n",
       "  'MPF:MPFVersion': '0100',\n",
       "  'MPF:NumberOfImages': 2,\n",
       "  'MPF:MPImageFlags': 0,\n",
       "  'MPF:MPImageFormat': 0,\n",
       "  'MPF:MPImageType': 0,\n",
       "  'MPF:MPImageLength': 170425,\n",
       "  'MPF:MPImageStart': 3460390,\n",
       "  'MPF:DependentImage1EntryNumber': 0,\n",
       "  'MPF:DependentImage2EntryNumber': 0,\n",
       "  'MPF:MPImage2': '(Binary data 170425 bytes, use -b option to extract)',\n",
       "  'ICC_Profile:ProfileCMMType': 'appl',\n",
       "  'ICC_Profile:ProfileVersion': 1024,\n",
       "  'ICC_Profile:ProfileClass': 'mntr',\n",
       "  'ICC_Profile:ColorSpaceData': 'RGB ',\n",
       "  'ICC_Profile:ProfileConnectionSpace': 'XYZ ',\n",
       "  'ICC_Profile:ProfileDateTime': '2022:01:01 00:00:00',\n",
       "  'ICC_Profile:ProfileFileSignature': 'acsp',\n",
       "  'ICC_Profile:PrimaryPlatform': 'APPL',\n",
       "  'ICC_Profile:CMMFlags': 0,\n",
       "  'ICC_Profile:DeviceManufacturer': 'APPL',\n",
       "  'ICC_Profile:DeviceModel': '',\n",
       "  'ICC_Profile:DeviceAttributes': '0 0',\n",
       "  'ICC_Profile:RenderingIntent': 0,\n",
       "  'ICC_Profile:ConnectionSpaceIlluminant': '0.9642 1 0.82491',\n",
       "  'ICC_Profile:ProfileCreator': 'appl',\n",
       "  'ICC_Profile:ProfileID': '236 253 163 142 56 133 71 195 109 180 189 79 122 218 24 47',\n",
       "  'ICC_Profile:ProfileDescription': 'Display P3',\n",
       "  'ICC_Profile:ProfileCopyright': 'Copyright Apple Inc., 2022',\n",
       "  'ICC_Profile:MediaWhitePoint': '0.96419 1 0.82489',\n",
       "  'ICC_Profile:RedMatrixColumn': '0.51512 0.2412 -0.00105',\n",
       "  'ICC_Profile:GreenMatrixColumn': '0.29198 0.69225 0.04189',\n",
       "  'ICC_Profile:BlueMatrixColumn': '0.1571 0.06657 0.78407',\n",
       "  'ICC_Profile:RedTRC': '(Binary data 32 bytes, use -b option to extract)',\n",
       "  'ICC_Profile:ChromaticAdaptation': '1.04788 0.02292 -0.0502 0.02959 0.99048 -0.01706 -0.00923 0.01508 0.75168',\n",
       "  'ICC_Profile:BlueTRC': '(Binary data 32 bytes, use -b option to extract)',\n",
       "  'ICC_Profile:GreenTRC': '(Binary data 32 bytes, use -b option to extract)',\n",
       "  'APP10:HDRGainCurveSize': 188,\n",
       "  'APP10:HDRGainCurve': '(Binary data 1445 bytes, use -b option to extract)',\n",
       "  'Composite:RunTimeSincePowerUp': 1153296.04833354,\n",
       "  'Composite:Aperture': 1.5,\n",
       "  'Composite:ImageSize': '4032 3024',\n",
       "  'Composite:Megapixels': 12.192768,\n",
       "  'Composite:ScaleFactor35efl': 4.56140350877193,\n",
       "  'Composite:ShutterSpeed': 0.0001970055162,\n",
       "  'Composite:SubSecCreateDate': '2024:03:29 14:07:28.052+01:00',\n",
       "  'Composite:SubSecDateTimeOriginal': '2024:03:29 14:07:28.052+01:00',\n",
       "  'Composite:SubSecModifyDate': '2024:03:29 14:07:28+01:00',\n",
       "  'Composite:GPSAltitude': 9.484401738,\n",
       "  'Composite:GPSDateTime': '2024:03:29 13:07:26Z',\n",
       "  'Composite:GPSLatitude': 41.3796861111111,\n",
       "  'Composite:GPSLongitude': 2.18343611111111,\n",
       "  'Composite:CircleOfConfusion': 0.0065870648301746,\n",
       "  'Composite:FOV': 69.3903656740024,\n",
       "  'Composite:FocalLength35efl': 26,\n",
       "  'Composite:GPSPosition': '41.3796861111111 2.18343611111111',\n",
       "  'Composite:HyperfocalDistance': 3.28826276322316,\n",
       "  'Composite:LightValue': 14.4794013549499,\n",
       "  'Composite:LensID': 'iPhone 13 Pro back triple camera 5.7mm f/1.5'}]"
      ]
     },
     "execution_count": 28,
     "metadata": {},
     "output_type": "execute_result"
    }
   ],
   "source": [
    "h.get_metadata(files=[\"/Volumes/MUPU_4TB_2/Backup iPhone/IMG_9008.JPG\"])"
   ]
  },
  {
   "cell_type": "code",
   "execution_count": null,
   "id": "8aed0a33",
   "metadata": {},
   "outputs": [],
   "source": []
  },
  {
   "cell_type": "code",
   "execution_count": null,
   "id": "3f687576",
   "metadata": {},
   "outputs": [],
   "source": []
  },
  {
   "cell_type": "code",
   "execution_count": null,
   "id": "7d65d678",
   "metadata": {},
   "outputs": [],
   "source": []
  },
  {
   "cell_type": "code",
   "execution_count": null,
   "id": "1ee9de9b",
   "metadata": {},
   "outputs": [],
   "source": []
  },
  {
   "cell_type": "code",
   "execution_count": null,
   "id": "e05fc6d0",
   "metadata": {},
   "outputs": [],
   "source": []
  },
  {
   "cell_type": "code",
   "execution_count": null,
   "id": "3adba326",
   "metadata": {},
   "outputs": [],
   "source": []
  },
  {
   "cell_type": "code",
   "execution_count": null,
   "id": "9d7929bc",
   "metadata": {},
   "outputs": [],
   "source": []
  },
  {
   "cell_type": "code",
   "execution_count": null,
   "id": "3ce9d8d2",
   "metadata": {},
   "outputs": [],
   "source": []
  },
  {
   "cell_type": "code",
   "execution_count": null,
   "id": "1bf3559c",
   "metadata": {},
   "outputs": [],
   "source": []
  },
  {
   "cell_type": "code",
   "execution_count": null,
   "id": "7e20caad",
   "metadata": {},
   "outputs": [],
   "source": [
    "def try_to_pass_to_int(value):\n",
    "    try:\n",
    "        int_value = int(value)\n",
    "        year = int(value[:4])\n",
    "        if 2007 <= year < 2026:\n",
    "            return True\n",
    "        else:\n",
    "            return False\n",
    "    except:\n",
    "        return False\n",
    "\n",
    "\n",
    "def timestamp_to_yearmonthday_format(timestamp):\n",
    "    return datetime.datetime.strftime(timestamp, \"%Y%m%d\")\n",
    "\n",
    "\n",
    "def fallback_img_date_parser(row):\n",
    "\n",
    "    creation_date = row[\"CreationDate\"]\n",
    "    last_modification_date = row[\"LastModificationDate\"]\n",
    "\n",
    "    if last_modification_date <= creation_date:\n",
    "        return timestamp_to_yearmonthday_format(last_modification_date)\n",
    "\n",
    "    else:\n",
    "        return timestamp_to_yearmonthday_format(creation_date)\n",
    "\n",
    "\n",
    "def parse_date_img(row, split_by_text):\n",
    "\n",
    "    filename = row[\"FileName\"]\n",
    "    splitted_filename = filename.split(split_by_text)[1].split(\".\")[0]\n",
    "\n",
    "    if (len(splitted_filename) >= 8) and (split_by_text in [\"IMG_\", \"IMG-\"]):\n",
    "\n",
    "        splitted_filename_8_chars = splitted_filename[:8]\n",
    "\n",
    "        if try_to_pass_to_int(splitted_filename_8_chars):\n",
    "            return splitted_filename_8_chars\n",
    "\n",
    "        else:\n",
    "            return fallback_img_date_parser(row=row)\n",
    "\n",
    "    elif split_by_text == \"-IMG_\":\n",
    "        # typical case\n",
    "        # 20171214123645-IMG_8500.JPG\n",
    "        return filename[:8]\n",
    "\n",
    "    elif split_by_text == \"MVIMG_\":\n",
    "        # typical case\n",
    "        # MVIMG_20220109_214034.jpg\n",
    "        return filename.split(\"MVIMG_\")[1][:8]\n",
    "\n",
    "    elif split_by_text == \"BURST\":\n",
    "        # typical case\n",
    "        # 00000IMG_00000_BURST20220109214019107_COVER.jpg\n",
    "        return filename.split(\"BURST\")[1][:8]\n",
    "\n",
    "    else:\n",
    "        return fallback_img_date_parser(row=row)\n",
    "\n",
    "\n",
    "def parse_fb_img(row):\n",
    "\n",
    "    # if you have a space in the file name\n",
    "    # then we should split by it\n",
    "    # in order to extract all the data\n",
    "    # (typically this can occur when you have duplicated files)\n",
    "    filename = row[\"FileName\"].split(\"FB_IMG_\")[1].split(\".\")[0].split(\" \")[0]\n",
    "\n",
    "    seconds_since_unix_epoch = int(filename) / 1_000\n",
    "    timestamp = datetime.datetime.fromtimestamp(seconds_since_unix_epoch)\n",
    "\n",
    "    return timestamp_to_yearmonthday_format(timestamp=timestamp)\n",
    "\n",
    "\n",
    "def extract_creation_date_from_photo_name(row):\n",
    "\n",
    "    filename = row[\"FileName\"]\n",
    "\n",
    "    if \"IMG\" in filename[:3]:\n",
    "        return parse_date_img(row, split_by_text=\"IMG_\")\n",
    "    elif \"FB_IMG\" in filename[:6]:\n",
    "        return parse_fb_img(row)\n",
    "    elif \"-IMG_\" in filename:\n",
    "        return parse_date_img(row, split_by_text=\"-IMG_\")\n",
    "    elif \"MVIMG_\" in filename[:6]:\n",
    "        return parse_date_img(row, split_by_text=\"MVIMG_\")\n",
    "    elif \"BURST\" in filename:\n",
    "        return parse_date_img(row, split_by_text=\"BURST\")\n",
    "    elif \"Tibidabo_IMG_\" in filename:\n",
    "        return filename.split(\"Tibidabo_IMG_\")[1][:8]"
   ]
  },
  {
   "cell_type": "code",
   "execution_count": null,
   "id": "f752c5f9",
   "metadata": {},
   "outputs": [],
   "source": [
    "imgs[\"DestinationFolderName\"] = imgs.apply(\n",
    "    extract_creation_date_from_photo_name, axis=1\n",
    ")"
   ]
  },
  {
   "cell_type": "code",
   "execution_count": null,
   "id": "d49e1c0d",
   "metadata": {},
   "outputs": [],
   "source": [
    "imgs[\"Flag\"] = imgs[\"DestinationFolderName\"].apply(try_to_pass_to_int)"
   ]
  },
  {
   "cell_type": "code",
   "execution_count": null,
   "id": "d031509c",
   "metadata": {},
   "outputs": [],
   "source": [
    "imgs[\"Flag\"].value_counts()"
   ]
  },
  {
   "cell_type": "code",
   "execution_count": null,
   "id": "952f96a8",
   "metadata": {},
   "outputs": [],
   "source": [
    "imgs[\"DestinationFolderName\"].min()"
   ]
  },
  {
   "cell_type": "code",
   "execution_count": null,
   "id": "bf655496",
   "metadata": {},
   "outputs": [],
   "source": [
    "imgs[\"DestinationFolderName\"].max()"
   ]
  },
  {
   "cell_type": "code",
   "execution_count": null,
   "id": "5690fa42",
   "metadata": {},
   "outputs": [],
   "source": [
    "imgs = imgs.sort_values([\"DestinationFolderName\"])"
   ]
  },
  {
   "cell_type": "code",
   "execution_count": null,
   "id": "546d0876",
   "metadata": {},
   "outputs": [],
   "source": [
    "imgs[\"Year\"] = imgs[\"DestinationFolderName\"].apply(lambda value: str(value)[:4])"
   ]
  },
  {
   "cell_type": "code",
   "execution_count": null,
   "id": "f56de280",
   "metadata": {},
   "outputs": [],
   "source": [
    "imgs[\"Year\"].unique()"
   ]
  },
  {
   "cell_type": "code",
   "execution_count": null,
   "id": "898a912a",
   "metadata": {},
   "outputs": [],
   "source": [
    "imgs.info()"
   ]
  },
  {
   "cell_type": "code",
   "execution_count": null,
   "id": "338bd312",
   "metadata": {},
   "outputs": [],
   "source": [
    "imgs.groupby([\"FileType\", \"FileExtension\"])[\"SizeMB\"].describe()"
   ]
  },
  {
   "cell_type": "code",
   "execution_count": null,
   "id": "42fdb6e2",
   "metadata": {},
   "outputs": [],
   "source": [
    "(imgs.set_index(\"LastModificationDate\").resample(rule=\"YS\")[\"Flag\"].apply(len))"
   ]
  },
  {
   "cell_type": "code",
   "execution_count": null,
   "id": "9771e6dd",
   "metadata": {},
   "outputs": [],
   "source": [
    "VALID_YEARS = [\n",
    "    \"2010\",\n",
    "    \"2011\",\n",
    "    \"2012\",\n",
    "    \"2013\",\n",
    "    \"2014\",\n",
    "    \"2015\",\n",
    "    \"2016\",\n",
    "    \"2017\",\n",
    "    \"2018\",\n",
    "    \"2019\",\n",
    "    \"2020\",\n",
    "    \"2021\",\n",
    "    \"2022\",\n",
    "    \"2023\",\n",
    "    \"2024\",\n",
    "    \"2025\",\n",
    "]"
   ]
  },
  {
   "cell_type": "code",
   "execution_count": null,
   "id": "1c66f5ec",
   "metadata": {},
   "outputs": [],
   "source": [
    "t = imgs[~imgs[\"Year\"].isin(VALID_YEARS)]"
   ]
  },
  {
   "cell_type": "code",
   "execution_count": null,
   "id": "cc53f1f5",
   "metadata": {},
   "outputs": [],
   "source": [
    "t"
   ]
  },
  {
   "cell_type": "code",
   "execution_count": null,
   "id": "37bc27fd",
   "metadata": {},
   "outputs": [],
   "source": [
    "(\n",
    "    imgs[\"DestinationFolderName\"]\n",
    "    .apply(lambda pkanyomes: pd.to_datetime(pkanyomes, format=\"%Y%M%d\"))\n",
    "    .to_frame()\n",
    "    .assign(DummyColumn=1)\n",
    "    .set_index(\"DestinationFolderName\")\n",
    "    .resample(\"M\")[\"DummyColumn\"]\n",
    "    .sum()\n",
    "    .pipe(lambda series: series[series > 0])\n",
    "    .plot(kind=\"bar\")\n",
    ")"
   ]
  },
  {
   "cell_type": "code",
   "execution_count": null,
   "id": "0c44329e",
   "metadata": {},
   "outputs": [],
   "source": [
    "assert 1 == 2"
   ]
  },
  {
   "cell_type": "code",
   "execution_count": null,
   "id": "03c590e5",
   "metadata": {},
   "outputs": [],
   "source": [
    "SHA = (\n",
    "    df.pipe(lambda df: df[df[\"FileType\"].isin([\"video\", \"photo\"])])[\"Sha256\"]\n",
    "    .value_counts()\n",
    "    .reset_index()\n",
    "    .rename(columns={\"count\": \"Count\"})\n",
    "    .pipe(lambda df: df[df[\"Count\"] >= 2])\n",
    "    .sample(1)[\"Sha256\"]\n",
    "    .iloc[0]\n",
    ")"
   ]
  },
  {
   "cell_type": "code",
   "execution_count": null,
   "id": "57845097",
   "metadata": {},
   "outputs": [],
   "source": [
    "def get_matplotlib_figure_params(paths: list[str]) -> tuple[int, int]:\n",
    "    if (len(paths) % 3) == 0:\n",
    "        return (int(len(paths) / 3), 3)\n",
    "    elif (len(paths) % 2) == 0:\n",
    "        return (int(len(paths) / 2), 2)\n",
    "    else:\n",
    "        return (int(len(paths) / 2) + 1, 2)"
   ]
  },
  {
   "cell_type": "code",
   "execution_count": null,
   "id": "b383863e",
   "metadata": {},
   "outputs": [],
   "source": [
    "def plot_duplicated_photos(sha: str, photos: pd.DataFrame) -> None:\n",
    "\n",
    "    # get the path to plot/show images\n",
    "    paths = photos[photos[\"Sha256\"].str.contains(sha)][\"FilePath\"].tolist()\n",
    "    nr_rows, nr_columns = get_matplotlib_figure_params(paths=paths)\n",
    "\n",
    "    # plotting with matplotlib\n",
    "    fig = plt.figure(figsize=(15, 5))\n",
    "    axes = fig.subplots(nr_rows, nr_columns).flatten()\n",
    "\n",
    "    for path, ax in zip(paths, axes):\n",
    "        ax.imshow(PIL.Image.open(path))"
   ]
  },
  {
   "cell_type": "code",
   "execution_count": null,
   "id": "d2c46e7d",
   "metadata": {},
   "outputs": [],
   "source": [
    "df[df[\"Sha256\"].str.contains(SHA)]"
   ]
  },
  {
   "cell_type": "code",
   "execution_count": null,
   "id": "4e3baf7a",
   "metadata": {},
   "outputs": [],
   "source": [
    "path_ = df[df[\"Sha256\"].str.contains(SHA)].iloc[0][\"FilePath\"]\n",
    "file_type_ = df[df[\"Sha256\"].str.contains(SHA)].iloc[0][\"FileType\"]"
   ]
  },
  {
   "cell_type": "code",
   "execution_count": null,
   "id": "456c1e9b",
   "metadata": {},
   "outputs": [],
   "source": [
    "path_"
   ]
  },
  {
   "cell_type": "code",
   "execution_count": null,
   "id": "1f45445f",
   "metadata": {},
   "outputs": [],
   "source": [
    "if file_type_ == \"photo\":\n",
    "    plot_duplicated_photos(sha=SHA, photos=df)"
   ]
  },
  {
   "cell_type": "code",
   "execution_count": null,
   "id": "59760d7a",
   "metadata": {},
   "outputs": [],
   "source": [
    "Video(path_, embed=True, width=320, height=320)"
   ]
  },
  {
   "cell_type": "code",
   "execution_count": null,
   "id": "5d9b1069",
   "metadata": {},
   "outputs": [],
   "source": [
    "sha256_list = df[\"Sha256\"].values.tolist()\n",
    "path_list = df[\"FilePath\"].values.tolist()\n",
    "\n",
    "dict_sha256_to_save = {}\n",
    "dict_sha256_to_delete = {}\n",
    "\n",
    "for sha256_, path_ in zip(sha256_list, path_list):\n",
    "    if sha256_ not in dict_sha256_to_save.keys():\n",
    "        dict_sha256_to_save[sha256_] = path_\n",
    "    else:\n",
    "        dict_sha256_to_delete[path_] = sha256_"
   ]
  },
  {
   "cell_type": "code",
   "execution_count": null,
   "id": "cde47984",
   "metadata": {},
   "outputs": [],
   "source": [
    "len(dict_sha256_to_save)"
   ]
  },
  {
   "cell_type": "code",
   "execution_count": null,
   "id": "58aaec58",
   "metadata": {},
   "outputs": [],
   "source": [
    "len(dict_sha256_to_delete)"
   ]
  },
  {
   "cell_type": "code",
   "execution_count": null,
   "id": "84a3dcbd",
   "metadata": {},
   "outputs": [],
   "source": []
  }
 ],
 "metadata": {
  "kernelspec": {
   "display_name": "env_main",
   "language": "python",
   "name": "env_main"
  },
  "language_info": {
   "codemirror_mode": {
    "name": "ipython",
    "version": 3
   },
   "file_extension": ".py",
   "mimetype": "text/x-python",
   "name": "python",
   "nbconvert_exporter": "python",
   "pygments_lexer": "ipython3",
   "version": "3.10.18"
  }
 },
 "nbformat": 4,
 "nbformat_minor": 5
}
