{
 "cells": [
  {
   "cell_type": "code",
   "execution_count": 1,
   "id": "e39f4e6f",
   "metadata": {},
   "outputs": [],
   "source": [
    "import warnings\n",
    "\n",
    "warnings.filterwarnings(\"ignore\")\n",
    "\n",
    "import os\n",
    "\n",
    "import numpy as np\n",
    "import pandas as pd\n",
    "\n",
    "pd.options.display.float_format = \"{:.5f}\".format\n",
    "\n",
    "from py8tb import preprocessing_pipeline"
   ]
  },
  {
   "cell_type": "code",
   "execution_count": 2,
   "id": "b6cc8307",
   "metadata": {},
   "outputs": [],
   "source": [
    "CWD = os.getcwd()\n",
    "SAVE_PATH = os.path.join(os.path.dirname(CWD), \"data\")"
   ]
  },
  {
   "cell_type": "code",
   "execution_count": 3,
   "id": "d4608b19",
   "metadata": {},
   "outputs": [],
   "source": [
    "LIST_OF_FILES = sorted([f for f in os.listdir(SAVE_PATH) if \".csv\" in f], reverse=True)"
   ]
  },
  {
   "cell_type": "code",
   "execution_count": 4,
   "id": "4384ac57",
   "metadata": {},
   "outputs": [
    {
     "name": "stdout",
     "output_type": "stream",
     "text": [
      "df_2025_10_04_20_52_13.csv (179282, 7)\n",
      "df_2025_10_03_18_31_09.csv (179281, 7)\n",
      "df_2025_10_03_15_08_42.csv (179277, 7)\n",
      "df_2025_10_03_15_05_53.csv (179277, 7)\n"
     ]
    }
   ],
   "source": [
    "for f in LIST_OF_FILES:\n",
    "    if \"df_\" in f:\n",
    "        t = pd.read_csv(os.path.join(SAVE_PATH, f))\n",
    "        print(f, t.shape)"
   ]
  },
  {
   "cell_type": "code",
   "execution_count": 5,
   "id": "13a20e36",
   "metadata": {},
   "outputs": [],
   "source": [
    "sha_photos = pd.read_csv(\n",
    "    os.path.join(SAVE_PATH, \"merged_2025_10_03_15_08_42.csv\")\n",
    ").dropna()\n",
    "sha_videos = pd.read_csv(\n",
    "    os.path.join(SAVE_PATH, \"merged_2025_10_03_18_31_09.csv\")\n",
    ").dropna()\n",
    "sha_files = pd.read_csv(os.path.join(SAVE_PATH, \"merged_2025_10_04_20_52_13.csv\"))\n",
    "sha_files = sha_files[~sha_files[\"FileType\"].isin([\"photo\", \"video\"])]"
   ]
  },
  {
   "cell_type": "code",
   "execution_count": 6,
   "id": "ed19e305",
   "metadata": {},
   "outputs": [],
   "source": [
    "def print_null_by_type(df):\n",
    "    t = df.groupby([\"FileType\"])[\"Sha256\"].apply(lambda series: series.isnull().sum())\n",
    "    print(t)"
   ]
  },
  {
   "cell_type": "code",
   "execution_count": 7,
   "id": "0420f500",
   "metadata": {},
   "outputs": [
    {
     "name": "stdout",
     "output_type": "stream",
     "text": [
      "FileType\n",
      "photo    0\n",
      "Name: Sha256, dtype: int64\n",
      "FileType\n",
      "video    0\n",
      "Name: Sha256, dtype: int64\n",
      "FileType\n",
      "audio    0\n",
      "code     0\n",
      "data     0\n",
      "docs     0\n",
      "na       0\n",
      "Name: Sha256, dtype: int64\n"
     ]
    }
   ],
   "source": [
    "print_null_by_type(df=sha_photos)\n",
    "print_null_by_type(df=sha_videos)\n",
    "print_null_by_type(df=sha_files)"
   ]
  },
  {
   "cell_type": "code",
   "execution_count": 8,
   "id": "ef7e7488",
   "metadata": {},
   "outputs": [],
   "source": [
    "df = pd.concat([sha_videos, sha_photos, sha_files], axis=0)"
   ]
  },
  {
   "cell_type": "code",
   "execution_count": 9,
   "id": "622921ba",
   "metadata": {},
   "outputs": [
    {
     "data": {
      "text/plain": [
       "(179282, 8)"
      ]
     },
     "execution_count": 9,
     "metadata": {},
     "output_type": "execute_result"
    }
   ],
   "source": [
    "df.shape"
   ]
  },
  {
   "cell_type": "code",
   "execution_count": 10,
   "id": "908fb87f",
   "metadata": {},
   "outputs": [],
   "source": [
    "base = pd.read_csv(os.path.join(SAVE_PATH, \"df_2025_10_04_20_52_13.csv\"))"
   ]
  },
  {
   "cell_type": "code",
   "execution_count": 11,
   "id": "7ead95ac",
   "metadata": {},
   "outputs": [
    {
     "data": {
      "text/plain": [
       "(179282, 7)"
      ]
     },
     "execution_count": 11,
     "metadata": {},
     "output_type": "execute_result"
    }
   ],
   "source": [
    "base.shape"
   ]
  },
  {
   "cell_type": "code",
   "execution_count": 12,
   "id": "44dfc23c",
   "metadata": {},
   "outputs": [
    {
     "data": {
      "text/plain": [
       "FileType\n",
       "audio      1388\n",
       "code        873\n",
       "data        694\n",
       "docs        394\n",
       "na        10153\n",
       "photo    140469\n",
       "video     25311\n",
       "Name: FileName, dtype: int64"
      ]
     },
     "execution_count": 12,
     "metadata": {},
     "output_type": "execute_result"
    }
   ],
   "source": [
    "base.groupby([\"FileType\"])[\"FileName\"].apply(len)"
   ]
  },
  {
   "cell_type": "code",
   "execution_count": 13,
   "id": "3b37a153",
   "metadata": {},
   "outputs": [
    {
     "data": {
      "text/plain": [
       "FileType\n",
       "audio      1388\n",
       "code        873\n",
       "data        694\n",
       "docs        394\n",
       "na        10153\n",
       "photo    140469\n",
       "video     25311\n",
       "Name: FileName, dtype: int64"
      ]
     },
     "execution_count": 13,
     "metadata": {},
     "output_type": "execute_result"
    }
   ],
   "source": [
    "df.groupby([\"FileType\"])[\"FileName\"].apply(len)"
   ]
  },
  {
   "cell_type": "code",
   "execution_count": 14,
   "id": "d5618db6",
   "metadata": {},
   "outputs": [],
   "source": [
    "df.to_csv(os.path.join(SAVE_PATH, \"df.csv\"))"
   ]
  },
  {
   "cell_type": "code",
   "execution_count": 15,
   "id": "786e7cc7",
   "metadata": {},
   "outputs": [],
   "source": [
    "DF_FILE_NAME = \"df.csv\"\n",
    "DF_PATH = os.path.join(SAVE_PATH, DF_FILE_NAME)"
   ]
  },
  {
   "cell_type": "markdown",
   "id": "7ef72a65",
   "metadata": {},
   "source": [
    "# Análisis y preprocesamiento de df"
   ]
  },
  {
   "cell_type": "code",
   "execution_count": 16,
   "id": "e2ac94ef",
   "metadata": {},
   "outputs": [],
   "source": [
    "df = pd.read_csv(DF_PATH, index_col=0).reset_index(drop=True)"
   ]
  },
  {
   "cell_type": "code",
   "execution_count": 17,
   "id": "c3221ff9",
   "metadata": {},
   "outputs": [],
   "source": [
    "df = preprocessing_pipeline(df=df)"
   ]
  },
  {
   "cell_type": "code",
   "execution_count": 18,
   "id": "ecfc6022",
   "metadata": {},
   "outputs": [
    {
     "name": "stdout",
     "output_type": "stream",
     "text": [
      "<class 'pandas.core.frame.DataFrame'>\n",
      "RangeIndex: 179282 entries, 0 to 179281\n",
      "Data columns (total 8 columns):\n",
      " #   Column                Non-Null Count   Dtype         \n",
      "---  ------                --------------   -----         \n",
      " 0   FilePath              179282 non-null  object        \n",
      " 1   CreationDate          179282 non-null  datetime64[ns]\n",
      " 2   LastModificationDate  179282 non-null  datetime64[ns]\n",
      " 3   SizeMB                179282 non-null  float64       \n",
      " 4   FileName              179282 non-null  object        \n",
      " 5   FileExtension         179282 non-null  object        \n",
      " 6   FileType              179282 non-null  object        \n",
      " 7   Sha256                179282 non-null  object        \n",
      "dtypes: datetime64[ns](2), float64(1), object(5)\n",
      "memory usage: 10.9+ MB\n"
     ]
    }
   ],
   "source": [
    "df.info()"
   ]
  },
  {
   "cell_type": "code",
   "execution_count": 19,
   "id": "10982dea",
   "metadata": {},
   "outputs": [
    {
     "data": {
      "text/plain": [
       "(179282, 8)"
      ]
     },
     "execution_count": 19,
     "metadata": {},
     "output_type": "execute_result"
    }
   ],
   "source": [
    "df.shape"
   ]
  },
  {
   "cell_type": "code",
   "execution_count": 20,
   "id": "ab49cb95",
   "metadata": {},
   "outputs": [
    {
     "data": {
      "text/plain": [
       "FilePath                0\n",
       "CreationDate            0\n",
       "LastModificationDate    0\n",
       "SizeMB                  0\n",
       "FileName                0\n",
       "FileExtension           0\n",
       "FileType                0\n",
       "Sha256                  0\n",
       "dtype: int64"
      ]
     },
     "execution_count": 20,
     "metadata": {},
     "output_type": "execute_result"
    }
   ],
   "source": [
    "df.isnull().sum()"
   ]
  },
  {
   "cell_type": "code",
   "execution_count": 21,
   "id": "05314973",
   "metadata": {},
   "outputs": [
    {
     "data": {
      "text/plain": [
       "Sha256\n",
       "7c77b21ffe544a955e3567fd204c255ec9fc0e5d3664e28c24826f2a98f55748    99\n",
       "b37da6b3d5dbe18adf39559229d50c3b64d422c44d613a6208ab24b9324de080    98\n",
       "e5a2770c42b792947439c0c8e15ef9ff2748a8ea60aaea20b3613b3dde46206e    98\n",
       "f5f3d49264e8a152e5aae65bd107dcac297333fdec906a7e8d09f0d5d01e352d    96\n",
       "e15ed0ef51c9c3433acf71512d510e7773881181429a4e00d6774feeb61c0968    74\n",
       "                                                                    ..\n",
       "a39a3258d944bff7cde4dc6a411dbbc537ff894859f171be9dbfae40f1b62976     1\n",
       "42a7f6c185c7edebed4babe31e1b2fdf0870e2183ca4ffbafbad5e1e0804bd23     1\n",
       "79398583ed70f283b2235912eac79e4540f8d5ddf8281bb4e77959dff36a4a5c     1\n",
       "bc45a784a2a1d7a37683db1f5a6d601f44f6244a5cfcd13a3812a6bd09116e9e     1\n",
       "78f9ee3546d18dd38bc7a6bd4b4f70ec31f208cc3313ee976120a2d998e7ca81     1\n",
       "Name: count, Length: 128836, dtype: int64"
      ]
     },
     "execution_count": 21,
     "metadata": {},
     "output_type": "execute_result"
    }
   ],
   "source": [
    "df[\"Sha256\"].value_counts()"
   ]
  },
  {
   "cell_type": "code",
   "execution_count": 22,
   "id": "25d28088",
   "metadata": {},
   "outputs": [
    {
     "data": {
      "text/plain": [
       "FileType  Sha256                                                            FileExtension\n",
       "photo     90160d2c1e59a88b672043b7937e516549fdf304b7e993b6531d5ebccdffbccc  .jpeg             1\n",
       "          bfe321934f8998b1af90c4bedf9c8fdb7bd600b11370b84c9d17be6db3f1a518  .jpg              1\n",
       "          bfe2dcf2e8c0ca596a5989450850305638411265d42d8bb62acc0e3e162c4768  .jpg              1\n",
       "          bfe2c61247b68185c2a216ce14c1cdd08b2b81f40d9362d3c89aaa6d4259ca6a  .jpeg             1\n",
       "          bfe23076cc95f8593d948ab29271fc6669a1a6da3219a47b4fc25265b092561d  .jpg              1\n",
       "                                                                                             ..\n",
       "na        e15ed0ef51c9c3433acf71512d510e7773881181429a4e00d6774feeb61c0968                   53\n",
       "          f5f3d49264e8a152e5aae65bd107dcac297333fdec906a7e8d09f0d5d01e352d                   76\n",
       "          e5a2770c42b792947439c0c8e15ef9ff2748a8ea60aaea20b3613b3dde46206e                   77\n",
       "          b37da6b3d5dbe18adf39559229d50c3b64d422c44d613a6208ab24b9324de080                   77\n",
       "          7c77b21ffe544a955e3567fd204c255ec9fc0e5d3664e28c24826f2a98f55748                   78\n",
       "Name: count, Length: 135490, dtype: int64"
      ]
     },
     "execution_count": 22,
     "metadata": {},
     "output_type": "execute_result"
    }
   ],
   "source": [
    "df.groupby([\"FileType\", \"Sha256\"])[\"FileExtension\"].value_counts().sort_values()"
   ]
  },
  {
   "cell_type": "code",
   "execution_count": 23,
   "id": "d261f7eb",
   "metadata": {},
   "outputs": [],
   "source": [
    "df[\"FileExtension\"].fillna(\"Other\", inplace=True)"
   ]
  },
  {
   "cell_type": "code",
   "execution_count": 24,
   "id": "a2ac8415",
   "metadata": {},
   "outputs": [],
   "source": [
    "df[\"DummyColumn\"] = 1"
   ]
  },
  {
   "cell_type": "code",
   "execution_count": 25,
   "id": "4f3c007f",
   "metadata": {},
   "outputs": [],
   "source": [
    "df[\"CumSum\"] = df.groupby([\"Sha256\"])[\"DummyColumn\"].transform(\n",
    "    lambda series: series.cumsum()\n",
    ")"
   ]
  },
  {
   "cell_type": "code",
   "execution_count": 26,
   "id": "d8de0016",
   "metadata": {},
   "outputs": [],
   "source": [
    "def file_size_unique(row):\n",
    "    cumsum = row[\"CumSum\"]\n",
    "    size = row[\"SizeMB\"]\n",
    "    if cumsum == 1:\n",
    "        return size\n",
    "    else:\n",
    "        return 0"
   ]
  },
  {
   "cell_type": "code",
   "execution_count": 27,
   "id": "f41e1483",
   "metadata": {},
   "outputs": [
    {
     "name": "stdout",
     "output_type": "stream",
     "text": [
      "747 ms ± 11.8 ms per loop (mean ± std. dev. of 7 runs, 1 loop each)\n"
     ]
    }
   ],
   "source": [
    "%%timeit\n",
    "df[\"SizeMBUniqueFile\"] = df.apply(lambda row: file_size_unique(row), axis=1)"
   ]
  },
  {
   "cell_type": "code",
   "execution_count": 28,
   "id": "765a571c",
   "metadata": {},
   "outputs": [
    {
     "name": "stdout",
     "output_type": "stream",
     "text": [
      "255 µs ± 4 µs per loop (mean ± std. dev. of 7 runs, 1,000 loops each)\n"
     ]
    }
   ],
   "source": [
    "%%timeit\n",
    "df[\"SizeMBUniqueFile2\"] = np.where(df[\"CumSum\"] == 1, df[\"SizeMB\"], 0)"
   ]
  },
  {
   "cell_type": "code",
   "execution_count": 29,
   "id": "bebb2483",
   "metadata": {},
   "outputs": [
    {
     "data": {
      "text/plain": [
       "True"
      ]
     },
     "execution_count": 29,
     "metadata": {},
     "output_type": "execute_result"
    }
   ],
   "source": [
    "df[\"SizeMBUniqueFile\"].equals(df[\"SizeMBUniqueFile2\"])"
   ]
  },
  {
   "cell_type": "code",
   "execution_count": 30,
   "id": "18bc1b48",
   "metadata": {},
   "outputs": [
    {
     "data": {
      "text/html": [
       "<div>\n",
       "<style scoped>\n",
       "    .dataframe tbody tr th:only-of-type {\n",
       "        vertical-align: middle;\n",
       "    }\n",
       "\n",
       "    .dataframe tbody tr th {\n",
       "        vertical-align: top;\n",
       "    }\n",
       "\n",
       "    .dataframe thead th {\n",
       "        text-align: right;\n",
       "    }\n",
       "</style>\n",
       "<table border=\"1\" class=\"dataframe\">\n",
       "  <thead>\n",
       "    <tr style=\"text-align: right;\">\n",
       "      <th></th>\n",
       "      <th>FilePath</th>\n",
       "      <th>CreationDate</th>\n",
       "      <th>LastModificationDate</th>\n",
       "      <th>SizeMB</th>\n",
       "      <th>FileName</th>\n",
       "      <th>FileExtension</th>\n",
       "      <th>FileType</th>\n",
       "      <th>Sha256</th>\n",
       "      <th>DummyColumn</th>\n",
       "      <th>CumSum</th>\n",
       "      <th>SizeMBUniqueFile</th>\n",
       "      <th>SizeMBUniqueFile2</th>\n",
       "    </tr>\n",
       "  </thead>\n",
       "  <tbody>\n",
       "    <tr>\n",
       "      <th>76072</th>\n",
       "      <td>/Volumes/MUPU_4TB_1/MUPU 500GB/Fotos/IMG_0199.JPG</td>\n",
       "      <td>2021-08-07 20:59:34</td>\n",
       "      <td>2014-01-22 23:21:49</td>\n",
       "      <td>0.06495</td>\n",
       "      <td>IMG_0199.JPG</td>\n",
       "      <td>.jpg</td>\n",
       "      <td>photo</td>\n",
       "      <td>2235237527cb71eac90aed8049b42500e506db3a796138...</td>\n",
       "      <td>1</td>\n",
       "      <td>2</td>\n",
       "      <td>0.00000</td>\n",
       "      <td>0.00000</td>\n",
       "    </tr>\n",
       "    <tr>\n",
       "      <th>56494</th>\n",
       "      <td>/Volumes/MUPU_4TB_1/MUPU 500GB/Fotos/263x195-4...</td>\n",
       "      <td>2021-08-07 20:50:47</td>\n",
       "      <td>2019-08-28 04:21:59</td>\n",
       "      <td>0.00996</td>\n",
       "      <td>263x195-47012912.JPEG</td>\n",
       "      <td>.jpeg</td>\n",
       "      <td>photo</td>\n",
       "      <td>c3f3a5ca642b65f1b198a6a6d124be7e6050b29999335f...</td>\n",
       "      <td>1</td>\n",
       "      <td>1</td>\n",
       "      <td>0.00996</td>\n",
       "      <td>0.00996</td>\n",
       "    </tr>\n",
       "    <tr>\n",
       "      <th>42133</th>\n",
       "      <td>/Volumes/MUPU_4TB_1/MUPU 500GB/Fotos/(2017-05-...</td>\n",
       "      <td>2021-08-07 20:24:13</td>\n",
       "      <td>2019-08-28 03:48:58</td>\n",
       "      <td>5.24959</td>\n",
       "      <td>(2017-05-27 08-48-09)Xiaomi MI 5 -3456x4608-28...</td>\n",
       "      <td>.jpeg</td>\n",
       "      <td>photo</td>\n",
       "      <td>f499d93fc14c6f91ca683deba63e5d94600c633d1183c3...</td>\n",
       "      <td>1</td>\n",
       "      <td>1</td>\n",
       "      <td>5.24959</td>\n",
       "      <td>5.24959</td>\n",
       "    </tr>\n",
       "    <tr>\n",
       "      <th>33819</th>\n",
       "      <td>/Volumes/MUPU_4TB_1/MUPU 500GB/Fotos/(2013-10-...</td>\n",
       "      <td>2021-08-07 19:59:04</td>\n",
       "      <td>2019-08-28 03:43:15</td>\n",
       "      <td>1.85759</td>\n",
       "      <td>(2013-10-05 12-51-24)-2560x1440-356554824.JPEG</td>\n",
       "      <td>.jpeg</td>\n",
       "      <td>photo</td>\n",
       "      <td>b9a0ec9d5380820e7709afceed8bb8a50dda3c7b4efec7...</td>\n",
       "      <td>1</td>\n",
       "      <td>3</td>\n",
       "      <td>0.00000</td>\n",
       "      <td>0.00000</td>\n",
       "    </tr>\n",
       "    <tr>\n",
       "      <th>78741</th>\n",
       "      <td>/Volumes/MUPU_4TB_1/MUPU 500GB/Fotos/IMG_20170...</td>\n",
       "      <td>2021-08-07 21:12:53</td>\n",
       "      <td>2017-07-09 23:04:51</td>\n",
       "      <td>5.25655</td>\n",
       "      <td>IMG_20170709_230451.jpg</td>\n",
       "      <td>.jpg</td>\n",
       "      <td>photo</td>\n",
       "      <td>3f7af065b921a4281befcefd9e7ad1b9a4175d8a2fa702...</td>\n",
       "      <td>1</td>\n",
       "      <td>1</td>\n",
       "      <td>5.25655</td>\n",
       "      <td>5.25655</td>\n",
       "    </tr>\n",
       "    <tr>\n",
       "      <th>133111</th>\n",
       "      <td>/Volumes/MUPU_4TB_2/202305/20230501_Delta_Llob...</td>\n",
       "      <td>2023-06-12 21:56:26</td>\n",
       "      <td>2023-05-01 12:35:23</td>\n",
       "      <td>0.99512</td>\n",
       "      <td>IMG_20230501_114011.jpg</td>\n",
       "      <td>.jpg</td>\n",
       "      <td>photo</td>\n",
       "      <td>5b5df7dc692b138740ae0f98e2558dc333b04f437f0f66...</td>\n",
       "      <td>1</td>\n",
       "      <td>1</td>\n",
       "      <td>0.99512</td>\n",
       "      <td>0.99512</td>\n",
       "    </tr>\n",
       "    <tr>\n",
       "      <th>175174</th>\n",
       "      <td>/Volumes/MUPU_4TB_2/BACKUPS/1_BACKUP_ONEPLUS_2...</td>\n",
       "      <td>2023-02-12 20:20:07</td>\n",
       "      <td>2023-02-08 17:20:15</td>\n",
       "      <td>5.61976</td>\n",
       "      <td>4c407223ad06f620d55ac433249437260862c641.file</td>\n",
       "      <td>.file</td>\n",
       "      <td>na</td>\n",
       "      <td>a086437de3643c26fa1685fc3a5fb5601f38297f4191eb...</td>\n",
       "      <td>1</td>\n",
       "      <td>1</td>\n",
       "      <td>5.61976</td>\n",
       "      <td>5.61976</td>\n",
       "    </tr>\n",
       "    <tr>\n",
       "      <th>158185</th>\n",
       "      <td>/Volumes/MUPU_4TB_2/Backup iPhone 30072025/IMG...</td>\n",
       "      <td>2025-07-30 22:34:08</td>\n",
       "      <td>2018-03-24 12:54:46</td>\n",
       "      <td>1.40487</td>\n",
       "      <td>IMG_6490.HEIC</td>\n",
       "      <td>.heic</td>\n",
       "      <td>photo</td>\n",
       "      <td>ebe2bdff0ec276b251980882a2b60ee9058ae629e92d2d...</td>\n",
       "      <td>1</td>\n",
       "      <td>1</td>\n",
       "      <td>1.40487</td>\n",
       "      <td>1.40487</td>\n",
       "    </tr>\n",
       "    <tr>\n",
       "      <th>128536</th>\n",
       "      <td>/Volumes/MUPU_4TB_2/202210/20221006_Ofi/IMG-20...</td>\n",
       "      <td>2022-10-12 22:08:33</td>\n",
       "      <td>2022-10-06 22:53:15</td>\n",
       "      <td>0.07825</td>\n",
       "      <td>IMG-20221005-WA0002.jpg</td>\n",
       "      <td>.jpg</td>\n",
       "      <td>photo</td>\n",
       "      <td>4b0b77c26020b422ac10a9967f47d2618dc9c8315c0dbf...</td>\n",
       "      <td>1</td>\n",
       "      <td>1</td>\n",
       "      <td>0.07825</td>\n",
       "      <td>0.07825</td>\n",
       "    </tr>\n",
       "    <tr>\n",
       "      <th>144891</th>\n",
       "      <td>/Volumes/MUPU_4TB_2/Backup iPhone 11082025/IMG...</td>\n",
       "      <td>2025-08-11 21:34:12</td>\n",
       "      <td>2025-08-10 18:13:19</td>\n",
       "      <td>3.11232</td>\n",
       "      <td>IMG_7114.JPG</td>\n",
       "      <td>.jpg</td>\n",
       "      <td>photo</td>\n",
       "      <td>32a221d29e805398c1b3ca3758f6adb662bf3cadc52b33...</td>\n",
       "      <td>1</td>\n",
       "      <td>1</td>\n",
       "      <td>3.11232</td>\n",
       "      <td>3.11232</td>\n",
       "    </tr>\n",
       "  </tbody>\n",
       "</table>\n",
       "</div>"
      ],
      "text/plain": [
       "                                                 FilePath        CreationDate  \\\n",
       "76072   /Volumes/MUPU_4TB_1/MUPU 500GB/Fotos/IMG_0199.JPG 2021-08-07 20:59:34   \n",
       "56494   /Volumes/MUPU_4TB_1/MUPU 500GB/Fotos/263x195-4... 2021-08-07 20:50:47   \n",
       "42133   /Volumes/MUPU_4TB_1/MUPU 500GB/Fotos/(2017-05-... 2021-08-07 20:24:13   \n",
       "33819   /Volumes/MUPU_4TB_1/MUPU 500GB/Fotos/(2013-10-... 2021-08-07 19:59:04   \n",
       "78741   /Volumes/MUPU_4TB_1/MUPU 500GB/Fotos/IMG_20170... 2021-08-07 21:12:53   \n",
       "133111  /Volumes/MUPU_4TB_2/202305/20230501_Delta_Llob... 2023-06-12 21:56:26   \n",
       "175174  /Volumes/MUPU_4TB_2/BACKUPS/1_BACKUP_ONEPLUS_2... 2023-02-12 20:20:07   \n",
       "158185  /Volumes/MUPU_4TB_2/Backup iPhone 30072025/IMG... 2025-07-30 22:34:08   \n",
       "128536  /Volumes/MUPU_4TB_2/202210/20221006_Ofi/IMG-20... 2022-10-12 22:08:33   \n",
       "144891  /Volumes/MUPU_4TB_2/Backup iPhone 11082025/IMG... 2025-08-11 21:34:12   \n",
       "\n",
       "       LastModificationDate  SizeMB  \\\n",
       "76072   2014-01-22 23:21:49 0.06495   \n",
       "56494   2019-08-28 04:21:59 0.00996   \n",
       "42133   2019-08-28 03:48:58 5.24959   \n",
       "33819   2019-08-28 03:43:15 1.85759   \n",
       "78741   2017-07-09 23:04:51 5.25655   \n",
       "133111  2023-05-01 12:35:23 0.99512   \n",
       "175174  2023-02-08 17:20:15 5.61976   \n",
       "158185  2018-03-24 12:54:46 1.40487   \n",
       "128536  2022-10-06 22:53:15 0.07825   \n",
       "144891  2025-08-10 18:13:19 3.11232   \n",
       "\n",
       "                                                 FileName FileExtension  \\\n",
       "76072                                        IMG_0199.JPG          .jpg   \n",
       "56494                               263x195-47012912.JPEG         .jpeg   \n",
       "42133   (2017-05-27 08-48-09)Xiaomi MI 5 -3456x4608-28...         .jpeg   \n",
       "33819      (2013-10-05 12-51-24)-2560x1440-356554824.JPEG         .jpeg   \n",
       "78741                             IMG_20170709_230451.jpg          .jpg   \n",
       "133111                            IMG_20230501_114011.jpg          .jpg   \n",
       "175174      4c407223ad06f620d55ac433249437260862c641.file         .file   \n",
       "158185                                      IMG_6490.HEIC         .heic   \n",
       "128536                            IMG-20221005-WA0002.jpg          .jpg   \n",
       "144891                                       IMG_7114.JPG          .jpg   \n",
       "\n",
       "       FileType                                             Sha256  \\\n",
       "76072     photo  2235237527cb71eac90aed8049b42500e506db3a796138...   \n",
       "56494     photo  c3f3a5ca642b65f1b198a6a6d124be7e6050b29999335f...   \n",
       "42133     photo  f499d93fc14c6f91ca683deba63e5d94600c633d1183c3...   \n",
       "33819     photo  b9a0ec9d5380820e7709afceed8bb8a50dda3c7b4efec7...   \n",
       "78741     photo  3f7af065b921a4281befcefd9e7ad1b9a4175d8a2fa702...   \n",
       "133111    photo  5b5df7dc692b138740ae0f98e2558dc333b04f437f0f66...   \n",
       "175174       na  a086437de3643c26fa1685fc3a5fb5601f38297f4191eb...   \n",
       "158185    photo  ebe2bdff0ec276b251980882a2b60ee9058ae629e92d2d...   \n",
       "128536    photo  4b0b77c26020b422ac10a9967f47d2618dc9c8315c0dbf...   \n",
       "144891    photo  32a221d29e805398c1b3ca3758f6adb662bf3cadc52b33...   \n",
       "\n",
       "        DummyColumn  CumSum  SizeMBUniqueFile  SizeMBUniqueFile2  \n",
       "76072             1       2           0.00000            0.00000  \n",
       "56494             1       1           0.00996            0.00996  \n",
       "42133             1       1           5.24959            5.24959  \n",
       "33819             1       3           0.00000            0.00000  \n",
       "78741             1       1           5.25655            5.25655  \n",
       "133111            1       1           0.99512            0.99512  \n",
       "175174            1       1           5.61976            5.61976  \n",
       "158185            1       1           1.40487            1.40487  \n",
       "128536            1       1           0.07825            0.07825  \n",
       "144891            1       1           3.11232            3.11232  "
      ]
     },
     "execution_count": 30,
     "metadata": {},
     "output_type": "execute_result"
    }
   ],
   "source": [
    "df.sample(10)"
   ]
  },
  {
   "cell_type": "code",
   "execution_count": 31,
   "id": "2251830b",
   "metadata": {},
   "outputs": [
    {
     "data": {
      "text/html": [
       "<div>\n",
       "<style scoped>\n",
       "    .dataframe tbody tr th:only-of-type {\n",
       "        vertical-align: middle;\n",
       "    }\n",
       "\n",
       "    .dataframe tbody tr th {\n",
       "        vertical-align: top;\n",
       "    }\n",
       "\n",
       "    .dataframe thead th {\n",
       "        text-align: right;\n",
       "    }\n",
       "</style>\n",
       "<table border=\"1\" class=\"dataframe\">\n",
       "  <thead>\n",
       "    <tr style=\"text-align: right;\">\n",
       "      <th></th>\n",
       "      <th>FileType</th>\n",
       "      <th>NrFiles</th>\n",
       "      <th>NrFilesUnique</th>\n",
       "      <th>TotalSizeMB</th>\n",
       "      <th>TotalSizeGB</th>\n",
       "      <th>TotalSizeGBUnique</th>\n",
       "      <th>DiffFiles</th>\n",
       "      <th>NrFilesByType</th>\n",
       "      <th>TotalSizeMBByType</th>\n",
       "      <th>PctNrFilesByType</th>\n",
       "      <th>PctSizeMBByType</th>\n",
       "    </tr>\n",
       "  </thead>\n",
       "  <tbody>\n",
       "    <tr>\n",
       "      <th>6</th>\n",
       "      <td>video</td>\n",
       "      <td>25311</td>\n",
       "      <td>22595</td>\n",
       "      <td>6223333.06791</td>\n",
       "      <td>6077.47370</td>\n",
       "      <td>5671.58439</td>\n",
       "      <td>2716</td>\n",
       "      <td>25311</td>\n",
       "      <td>6223333.06791</td>\n",
       "      <td>1.00000</td>\n",
       "      <td>1.00000</td>\n",
       "    </tr>\n",
       "    <tr>\n",
       "      <th>5</th>\n",
       "      <td>photo</td>\n",
       "      <td>140469</td>\n",
       "      <td>96681</td>\n",
       "      <td>222784.56682</td>\n",
       "      <td>217.56305</td>\n",
       "      <td>161.48239</td>\n",
       "      <td>43788</td>\n",
       "      <td>140469</td>\n",
       "      <td>222784.56682</td>\n",
       "      <td>1.00000</td>\n",
       "      <td>1.00000</td>\n",
       "    </tr>\n",
       "    <tr>\n",
       "      <th>4</th>\n",
       "      <td>na</td>\n",
       "      <td>10153</td>\n",
       "      <td>7629</td>\n",
       "      <td>102196.37778</td>\n",
       "      <td>99.80115</td>\n",
       "      <td>73.44073</td>\n",
       "      <td>2524</td>\n",
       "      <td>10153</td>\n",
       "      <td>102196.37778</td>\n",
       "      <td>1.00000</td>\n",
       "      <td>1.00000</td>\n",
       "    </tr>\n",
       "    <tr>\n",
       "      <th>3</th>\n",
       "      <td>docs</td>\n",
       "      <td>394</td>\n",
       "      <td>291</td>\n",
       "      <td>1894.50205</td>\n",
       "      <td>1.85010</td>\n",
       "      <td>1.45692</td>\n",
       "      <td>103</td>\n",
       "      <td>394</td>\n",
       "      <td>1894.50205</td>\n",
       "      <td>1.00000</td>\n",
       "      <td>1.00000</td>\n",
       "    </tr>\n",
       "    <tr>\n",
       "      <th>2</th>\n",
       "      <td>data</td>\n",
       "      <td>694</td>\n",
       "      <td>215</td>\n",
       "      <td>25884.49844</td>\n",
       "      <td>25.27783</td>\n",
       "      <td>10.48555</td>\n",
       "      <td>479</td>\n",
       "      <td>694</td>\n",
       "      <td>25884.49844</td>\n",
       "      <td>1.00000</td>\n",
       "      <td>1.00000</td>\n",
       "    </tr>\n",
       "    <tr>\n",
       "      <th>1</th>\n",
       "      <td>code</td>\n",
       "      <td>873</td>\n",
       "      <td>347</td>\n",
       "      <td>718.25458</td>\n",
       "      <td>0.70142</td>\n",
       "      <td>0.23692</td>\n",
       "      <td>526</td>\n",
       "      <td>873</td>\n",
       "      <td>718.25458</td>\n",
       "      <td>1.00000</td>\n",
       "      <td>1.00000</td>\n",
       "    </tr>\n",
       "    <tr>\n",
       "      <th>0</th>\n",
       "      <td>audio</td>\n",
       "      <td>1388</td>\n",
       "      <td>1078</td>\n",
       "      <td>1752.26908</td>\n",
       "      <td>1.71120</td>\n",
       "      <td>1.49733</td>\n",
       "      <td>310</td>\n",
       "      <td>1388</td>\n",
       "      <td>1752.26908</td>\n",
       "      <td>1.00000</td>\n",
       "      <td>1.00000</td>\n",
       "    </tr>\n",
       "  </tbody>\n",
       "</table>\n",
       "</div>"
      ],
      "text/plain": [
       "  FileType  NrFiles  NrFilesUnique   TotalSizeMB  TotalSizeGB  \\\n",
       "6    video    25311          22595 6223333.06791   6077.47370   \n",
       "5    photo   140469          96681  222784.56682    217.56305   \n",
       "4       na    10153           7629  102196.37778     99.80115   \n",
       "3     docs      394            291    1894.50205      1.85010   \n",
       "2     data      694            215   25884.49844     25.27783   \n",
       "1     code      873            347     718.25458      0.70142   \n",
       "0    audio     1388           1078    1752.26908      1.71120   \n",
       "\n",
       "   TotalSizeGBUnique  DiffFiles  NrFilesByType  TotalSizeMBByType  \\\n",
       "6         5671.58439       2716          25311      6223333.06791   \n",
       "5          161.48239      43788         140469       222784.56682   \n",
       "4           73.44073       2524          10153       102196.37778   \n",
       "3            1.45692        103            394         1894.50205   \n",
       "2           10.48555        479            694        25884.49844   \n",
       "1            0.23692        526            873          718.25458   \n",
       "0            1.49733        310           1388         1752.26908   \n",
       "\n",
       "   PctNrFilesByType  PctSizeMBByType  \n",
       "6           1.00000          1.00000  \n",
       "5           1.00000          1.00000  \n",
       "4           1.00000          1.00000  \n",
       "3           1.00000          1.00000  \n",
       "2           1.00000          1.00000  \n",
       "1           1.00000          1.00000  \n",
       "0           1.00000          1.00000  "
      ]
     },
     "execution_count": 31,
     "metadata": {},
     "output_type": "execute_result"
    }
   ],
   "source": [
    "file_size_and_counter_by_type = (\n",
    "    df\n",
    "    # .query(\"FileType == 'video' or FileType == 'photo'\")\n",
    "    # .query(\"FileType == 'photo'\")\n",
    "    # .groupby([\"FileType\", \"FileExtension\"])\n",
    "    .groupby([\"FileType\"])\n",
    "    .agg(\n",
    "        NrFiles=(\"FilePath\", len),\n",
    "        NrFilesUnique=(\"CumSum\", lambda series: len(series[series == 1])),\n",
    "        TotalSizeMB=(\"SizeMB\", np.sum),\n",
    "        TotalSizeGB=(\"SizeMB\", lambda series: np.sum(series) / (1024)),  # GB\n",
    "        TotalSizeGBUnique=(\"SizeMBUniqueFile\", lambda series: np.sum(series) / (1024)),\n",
    "    )\n",
    "    .reset_index()\n",
    "    .assign(\n",
    "        DiffFiles=lambda df: df[\"NrFiles\"] - df[\"NrFilesUnique\"],\n",
    "        NrFilesByType=lambda df: df.groupby(\"FileType\")[\"NrFiles\"].transform(np.sum),\n",
    "        TotalSizeMBByType=lambda df: df.groupby(\"FileType\")[\"TotalSizeMB\"].transform(\n",
    "            np.sum\n",
    "        ),\n",
    "        PctNrFilesByType=lambda df: df[\"NrFiles\"] / df[\"NrFilesByType\"],\n",
    "        PctSizeMBByType=lambda df: df[\"TotalSizeMB\"] / df[\"TotalSizeMBByType\"],\n",
    "    )\n",
    "    .sort_values(\"FileType\", ascending=False)\n",
    ")\n",
    "\n",
    "file_size_and_counter_by_type"
   ]
  },
  {
   "cell_type": "code",
   "execution_count": 32,
   "id": "3af05e67",
   "metadata": {},
   "outputs": [
    {
     "data": {
      "text/plain": [
       "504.19421696290374"
      ]
     },
     "execution_count": 32,
     "metadata": {},
     "output_type": "execute_result"
    }
   ],
   "source": [
    "(\n",
    "    file_size_and_counter_by_type[\"TotalSizeGB\"].sum()\n",
    "    - file_size_and_counter_by_type[\"TotalSizeGBUnique\"].sum()\n",
    ")"
   ]
  },
  {
   "cell_type": "code",
   "execution_count": 33,
   "id": "11358e6c",
   "metadata": {},
   "outputs": [
    {
     "data": {
      "text/plain": [
       "50446"
      ]
     },
     "execution_count": 33,
     "metadata": {},
     "output_type": "execute_result"
    }
   ],
   "source": [
    "(\n",
    "    file_size_and_counter_by_type[\"NrFiles\"].sum()\n",
    "    - file_size_and_counter_by_type[\"NrFilesUnique\"].sum()\n",
    ")"
   ]
  },
  {
   "cell_type": "code",
   "execution_count": null,
   "id": "1ccdf2d1",
   "metadata": {},
   "outputs": [],
   "source": []
  }
 ],
 "metadata": {
  "kernelspec": {
   "display_name": "env_main",
   "language": "python",
   "name": "env_main"
  },
  "language_info": {
   "codemirror_mode": {
    "name": "ipython",
    "version": 3
   },
   "file_extension": ".py",
   "mimetype": "text/x-python",
   "name": "python",
   "nbconvert_exporter": "python",
   "pygments_lexer": "ipython3",
   "version": "3.10.18"
  }
 },
 "nbformat": 4,
 "nbformat_minor": 5
}
