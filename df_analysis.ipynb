{
 "cells": [
  {
   "cell_type": "code",
   "execution_count": 1,
   "id": "3084acc6",
   "metadata": {},
   "outputs": [],
   "source": [
    "import warnings\n",
    "warnings.filterwarnings(\"ignore\")\n",
    "\n",
    "import os\n",
    "\n",
    "import numpy as np\n",
    "import pandas as pd\n",
    "\n",
    "pd.options.display.float_format = '{:.5f}'.format\n",
    "\n",
    "import matplotlib.image as mpimg\n",
    "import matplotlib.pyplot as plt\n",
    "from PIL import Image"
   ]
  },
  {
   "cell_type": "code",
   "execution_count": 2,
   "id": "b63a4fd7",
   "metadata": {},
   "outputs": [],
   "source": [
    "from config import TOP_FILE_EXTENSIONS"
   ]
  },
  {
   "cell_type": "code",
   "execution_count": 3,
   "id": "972fac24",
   "metadata": {},
   "outputs": [
    {
     "name": "stdout",
     "output_type": "stream",
     "text": [
      "\u001b[34m__pycache__\u001b[m\u001b[m                         df_analysis.ipynb\r\n",
      "config.py                           indexator.py\r\n",
      "df_2024_06_22_19_24_53.parquet.gzip photo.py\r\n",
      "df_2024_06_24_18_03_18.parquet.gzip \u001b[34mvideos\u001b[m\u001b[m\r\n",
      "df_2024_06_24_18_03_49.parquet.gzip\r\n"
     ]
    }
   ],
   "source": [
    "! ls"
   ]
  },
  {
   "cell_type": "code",
   "execution_count": 4,
   "id": "abbf0314",
   "metadata": {},
   "outputs": [],
   "source": [
    "CWD = os.getcwd()\n",
    "DF_PATH = os.path.join(CWD, \"df_2024_06_22_19_24_53.parquet.gzip\")"
   ]
  },
  {
   "cell_type": "code",
   "execution_count": 5,
   "id": "4f5239d3",
   "metadata": {},
   "outputs": [],
   "source": [
    "df = pd.read_parquet(path = DF_PATH)"
   ]
  },
  {
   "cell_type": "code",
   "execution_count": 6,
   "id": "da4b35ee",
   "metadata": {},
   "outputs": [
    {
     "name": "stdout",
     "output_type": "stream",
     "text": [
      "<class 'pandas.core.frame.DataFrame'>\n",
      "RangeIndex: 146072 entries, 0 to 146071\n",
      "Data columns (total 4 columns):\n",
      " #   Column                Non-Null Count   Dtype  \n",
      "---  ------                --------------   -----  \n",
      " 0   FilePath              146072 non-null  object \n",
      " 1   CreationDate          146072 non-null  object \n",
      " 2   LastModificationDate  146072 non-null  object \n",
      " 3   SizeMB                146072 non-null  float64\n",
      "dtypes: float64(1), object(3)\n",
      "memory usage: 4.5+ MB\n"
     ]
    }
   ],
   "source": [
    "df.info()"
   ]
  },
  {
   "cell_type": "code",
   "execution_count": 7,
   "id": "94db7f97",
   "metadata": {},
   "outputs": [
    {
     "data": {
      "text/plain": [
       "(146072, 4)"
      ]
     },
     "execution_count": 7,
     "metadata": {},
     "output_type": "execute_result"
    }
   ],
   "source": [
    "df.shape"
   ]
  },
  {
   "cell_type": "code",
   "execution_count": 8,
   "id": "c566f123",
   "metadata": {},
   "outputs": [
    {
     "data": {
      "text/html": [
       "<div>\n",
       "<style scoped>\n",
       "    .dataframe tbody tr th:only-of-type {\n",
       "        vertical-align: middle;\n",
       "    }\n",
       "\n",
       "    .dataframe tbody tr th {\n",
       "        vertical-align: top;\n",
       "    }\n",
       "\n",
       "    .dataframe thead th {\n",
       "        text-align: right;\n",
       "    }\n",
       "</style>\n",
       "<table border=\"1\" class=\"dataframe\">\n",
       "  <thead>\n",
       "    <tr style=\"text-align: right;\">\n",
       "      <th></th>\n",
       "      <th>FilePath</th>\n",
       "      <th>CreationDate</th>\n",
       "      <th>LastModificationDate</th>\n",
       "      <th>SizeMB</th>\n",
       "    </tr>\n",
       "  </thead>\n",
       "  <tbody>\n",
       "    <tr>\n",
       "      <th>81932</th>\n",
       "      <td>/Volumes/MUPU 4TB 1/MUPU 500GB/Fotos/T1-(2017-...</td>\n",
       "      <td>2021-08-07 21:55:06</td>\n",
       "      <td>2019-08-28 03:18:26</td>\n",
       "      <td>0.01817</td>\n",
       "    </tr>\n",
       "    <tr>\n",
       "      <th>73605</th>\n",
       "      <td>/Volumes/MUPU 4TB 1/MUPU 500GB/Fotos/T1-(2012-...</td>\n",
       "      <td>2021-08-07 21:53:42</td>\n",
       "      <td>2019-08-28 04:05:36</td>\n",
       "      <td>0.00611</td>\n",
       "    </tr>\n",
       "    <tr>\n",
       "      <th>26680</th>\n",
       "      <td>/Volumes/MUPU 4TB 1/MUPU 500GB/Fotos/(2017-10-...</td>\n",
       "      <td>2021-08-07 20:31:41</td>\n",
       "      <td>2019-08-28 03:17:59</td>\n",
       "      <td>3.54267</td>\n",
       "    </tr>\n",
       "    <tr>\n",
       "      <th>12271</th>\n",
       "      <td>/Volumes/MUPU 4TB 1/MUPU 500GB/Fotos/(2011-08-...</td>\n",
       "      <td>2021-08-07 19:50:51</td>\n",
       "      <td>2019-08-28 04:04:45</td>\n",
       "      <td>2.33549</td>\n",
       "    </tr>\n",
       "    <tr>\n",
       "      <th>120525</th>\n",
       "      <td>/Volumes/MUPU 4TB 2/202209/20220902_Bebe_Lloro...</td>\n",
       "      <td>2022-09-03 18:16:39</td>\n",
       "      <td>2022-09-03 12:30:20</td>\n",
       "      <td>458.93114</td>\n",
       "    </tr>\n",
       "    <tr>\n",
       "      <th>13589</th>\n",
       "      <td>/Volumes/MUPU 4TB 1/MUPU 500GB/Fotos/(2012-01-...</td>\n",
       "      <td>2021-08-07 19:52:56</td>\n",
       "      <td>2019-08-28 03:58:38</td>\n",
       "      <td>2.54442</td>\n",
       "    </tr>\n",
       "    <tr>\n",
       "      <th>77316</th>\n",
       "      <td>/Volumes/MUPU 4TB 1/MUPU 500GB/Fotos/T1-(2016-...</td>\n",
       "      <td>2021-08-07 21:54:19</td>\n",
       "      <td>2019-08-28 03:27:52</td>\n",
       "      <td>0.01217</td>\n",
       "    </tr>\n",
       "    <tr>\n",
       "      <th>75306</th>\n",
       "      <td>/Volumes/MUPU 4TB 1/MUPU 500GB/Fotos/T1-(2013-...</td>\n",
       "      <td>2021-08-07 21:53:58</td>\n",
       "      <td>2019-08-28 04:19:38</td>\n",
       "      <td>0.01872</td>\n",
       "    </tr>\n",
       "    <tr>\n",
       "      <th>13544</th>\n",
       "      <td>/Volumes/MUPU 4TB 1/MUPU 500GB/Fotos/(2012-01-...</td>\n",
       "      <td>2021-08-07 19:52:51</td>\n",
       "      <td>2019-08-28 03:04:20</td>\n",
       "      <td>3.66641</td>\n",
       "    </tr>\n",
       "    <tr>\n",
       "      <th>782</th>\n",
       "      <td>/Volumes/MUPU 4TB 1/code/nuclio_0922_wip/7_COS...</td>\n",
       "      <td>2023-01-07 17:00:12</td>\n",
       "      <td>2023-01-07 16:47:24</td>\n",
       "      <td>0.07035</td>\n",
       "    </tr>\n",
       "  </tbody>\n",
       "</table>\n",
       "</div>"
      ],
      "text/plain": [
       "                                                 FilePath  \\\n",
       "81932   /Volumes/MUPU 4TB 1/MUPU 500GB/Fotos/T1-(2017-...   \n",
       "73605   /Volumes/MUPU 4TB 1/MUPU 500GB/Fotos/T1-(2012-...   \n",
       "26680   /Volumes/MUPU 4TB 1/MUPU 500GB/Fotos/(2017-10-...   \n",
       "12271   /Volumes/MUPU 4TB 1/MUPU 500GB/Fotos/(2011-08-...   \n",
       "120525  /Volumes/MUPU 4TB 2/202209/20220902_Bebe_Lloro...   \n",
       "13589   /Volumes/MUPU 4TB 1/MUPU 500GB/Fotos/(2012-01-...   \n",
       "77316   /Volumes/MUPU 4TB 1/MUPU 500GB/Fotos/T1-(2016-...   \n",
       "75306   /Volumes/MUPU 4TB 1/MUPU 500GB/Fotos/T1-(2013-...   \n",
       "13544   /Volumes/MUPU 4TB 1/MUPU 500GB/Fotos/(2012-01-...   \n",
       "782     /Volumes/MUPU 4TB 1/code/nuclio_0922_wip/7_COS...   \n",
       "\n",
       "               CreationDate LastModificationDate    SizeMB  \n",
       "81932   2021-08-07 21:55:06  2019-08-28 03:18:26   0.01817  \n",
       "73605   2021-08-07 21:53:42  2019-08-28 04:05:36   0.00611  \n",
       "26680   2021-08-07 20:31:41  2019-08-28 03:17:59   3.54267  \n",
       "12271   2021-08-07 19:50:51  2019-08-28 04:04:45   2.33549  \n",
       "120525  2022-09-03 18:16:39  2022-09-03 12:30:20 458.93114  \n",
       "13589   2021-08-07 19:52:56  2019-08-28 03:58:38   2.54442  \n",
       "77316   2021-08-07 21:54:19  2019-08-28 03:27:52   0.01217  \n",
       "75306   2021-08-07 21:53:58  2019-08-28 04:19:38   0.01872  \n",
       "13544   2021-08-07 19:52:51  2019-08-28 03:04:20   3.66641  \n",
       "782     2023-01-07 17:00:12  2023-01-07 16:47:24   0.07035  "
      ]
     },
     "execution_count": 8,
     "metadata": {},
     "output_type": "execute_result"
    }
   ],
   "source": [
    "df.sample(10)"
   ]
  },
  {
   "cell_type": "markdown",
   "id": "7ef72a65",
   "metadata": {},
   "source": [
    "# Duplicado: todo fichero que ha sido creado, modificado y tiene el mismo tamaño."
   ]
  },
  {
   "cell_type": "code",
   "execution_count": 9,
   "id": "baa5296c",
   "metadata": {},
   "outputs": [],
   "source": [
    "def custom_mapping(file_extension):\n",
    "    \n",
    "    if str.lower(file_extension) in TOP_FILE_EXTENSIONS.keys():\n",
    "        return TOP_FILE_EXTENSIONS[str.lower(file_extension)]\n",
    "    else:\n",
    "        return \"na\""
   ]
  },
  {
   "cell_type": "code",
   "execution_count": 10,
   "id": "7fdf6fb6",
   "metadata": {},
   "outputs": [],
   "source": [
    "df = (\n",
    "    df\n",
    "    .assign(\n",
    "        FileName = df[\"FilePath\"].apply(os.path.basename),\n",
    "        FileExtension = df[\"FilePath\"].apply(lambda file_path: str.lower(os.path.splitext(file_path)[1])),\n",
    "        FileType = lambda df: df[\"FileExtension\"].apply(custom_mapping)\n",
    "    )\n",
    ")"
   ]
  },
  {
   "cell_type": "code",
   "execution_count": 12,
   "id": "b278e80c",
   "metadata": {},
   "outputs": [],
   "source": [
    "photos = df[df[\"FileType\"] == \"photo\"]"
   ]
  },
  {
   "cell_type": "code",
   "execution_count": 14,
   "id": "e6c9d767",
   "metadata": {},
   "outputs": [],
   "source": [
    "photos.to_parquet(\"photos.parquet.gzip\")"
   ]
  },
  {
   "cell_type": "code",
   "execution_count": null,
   "id": "d8e17a7d",
   "metadata": {},
   "outputs": [],
   "source": [
    "top_file_extesions = (\n",
    "    pd.concat(\n",
    "    [\n",
    "        df[\"FileExtension\"].value_counts(),\n",
    "        df[\"FileExtension\"].value_counts(normalize = True)\n",
    "    ],\n",
    "    axis = 1\n",
    "    )\n",
    "    .assign(\n",
    "        CumSum = lambda df: df[\"proportion\"].cumsum()\n",
    "    )\n",
    ")"
   ]
  },
  {
   "cell_type": "code",
   "execution_count": null,
   "id": "249d2f5e",
   "metadata": {},
   "outputs": [],
   "source": [
    "# Using top 20 file extesions we created the TOP_FILE_EXTENSIONS\n",
    "# and mapped it to the file type (audio, video, photo etc)\n",
    "top_file_extesions.head(20)"
   ]
  },
  {
   "cell_type": "code",
   "execution_count": null,
   "id": "a5671f04",
   "metadata": {},
   "outputs": [],
   "source": [
    "file_size_and_counter_by_type = (\n",
    "    df\n",
    "    .groupby([\"FileExtension\", \"FileType\"])\n",
    "    .agg(\n",
    "        NrFiles = (\"FilePath\", len),\n",
    "        TotalSizeMB = (\"SizeMB\", np.sum),\n",
    "        TotalSizeGB = (\"SizeMB\", lambda series: np.sum(series)/(1024)) # GB\n",
    "    )\n",
    "    .reset_index()\n",
    "    .assign(\n",
    "        NrFilesByType = lambda df: df.groupby(\"FileType\")[\"NrFiles\"].transform(np.sum),\n",
    "        TotalSizeMBByType = lambda df: df.groupby(\"FileType\")[\"TotalSizeMB\"].transform(np.sum),\n",
    "        PctNrFilesByType = lambda df: df[\"NrFiles\"]/df[\"NrFilesByType\"],\n",
    "        PctSizeMBByType = lambda df: df[\"TotalSizeMB\"]/df[\"TotalSizeMBByType\"]\n",
    "    )\n",
    "    .query(\"FileType == 'video' or FileType == 'photo'\")\n",
    "    .sort_values(\"FileType\", ascending = False)\n",
    ")"
   ]
  },
  {
   "cell_type": "code",
   "execution_count": null,
   "id": "35f70f16",
   "metadata": {},
   "outputs": [],
   "source": [
    "file_size_and_counter_by_type"
   ]
  },
  {
   "cell_type": "code",
   "execution_count": null,
   "id": "895d6bf2",
   "metadata": {},
   "outputs": [],
   "source": [
    "df = df[df[\"FileType\"].isin([\"photo\", \"video\"])]"
   ]
  },
  {
   "cell_type": "code",
   "execution_count": null,
   "id": "1dc565b1",
   "metadata": {},
   "outputs": [],
   "source": [
    "df.sort_values([\"CreationDate\", \"LastModificationDate\", \"SizeMB\"], inplace = True)"
   ]
  },
  {
   "cell_type": "code",
   "execution_count": null,
   "id": "14fe5e7c",
   "metadata": {},
   "outputs": [],
   "source": [
    "df[\"Counter\"] = df.groupby(\n",
    "    [\n",
    "        # \"FileName\",\n",
    "        \"CreationDate\",\n",
    "        \"LastModificationDate\",\n",
    "        \"SizeMB\"\n",
    "    ]\n",
    ")[\"FilePath\"].transform(len)"
   ]
  },
  {
   "cell_type": "code",
   "execution_count": null,
   "id": "20f113bf",
   "metadata": {},
   "outputs": [],
   "source": [
    "df[\"Counter\"].value_counts()"
   ]
  },
  {
   "cell_type": "code",
   "execution_count": null,
   "id": "a8ee5a06",
   "metadata": {},
   "outputs": [],
   "source": [
    "df.loc[998]"
   ]
  },
  {
   "cell_type": "code",
   "execution_count": null,
   "id": "46debccb",
   "metadata": {},
   "outputs": [],
   "source": [
    "df[\n",
    "    (df[\"CreationDate\"] == \"2023-01-07 16:58:38\") &\n",
    "    (df[\"LastModificationDate\"] == \"2020-11-14 17:26:00\") & \n",
    "    (df[\"SizeMB\"] > 3)\n",
    "]"
   ]
  },
  {
   "cell_type": "code",
   "execution_count": null,
   "id": "fdd5136c",
   "metadata": {},
   "outputs": [],
   "source": [
    "path_ = df.loc[35009][\"FilePath\"]\n",
    "path_ = df.loc[35010][\"FilePath\"]\n",
    "path_ = df.loc[35014][\"FilePath\"]\n",
    "\n",
    "path_ = df.loc[69525][\"FilePath\"]\n",
    "\n",
    "# path_ = df.loc[93741][\"FilePath\"]\n",
    "\n",
    "path_ = df.loc[998][\"FilePath\"]\n",
    "path_ = df.loc[1004][\"FilePath\"]\n",
    "\n",
    "path_ = df.loc[1000][\"FilePath\"]\n",
    "# path_ = df.loc[997][\"FilePath\"]"
   ]
  },
  {
   "cell_type": "code",
   "execution_count": null,
   "id": "6f7b56db",
   "metadata": {},
   "outputs": [],
   "source": [
    "path_"
   ]
  },
  {
   "cell_type": "code",
   "execution_count": null,
   "id": "fd28a844",
   "metadata": {},
   "outputs": [],
   "source": [
    "img = mpimg.imread(path_)\n",
    "imgplot = plt.imshow(img)\n",
    "plt.show()"
   ]
  },
  {
   "cell_type": "markdown",
   "id": "6287f01f",
   "metadata": {},
   "source": [
    "# sha256 in python"
   ]
  },
  {
   "cell_type": "code",
   "execution_count": 19,
   "id": "e80e19b9",
   "metadata": {},
   "outputs": [],
   "source": [
    "def calculate_sha256_of_image(file_path):\n",
    "    \n",
    "    from hashlib import sha256\n",
    "    print(file_path)\n",
    "    with open(file_path, \"rb\") as f:\n",
    "        content = f.read()\n",
    "        content_in_bytes = bytearray(content)\n",
    "    \n",
    "    sha256_img = sha256(string = content_in_bytes).hexdigest()\n",
    "    \n",
    "    return sha256_img"
   ]
  },
  {
   "cell_type": "code",
   "execution_count": 20,
   "id": "1217a5f2",
   "metadata": {},
   "outputs": [
    {
     "name": "stdout",
     "output_type": "stream",
     "text": [
      "/Volumes/MUPU 4TB 1/code/python10pm_repo/pythoneando-main/Video_3_principios_básicos_de_la_programación/Archivos/CosmoCaixa/IMG_20200903_122929.jpg\n"
     ]
    },
    {
     "data": {
      "text/plain": [
       "'60b17f6fe383e430532091b1c3a2ea06371cef19777d7090dc19c8d0e96c4e78'"
      ]
     },
     "execution_count": 20,
     "metadata": {},
     "output_type": "execute_result"
    }
   ],
   "source": [
    "calculate_sha256_of_image(\n",
    "    file_path = df.loc[998][\"FilePath\"]\n",
    ")"
   ]
  },
  {
   "cell_type": "code",
   "execution_count": 21,
   "id": "f6bcd1a4",
   "metadata": {},
   "outputs": [
    {
     "name": "stdout",
     "output_type": "stream",
     "text": [
      "/Volumes/MUPU 4TB 1/code/python10pm_repo/pythoneando-main/Video_3_principios_básicos_de_la_programación/Ficheros_conjuntos/IMG_20200903_122929.jpg\n"
     ]
    },
    {
     "data": {
      "text/plain": [
       "'60b17f6fe383e430532091b1c3a2ea06371cef19777d7090dc19c8d0e96c4e78'"
      ]
     },
     "execution_count": 21,
     "metadata": {},
     "output_type": "execute_result"
    }
   ],
   "source": [
    "calculate_sha256_of_image(\n",
    "    file_path = df.loc[1004][\"FilePath\"]\n",
    ")"
   ]
  },
  {
   "cell_type": "code",
   "execution_count": 22,
   "id": "a46ed0dd",
   "metadata": {},
   "outputs": [
    {
     "name": "stdout",
     "output_type": "stream",
     "text": [
      "/Volumes/MUPU 4TB 1/code/python10pm_repo/pythoneando-main/Video_6_if_name_main/input/IMG_20200903_122929.jpg\n"
     ]
    },
    {
     "data": {
      "text/plain": [
       "'60b17f6fe383e430532091b1c3a2ea06371cef19777d7090dc19c8d0e96c4e78'"
      ]
     },
     "execution_count": 22,
     "metadata": {},
     "output_type": "execute_result"
    }
   ],
   "source": [
    "calculate_sha256_of_image(\n",
    "    file_path = df.loc[1023][\"FilePath\"]\n",
    ")"
   ]
  },
  {
   "cell_type": "code",
   "execution_count": null,
   "id": "56642ed1",
   "metadata": {},
   "outputs": [],
   "source": [
    "calculate_sha256_of_image(\n",
    "    file_path = df.loc[1000][\"FilePath\"]\n",
    ")"
   ]
  },
  {
   "cell_type": "code",
   "execution_count": null,
   "id": "d917eb1d",
   "metadata": {},
   "outputs": [],
   "source": [
    "calculate_sha256_of_image(\n",
    "    file_path = df.loc[1006][\"FilePath\"]\n",
    ")"
   ]
  },
  {
   "cell_type": "code",
   "execution_count": null,
   "id": "5939eabe",
   "metadata": {},
   "outputs": [],
   "source": [
    "calculate_sha256_of_image(\n",
    "    file_path = df.loc[1025][\"FilePath\"]\n",
    ")"
   ]
  },
  {
   "cell_type": "code",
   "execution_count": null,
   "id": "6dd0df7f",
   "metadata": {},
   "outputs": [],
   "source": []
  },
  {
   "cell_type": "code",
   "execution_count": null,
   "id": "5c73d7a1",
   "metadata": {},
   "outputs": [],
   "source": []
  },
  {
   "cell_type": "code",
   "execution_count": null,
   "id": "c53f8678",
   "metadata": {},
   "outputs": [],
   "source": []
  },
  {
   "cell_type": "code",
   "execution_count": null,
   "id": "bf1f1e94",
   "metadata": {},
   "outputs": [],
   "source": []
  }
 ],
 "metadata": {
  "kernelspec": {
   "display_name": "env_main",
   "language": "python",
   "name": "env_main"
  },
  "language_info": {
   "codemirror_mode": {
    "name": "ipython",
    "version": 3
   },
   "file_extension": ".py",
   "mimetype": "text/x-python",
   "name": "python",
   "nbconvert_exporter": "python",
   "pygments_lexer": "ipython3",
   "version": "3.10.14"
  }
 },
 "nbformat": 4,
 "nbformat_minor": 5
}
