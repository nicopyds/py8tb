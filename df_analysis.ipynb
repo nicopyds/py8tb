{
 "cells": [
  {
   "cell_type": "code",
   "execution_count": 9,
   "id": "ea5a3076",
   "metadata": {},
   "outputs": [],
   "source": [
    "import os\n",
    "import pandas as pd"
   ]
  },
  {
   "cell_type": "code",
   "execution_count": 10,
   "id": "6757375e",
   "metadata": {},
   "outputs": [
    {
     "name": "stdout",
     "output_type": "stream",
     "text": [
      "df_2024_06_22_19_21_36.parquet.gzip df_analysis.ipynb\r\n",
      "df_2024_06_22_19_24_53.parquet.gzip indexator.py\r\n"
     ]
    }
   ],
   "source": [
    "! ls"
   ]
  },
  {
   "cell_type": "code",
   "execution_count": 11,
   "id": "9b4cf961",
   "metadata": {},
   "outputs": [],
   "source": [
    "CWD = os.getcwd()\n",
    "DF_PATH = os.path.join(CWD, \"df_2024_06_22_19_24_53.parquet.gzip\")"
   ]
  },
  {
   "cell_type": "code",
   "execution_count": 12,
   "id": "41f896f6",
   "metadata": {},
   "outputs": [],
   "source": [
    "df = pd.read_parquet(path = DF_PATH)"
   ]
  },
  {
   "cell_type": "code",
   "execution_count": 14,
   "id": "2303b92c",
   "metadata": {},
   "outputs": [
    {
     "name": "stdout",
     "output_type": "stream",
     "text": [
      "<class 'pandas.core.frame.DataFrame'>\n",
      "RangeIndex: 146072 entries, 0 to 146071\n",
      "Data columns (total 4 columns):\n",
      " #   Column                Non-Null Count   Dtype  \n",
      "---  ------                --------------   -----  \n",
      " 0   FilePath              146072 non-null  object \n",
      " 1   CreationDate          146072 non-null  object \n",
      " 2   LastModificationDate  146072 non-null  object \n",
      " 3   SizeMB                146072 non-null  float64\n",
      "dtypes: float64(1), object(3)\n",
      "memory usage: 4.5+ MB\n"
     ]
    }
   ],
   "source": [
    "df.info()"
   ]
  },
  {
   "cell_type": "code",
   "execution_count": 25,
   "id": "546eab95",
   "metadata": {},
   "outputs": [],
   "source": [
    "df.sort_values([\"CreationDate\", \"LastModificationDate\", \"SizeMB\"], inplace = True)"
   ]
  },
  {
   "cell_type": "code",
   "execution_count": 26,
   "id": "d6c093b2",
   "metadata": {},
   "outputs": [],
   "source": [
    "df[\"Duplicate\"] = df.groupby([\"CreationDate\", \"LastModificationDate\", \"SizeMB\"])[\"FilePath\"].transform(\n",
    "    lambda series: len(series)\n",
    ")"
   ]
  },
  {
   "cell_type": "code",
   "execution_count": 36,
   "id": "a2421953",
   "metadata": {},
   "outputs": [],
   "source": [
    "df[\"FileName\"] = df[\"FilePath\"].apply(os.path.basename)\n",
    "df[\"FileExtension\"] = df[\"FilePath\"].apply(lambda file_path: os.path.splitext(file_path)[1])"
   ]
  },
  {
   "cell_type": "code",
   "execution_count": 40,
   "id": "f29807a9",
   "metadata": {},
   "outputs": [],
   "source": [
    "df[\"FileExtension\"] = df[\"FileExtension\"].apply(str.lower)"
   ]
  },
  {
   "cell_type": "code",
   "execution_count": 42,
   "id": "f393178c",
   "metadata": {},
   "outputs": [
    {
     "data": {
      "text/plain": [
       "FileExtension\n",
       ".jpg           60917\n",
       ".jpeg          49586\n",
       ".mp4           17539\n",
       ".file           4100\n",
       ".heic           2922\n",
       "               ...  \n",
       ".sqlite-shm        1\n",
       ".mp4_              1\n",
       ".flv               1\n",
       ".sdocx             1\n",
       ".sqlite-wal        1\n",
       "Name: count, Length: 124, dtype: int64"
      ]
     },
     "execution_count": 42,
     "metadata": {},
     "output_type": "execute_result"
    }
   ],
   "source": [
    "df[\"FileExtension\"].value_counts()"
   ]
  },
  {
   "cell_type": "code",
   "execution_count": 43,
   "id": "bdaa9656",
   "metadata": {},
   "outputs": [
    {
     "data": {
      "text/html": [
       "<div>\n",
       "<style scoped>\n",
       "    .dataframe tbody tr th:only-of-type {\n",
       "        vertical-align: middle;\n",
       "    }\n",
       "\n",
       "    .dataframe tbody tr th {\n",
       "        vertical-align: top;\n",
       "    }\n",
       "\n",
       "    .dataframe thead th {\n",
       "        text-align: right;\n",
       "    }\n",
       "</style>\n",
       "<table border=\"1\" class=\"dataframe\">\n",
       "  <thead>\n",
       "    <tr style=\"text-align: right;\">\n",
       "      <th></th>\n",
       "      <th>FilePath</th>\n",
       "      <th>CreationDate</th>\n",
       "      <th>LastModificationDate</th>\n",
       "      <th>SizeMB</th>\n",
       "      <th>Duplicate</th>\n",
       "      <th>FileName</th>\n",
       "      <th>FileExtension</th>\n",
       "    </tr>\n",
       "  </thead>\n",
       "  <tbody>\n",
       "    <tr>\n",
       "      <th>107447</th>\n",
       "      <td>/Volumes/MUPU 4TB 1/Nuclio/02_nuclio_np_0421/....</td>\n",
       "      <td>2021-08-03 17:44:55</td>\n",
       "      <td>2021-04-18 00:05:34</td>\n",
       "      <td>0.005598</td>\n",
       "      <td>2</td>\n",
       "      <td>HEAD</td>\n",
       "      <td></td>\n",
       "    </tr>\n",
       "    <tr>\n",
       "      <th>107448</th>\n",
       "      <td>/Volumes/MUPU 4TB 1/Nuclio/02_nuclio_np_0421/....</td>\n",
       "      <td>2021-08-03 17:44:55</td>\n",
       "      <td>2021-04-18 00:05:34</td>\n",
       "      <td>0.005598</td>\n",
       "      <td>2</td>\n",
       "      <td>master</td>\n",
       "      <td></td>\n",
       "    </tr>\n",
       "    <tr>\n",
       "      <th>107053</th>\n",
       "      <td>/Volumes/MUPU 4TB 1/Nuclio/01_nuclio_np/.git/l...</td>\n",
       "      <td>2021-08-03 17:50:04</td>\n",
       "      <td>2021-04-18 00:05:34</td>\n",
       "      <td>0.005598</td>\n",
       "      <td>2</td>\n",
       "      <td>HEAD</td>\n",
       "      <td></td>\n",
       "    </tr>\n",
       "    <tr>\n",
       "      <th>107054</th>\n",
       "      <td>/Volumes/MUPU 4TB 1/Nuclio/01_nuclio_np/.git/l...</td>\n",
       "      <td>2021-08-03 17:50:04</td>\n",
       "      <td>2021-04-18 00:05:34</td>\n",
       "      <td>0.005598</td>\n",
       "      <td>2</td>\n",
       "      <td>master</td>\n",
       "      <td></td>\n",
       "    </tr>\n",
       "    <tr>\n",
       "      <th>107330</th>\n",
       "      <td>/Volumes/MUPU 4TB 1/Nuclio/01_nuclio_np/T1_2_U...</td>\n",
       "      <td>2021-08-03 17:51:28</td>\n",
       "      <td>2021-07-31 11:12:25</td>\n",
       "      <td>0.026783</td>\n",
       "      <td>2</td>\n",
       "      <td>Hyperparameters Optimization 31072021.ipynb</td>\n",
       "      <td>.ipynb</td>\n",
       "    </tr>\n",
       "    <tr>\n",
       "      <th>...</th>\n",
       "      <td>...</td>\n",
       "      <td>...</td>\n",
       "      <td>...</td>\n",
       "      <td>...</td>\n",
       "      <td>...</td>\n",
       "      <td>...</td>\n",
       "      <td>...</td>\n",
       "    </tr>\n",
       "    <tr>\n",
       "      <th>1753</th>\n",
       "      <td>/Volumes/MUPU 4TB 1/code backup 24022024/Nucli...</td>\n",
       "      <td>2024-02-24 18:35:40</td>\n",
       "      <td>2022-06-07 20:05:51</td>\n",
       "      <td>0.035661</td>\n",
       "      <td>2</td>\n",
       "      <td>EDA-checkpoint.ipynb</td>\n",
       "      <td>.ipynb</td>\n",
       "    </tr>\n",
       "    <tr>\n",
       "      <th>1751</th>\n",
       "      <td>/Volumes/MUPU 4TB 1/code backup 24022024/Nucli...</td>\n",
       "      <td>2024-02-24 18:35:40</td>\n",
       "      <td>2022-07-03 09:50:18</td>\n",
       "      <td>0.057494</td>\n",
       "      <td>2</td>\n",
       "      <td>TRATAMIENTO_CONJUNTO.ipynb</td>\n",
       "      <td>.ipynb</td>\n",
       "    </tr>\n",
       "    <tr>\n",
       "      <th>1755</th>\n",
       "      <td>/Volumes/MUPU 4TB 1/code backup 24022024/Nucli...</td>\n",
       "      <td>2024-02-24 18:35:40</td>\n",
       "      <td>2022-07-03 09:50:18</td>\n",
       "      <td>0.057494</td>\n",
       "      <td>2</td>\n",
       "      <td>TRATAMIENTO_CONJUNTO-checkpoint.ipynb</td>\n",
       "      <td>.ipynb</td>\n",
       "    </tr>\n",
       "    <tr>\n",
       "      <th>1747</th>\n",
       "      <td>/Volumes/MUPU 4TB 1/code backup 24022024/Nucli...</td>\n",
       "      <td>2024-02-24 18:35:40</td>\n",
       "      <td>2022-07-03 09:50:23</td>\n",
       "      <td>0.238635</td>\n",
       "      <td>2</td>\n",
       "      <td>EXPERIMENTAL.ipynb</td>\n",
       "      <td>.ipynb</td>\n",
       "    </tr>\n",
       "    <tr>\n",
       "      <th>1754</th>\n",
       "      <td>/Volumes/MUPU 4TB 1/code backup 24022024/Nucli...</td>\n",
       "      <td>2024-02-24 18:35:40</td>\n",
       "      <td>2022-07-03 09:50:23</td>\n",
       "      <td>0.238635</td>\n",
       "      <td>2</td>\n",
       "      <td>EXPERIMENTAL-checkpoint.ipynb</td>\n",
       "      <td>.ipynb</td>\n",
       "    </tr>\n",
       "  </tbody>\n",
       "</table>\n",
       "<p>14489 rows × 7 columns</p>\n",
       "</div>"
      ],
      "text/plain": [
       "                                                 FilePath  \\\n",
       "107447  /Volumes/MUPU 4TB 1/Nuclio/02_nuclio_np_0421/....   \n",
       "107448  /Volumes/MUPU 4TB 1/Nuclio/02_nuclio_np_0421/....   \n",
       "107053  /Volumes/MUPU 4TB 1/Nuclio/01_nuclio_np/.git/l...   \n",
       "107054  /Volumes/MUPU 4TB 1/Nuclio/01_nuclio_np/.git/l...   \n",
       "107330  /Volumes/MUPU 4TB 1/Nuclio/01_nuclio_np/T1_2_U...   \n",
       "...                                                   ...   \n",
       "1753    /Volumes/MUPU 4TB 1/code backup 24022024/Nucli...   \n",
       "1751    /Volumes/MUPU 4TB 1/code backup 24022024/Nucli...   \n",
       "1755    /Volumes/MUPU 4TB 1/code backup 24022024/Nucli...   \n",
       "1747    /Volumes/MUPU 4TB 1/code backup 24022024/Nucli...   \n",
       "1754    /Volumes/MUPU 4TB 1/code backup 24022024/Nucli...   \n",
       "\n",
       "               CreationDate LastModificationDate    SizeMB  Duplicate  \\\n",
       "107447  2021-08-03 17:44:55  2021-04-18 00:05:34  0.005598          2   \n",
       "107448  2021-08-03 17:44:55  2021-04-18 00:05:34  0.005598          2   \n",
       "107053  2021-08-03 17:50:04  2021-04-18 00:05:34  0.005598          2   \n",
       "107054  2021-08-03 17:50:04  2021-04-18 00:05:34  0.005598          2   \n",
       "107330  2021-08-03 17:51:28  2021-07-31 11:12:25  0.026783          2   \n",
       "...                     ...                  ...       ...        ...   \n",
       "1753    2024-02-24 18:35:40  2022-06-07 20:05:51  0.035661          2   \n",
       "1751    2024-02-24 18:35:40  2022-07-03 09:50:18  0.057494          2   \n",
       "1755    2024-02-24 18:35:40  2022-07-03 09:50:18  0.057494          2   \n",
       "1747    2024-02-24 18:35:40  2022-07-03 09:50:23  0.238635          2   \n",
       "1754    2024-02-24 18:35:40  2022-07-03 09:50:23  0.238635          2   \n",
       "\n",
       "                                           FileName FileExtension  \n",
       "107447                                         HEAD                \n",
       "107448                                       master                \n",
       "107053                                         HEAD                \n",
       "107054                                       master                \n",
       "107330  Hyperparameters Optimization 31072021.ipynb        .ipynb  \n",
       "...                                             ...           ...  \n",
       "1753                           EDA-checkpoint.ipynb        .ipynb  \n",
       "1751                     TRATAMIENTO_CONJUNTO.ipynb        .ipynb  \n",
       "1755          TRATAMIENTO_CONJUNTO-checkpoint.ipynb        .ipynb  \n",
       "1747                             EXPERIMENTAL.ipynb        .ipynb  \n",
       "1754                  EXPERIMENTAL-checkpoint.ipynb        .ipynb  \n",
       "\n",
       "[14489 rows x 7 columns]"
      ]
     },
     "execution_count": 43,
     "metadata": {},
     "output_type": "execute_result"
    }
   ],
   "source": [
    "df[df[\"Duplicate\"] != 1]"
   ]
  },
  {
   "cell_type": "code",
   "execution_count": 32,
   "id": "dd91382e",
   "metadata": {},
   "outputs": [
    {
     "data": {
      "text/plain": [
       "['/Volumes/MUPU 4TB 1/code backup 24022024/.DS_Store',\n",
       " '/Volumes/MUPU 4TB 1/.DS_Store']"
      ]
     },
     "execution_count": 32,
     "metadata": {},
     "output_type": "execute_result"
    }
   ],
   "source": [
    "df.tail(2)[\"FilePath\"].tolist()"
   ]
  },
  {
   "cell_type": "code",
   "execution_count": null,
   "id": "4458ef78",
   "metadata": {},
   "outputs": [],
   "source": []
  }
 ],
 "metadata": {
  "kernelspec": {
   "display_name": "env_main",
   "language": "python",
   "name": "env_main"
  },
  "language_info": {
   "codemirror_mode": {
    "name": "ipython",
    "version": 3
   },
   "file_extension": ".py",
   "mimetype": "text/x-python",
   "name": "python",
   "nbconvert_exporter": "python",
   "pygments_lexer": "ipython3",
   "version": "3.10.14"
  }
 },
 "nbformat": 4,
 "nbformat_minor": 5
}
